{
 "cells": [
  {
   "cell_type": "markdown",
   "id": "fe3a1e2b",
   "metadata": {},
   "source": [
    "python program to find numbers divisible by another number"
   ]
  },
  {
   "cell_type": "code",
   "execution_count": 1,
   "id": "a93db719",
   "metadata": {},
   "outputs": [
    {
     "name": "stdout",
     "output_type": "stream",
     "text": [
      "enter divisor :13\n",
      "13 26 39 52 65 78 91 "
     ]
    }
   ],
   "source": [
    "num=int(input('enter divisor :'))\n",
    "for i in range(1,100):\n",
    "    if i%num==0:\n",
    "        print(i,end=' ')\n",
    "    "
   ]
  },
  {
   "cell_type": "code",
   "execution_count": 3,
   "id": "caccef20",
   "metadata": {},
   "outputs": [],
   "source": [
    "def check(num):\n",
    "    for i in range(1,100):\n",
    "        if i%num==0:\n",
    "            print(i,end=' ')"
   ]
  },
  {
   "cell_type": "code",
   "execution_count": 4,
   "id": "13509f29",
   "metadata": {},
   "outputs": [
    {
     "name": "stdout",
     "output_type": "stream",
     "text": [
      " enter divisor13\n",
      "13 26 39 52 65 78 91 "
     ]
    }
   ],
   "source": [
    "num=int(input(\" enter divisor\"))\n",
    "check(num)"
   ]
  },
  {
   "cell_type": "code",
   "execution_count": 6,
   "id": "ef6c0896",
   "metadata": {},
   "outputs": [
    {
     "name": "stdout",
     "output_type": "stream",
     "text": [
      "number divisible by 13 are : [26, 39]\n"
     ]
    }
   ],
   "source": [
    "#by using lambda function and filter function\n",
    "l=[39,48,26,98,33,67]\n",
    "result=list(filter(lambda x:x%13==0,l))\n",
    "print('number divisible by 13 are :',sorted(result))"
   ]
  },
  {
   "cell_type": "markdown",
   "id": "2af407cd",
   "metadata": {},
   "source": [
    "print ASCII value of character"
   ]
  },
  {
   "cell_type": "code",
   "execution_count": 12,
   "id": "1db3bf94",
   "metadata": {},
   "outputs": [
    {
     "name": "stdout",
     "output_type": "stream",
     "text": [
      "$\n",
      "ASCII Value of  $ is 36\n"
     ]
    }
   ],
   "source": [
    "char=input()\n",
    "print('ASCII Value of ',char ,'is',ord(char))"
   ]
  },
  {
   "cell_type": "markdown",
   "id": "27cc563e",
   "metadata": {},
   "source": [
    "find HCF & GCD"
   ]
  },
  {
   "cell_type": "code",
   "execution_count": 41,
   "id": "a65a23a8",
   "metadata": {},
   "outputs": [],
   "source": [
    "def cal_HCF(num1, num2):\n",
    "    smaller = min(num1, num2)\n",
    "    for i in range(1, smaller + 1):\n",
    "        if num1 % i == 0 and num2 % i == 0:\n",
    "            hcf = i\n",
    "    return hcf"
   ]
  },
  {
   "cell_type": "code",
   "execution_count": 43,
   "id": "cfd75875",
   "metadata": {},
   "outputs": [
    {
     "name": "stdout",
     "output_type": "stream",
     "text": [
      "enter number :12\n",
      "enter number :30\n"
     ]
    },
    {
     "data": {
      "text/plain": [
       "6"
      ]
     },
     "execution_count": 43,
     "metadata": {},
     "output_type": "execute_result"
    }
   ],
   "source": [
    "num1=int(input(\"enter number :\"))\n",
    "num2=int(input(\"enter number :\"))\n",
    "cal_HCF(num1,num2)\n"
   ]
  },
  {
   "cell_type": "code",
   "execution_count": 45,
   "id": "1e2b9f6d",
   "metadata": {},
   "outputs": [
    {
     "name": "stdout",
     "output_type": "stream",
     "text": [
      "enter number :18\n",
      "enter number :24\n",
      "6\n"
     ]
    }
   ],
   "source": [
    "#by using built-in function\n",
    "import math\n",
    "num1=int(input(\"enter number :\"))\n",
    "num2=int(input(\"enter number :\"))\n",
    "hcf=math.gcd(num1,num2)\n",
    "print(hcf)"
   ]
  },
  {
   "cell_type": "markdown",
   "id": "ad8cb148",
   "metadata": {},
   "source": [
    "factors of number"
   ]
  },
  {
   "cell_type": "code",
   "execution_count": 51,
   "id": "17d4f485",
   "metadata": {},
   "outputs": [
    {
     "name": "stdout",
     "output_type": "stream",
     "text": [
      "enter number :12\n",
      "factors of 12 is 1\n",
      "factors of 12 is 2\n",
      "factors of 12 is 3\n",
      "factors of 12 is 4\n",
      "factors of 12 is 6\n"
     ]
    }
   ],
   "source": [
    "num=int(input(\"enter number :\"))\n",
    "for i in range(1,num):\n",
    "    if num%i==0:\n",
    "        print('factors of',num,'is',i)\n",
    "        "
   ]
  },
  {
   "cell_type": "markdown",
   "id": "15e5f7fb",
   "metadata": {},
   "source": [
    "make calculator"
   ]
  },
  {
   "cell_type": "code",
   "execution_count": 52,
   "id": "b168fc91",
   "metadata": {},
   "outputs": [
    {
     "name": "stdout",
     "output_type": "stream",
     "text": [
      "Select operation:\n",
      "1. Add\n",
      "2. Subtract\n",
      "3. Multiply\n",
      "4. Divide\n",
      "Enter choice (1/2/3/4): 1\n",
      "Enter first number: 2\n",
      "Enter second number: 3\n",
      "Result: 5.0\n"
     ]
    }
   ],
   "source": [
    "def add(x, y):\n",
    "    return x + y\n",
    "\n",
    "def subtract(x, y):\n",
    "    return x - y\n",
    "\n",
    "def multiply(x, y):\n",
    "    return x * y\n",
    "\n",
    "def divide(x, y):\n",
    "    if y == 0:\n",
    "        return \"Error! Division by zero.\"\n",
    "    else:\n",
    "        return x / y\n",
    "\n",
    "print(\"Select operation:\")\n",
    "print(\"1. Add\")\n",
    "print(\"2. Subtract\")\n",
    "print(\"3. Multiply\")\n",
    "print(\"4. Divide\")\n",
    "\n",
    "while True:\n",
    "    choice = input(\"Enter choice (1/2/3/4): \")\n",
    "\n",
    "    if choice in ('1', '2', '3', '4'):\n",
    "        num1 = float(input(\"Enter first number: \"))\n",
    "        num2 = float(input(\"Enter second number: \"))\n",
    "\n",
    "        if choice == '1':\n",
    "            print(\"Result:\", add(num1, num2))\n",
    "        elif choice == '2':\n",
    "            print(\"Result:\", subtract(num1, num2))\n",
    "        elif choice == '3':\n",
    "            print(\"Result:\", multiply(num1, num2))\n",
    "        elif choice == '4':\n",
    "            print(\"Result:\", divide(num1, num2))\n",
    "        \n",
    "        break\n",
    "    else:\n",
    "        print(\"Invalid Input\")\n"
   ]
  },
  {
   "cell_type": "markdown",
   "id": "bc1d2ed4",
   "metadata": {},
   "source": [
    "shuffle deck of cards"
   ]
  },
  {
   "cell_type": "code",
   "execution_count": 57,
   "id": "bd271126",
   "metadata": {},
   "outputs": [
    {
     "name": "stdout",
     "output_type": "stream",
     "text": [
      "12 of heart\n",
      "13 of spade\n",
      "9 of Diamond\n",
      "6 of club\n",
      "6 of spade\n"
     ]
    }
   ],
   "source": [
    "import random,itertools\n",
    "deck=list(itertools.product(range(1,14),['spade','club','heart','Diamond']))\n",
    "random.shuffle(deck)\n",
    "\n",
    "for i in range(5):\n",
    "    print(deck[i][0],'of',deck[i][1])"
   ]
  },
  {
   "cell_type": "code",
   "execution_count": 59,
   "id": "2de52244",
   "metadata": {},
   "outputs": [
    {
     "name": "stdout",
     "output_type": "stream",
     "text": [
      "Shuffled deck of cards:\n",
      "4 of Hearts\n",
      "Jack of Spades\n",
      "4 of Diamonds\n",
      "Queen of Spades\n",
      "3 of Spades\n",
      "Jack of Diamonds\n",
      "4 of Clubs\n",
      "King of Hearts\n",
      "8 of Spades\n",
      "2 of Hearts\n",
      "King of Clubs\n",
      "8 of Hearts\n",
      "6 of Clubs\n",
      "5 of Spades\n",
      "Jack of Clubs\n",
      "10 of Diamonds\n",
      "Ace of Hearts\n",
      "3 of Hearts\n",
      "9 of Clubs\n",
      "2 of Diamonds\n",
      "King of Diamonds\n",
      "6 of Spades\n",
      "6 of Diamonds\n",
      "10 of Spades\n",
      "7 of Hearts\n",
      "10 of Clubs\n",
      "3 of Diamonds\n",
      "9 of Diamonds\n",
      "5 of Diamonds\n",
      "Queen of Diamonds\n",
      "2 of Spades\n",
      "8 of Clubs\n",
      "Jack of Hearts\n",
      "9 of Spades\n",
      "10 of Hearts\n",
      "4 of Spades\n",
      "6 of Hearts\n",
      "Ace of Spades\n",
      "Queen of Clubs\n",
      "2 of Clubs\n",
      "7 of Clubs\n",
      "7 of Diamonds\n",
      "9 of Hearts\n",
      "3 of Clubs\n",
      "8 of Diamonds\n",
      "Queen of Hearts\n",
      "5 of Clubs\n",
      "7 of Spades\n",
      "5 of Hearts\n",
      "King of Spades\n",
      "Ace of Clubs\n",
      "Ace of Diamonds\n"
     ]
    }
   ],
   "source": [
    "import random\n",
    "\n",
    "# Define a deck of cards\n",
    "suits = ['Hearts', 'Diamonds', 'Clubs', 'Spades']\n",
    "ranks = ['2', '3', '4', '5', '6', '7', '8', '9', '10', 'Jack', 'Queen', 'King', 'Ace']\n",
    "deck = [(rank, suit) for suit in suits for rank in ranks]\n",
    "\n",
    "# Shuffle the deck\n",
    "random.shuffle(deck)\n",
    "\n",
    "# Print the shuffled deck\n",
    "print(\"Shuffled deck of cards:\")\n",
    "for card in deck:\n",
    "    print(card[0], \"of\", card[1])\n"
   ]
  },
  {
   "cell_type": "markdown",
   "id": "1a0c247a",
   "metadata": {},
   "source": [
    "display calendar"
   ]
  },
  {
   "cell_type": "code",
   "execution_count": 63,
   "id": "07842faa",
   "metadata": {},
   "outputs": [
    {
     "name": "stdout",
     "output_type": "stream",
     "text": [
      " enter year :2003\n",
      " enter month :6\n",
      "     June 2003\n",
      "Mo Tu We Th Fr Sa Su\n",
      "                   1\n",
      " 2  3  4  5  6  7  8\n",
      " 9 10 11 12 13 14 15\n",
      "16 17 18 19 20 21 22\n",
      "23 24 25 26 27 28 29\n",
      "30\n",
      "\n"
     ]
    }
   ],
   "source": [
    "import calendar\n",
    "year=int(input(\" enter year :\"))\n",
    "month=int(input(\" enter month :\"))\n",
    "calendar=calendar.month(year,month)\n",
    "print(calendar)"
   ]
  },
  {
   "cell_type": "markdown",
   "id": "b534beb3",
   "metadata": {},
   "source": [
    "fibonacci sequence using recursion"
   ]
  },
  {
   "cell_type": "code",
   "execution_count": null,
   "id": "0cad6330",
   "metadata": {},
   "outputs": [],
   "source": []
  }
 ],
 "metadata": {
  "kernelspec": {
   "display_name": "Python 3 (ipykernel)",
   "language": "python",
   "name": "python3"
  },
  "language_info": {
   "codemirror_mode": {
    "name": "ipython",
    "version": 3
   },
   "file_extension": ".py",
   "mimetype": "text/x-python",
   "name": "python",
   "nbconvert_exporter": "python",
   "pygments_lexer": "ipython3",
   "version": "3.9.7"
  }
 },
 "nbformat": 4,
 "nbformat_minor": 5
}
