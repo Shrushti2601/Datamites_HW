{
 "cells": [
  {
   "cell_type": "markdown",
   "id": "2499c57e",
   "metadata": {},
   "source": [
    "Data Types"
   ]
  },
  {
   "cell_type": "markdown",
   "id": "ef393538",
   "metadata": {},
   "source": [
    "convert float into int"
   ]
  },
  {
   "cell_type": "code",
   "execution_count": 34,
   "id": "2f8b476e",
   "metadata": {},
   "outputs": [],
   "source": [
    "a=5.6"
   ]
  },
  {
   "cell_type": "code",
   "execution_count": 35,
   "id": "344f737d",
   "metadata": {},
   "outputs": [],
   "source": [
    "b=int(a)"
   ]
  },
  {
   "cell_type": "code",
   "execution_count": 36,
   "id": "8f0b309b",
   "metadata": {},
   "outputs": [
    {
     "data": {
      "text/plain": [
       "int"
      ]
     },
     "execution_count": 36,
     "metadata": {},
     "output_type": "execute_result"
    }
   ],
   "source": [
    "type(b)"
   ]
  },
  {
   "cell_type": "code",
   "execution_count": 37,
   "id": "5791e8d6",
   "metadata": {},
   "outputs": [
    {
     "data": {
      "text/plain": [
       "5"
      ]
     },
     "execution_count": 37,
     "metadata": {},
     "output_type": "execute_result"
    }
   ],
   "source": [
    "b"
   ]
  },
  {
   "cell_type": "markdown",
   "id": "fb79b9b2",
   "metadata": {},
   "source": [
    "int to float "
   ]
  },
  {
   "cell_type": "code",
   "execution_count": 38,
   "id": "5ab218cb",
   "metadata": {},
   "outputs": [],
   "source": [
    "k=float(b)"
   ]
  },
  {
   "cell_type": "code",
   "execution_count": 39,
   "id": "01d35562",
   "metadata": {},
   "outputs": [
    {
     "data": {
      "text/plain": [
       "5.0"
      ]
     },
     "execution_count": 39,
     "metadata": {},
     "output_type": "execute_result"
    }
   ],
   "source": [
    "k"
   ]
  },
  {
   "cell_type": "code",
   "execution_count": 40,
   "id": "b7f295f5",
   "metadata": {},
   "outputs": [
    {
     "data": {
      "text/plain": [
       "float"
      ]
     },
     "execution_count": 40,
     "metadata": {},
     "output_type": "execute_result"
    }
   ],
   "source": [
    "type(k)"
   ]
  },
  {
   "cell_type": "markdown",
   "id": "a40f2fa8",
   "metadata": {},
   "source": [
    "complex"
   ]
  },
  {
   "cell_type": "code",
   "execution_count": 44,
   "id": "a6ff4b19",
   "metadata": {},
   "outputs": [],
   "source": [
    "c=complex(a,k)"
   ]
  },
  {
   "cell_type": "code",
   "execution_count": 45,
   "id": "5f910d53",
   "metadata": {},
   "outputs": [
    {
     "data": {
      "text/plain": [
       "(5.6+5j)"
      ]
     },
     "execution_count": 45,
     "metadata": {},
     "output_type": "execute_result"
    }
   ],
   "source": [
    "c"
   ]
  },
  {
   "cell_type": "markdown",
   "id": "3094536e",
   "metadata": {},
   "source": [
    "bool"
   ]
  },
  {
   "cell_type": "code",
   "execution_count": 46,
   "id": "73b898c9",
   "metadata": {},
   "outputs": [
    {
     "data": {
      "text/plain": [
       "False"
      ]
     },
     "execution_count": 46,
     "metadata": {},
     "output_type": "execute_result"
    }
   ],
   "source": [
    "a<k"
   ]
  },
  {
   "cell_type": "code",
   "execution_count": 47,
   "id": "7218d880",
   "metadata": {},
   "outputs": [
    {
     "data": {
      "text/plain": [
       "True"
      ]
     },
     "execution_count": 47,
     "metadata": {},
     "output_type": "execute_result"
    }
   ],
   "source": [
    "a>k"
   ]
  },
  {
   "cell_type": "markdown",
   "id": "3f0078fa",
   "metadata": {},
   "source": [
    "True value & False value"
   ]
  },
  {
   "cell_type": "code",
   "execution_count": 48,
   "id": "de7eac04",
   "metadata": {},
   "outputs": [
    {
     "data": {
      "text/plain": [
       "1"
      ]
     },
     "execution_count": 48,
     "metadata": {},
     "output_type": "execute_result"
    }
   ],
   "source": [
    "int(True)"
   ]
  },
  {
   "cell_type": "code",
   "execution_count": 49,
   "id": "0bb28b27",
   "metadata": {},
   "outputs": [
    {
     "data": {
      "text/plain": [
       "0"
      ]
     },
     "execution_count": 49,
     "metadata": {},
     "output_type": "execute_result"
    }
   ],
   "source": [
    "int(False)"
   ]
  },
  {
   "cell_type": "code",
   "execution_count": 50,
   "id": "22250ef8",
   "metadata": {},
   "outputs": [],
   "source": [
    "l=[1,2]"
   ]
  },
  {
   "cell_type": "code",
   "execution_count": 51,
   "id": "559df243",
   "metadata": {},
   "outputs": [
    {
     "data": {
      "text/plain": [
       "list"
      ]
     },
     "execution_count": 51,
     "metadata": {},
     "output_type": "execute_result"
    }
   ],
   "source": [
    "type(l)"
   ]
  },
  {
   "cell_type": "code",
   "execution_count": 52,
   "id": "45048678",
   "metadata": {},
   "outputs": [],
   "source": [
    "l=(1,2)"
   ]
  },
  {
   "cell_type": "code",
   "execution_count": 53,
   "id": "d6bfe2de",
   "metadata": {},
   "outputs": [
    {
     "data": {
      "text/plain": [
       "tuple"
      ]
     },
     "execution_count": 53,
     "metadata": {},
     "output_type": "execute_result"
    }
   ],
   "source": [
    "type(l)"
   ]
  },
  {
   "cell_type": "code",
   "execution_count": 54,
   "id": "6396933b",
   "metadata": {},
   "outputs": [
    {
     "data": {
      "text/plain": [
       "str"
      ]
     },
     "execution_count": 54,
     "metadata": {},
     "output_type": "execute_result"
    }
   ],
   "source": [
    "s='shrushti'\n",
    "type(s)"
   ]
  },
  {
   "cell_type": "code",
   "execution_count": 55,
   "id": "3e427ed6",
   "metadata": {},
   "outputs": [
    {
     "data": {
      "text/plain": [
       "range(0, 10)"
      ]
     },
     "execution_count": 55,
     "metadata": {},
     "output_type": "execute_result"
    }
   ],
   "source": [
    "range(10)"
   ]
  },
  {
   "cell_type": "code",
   "execution_count": 56,
   "id": "6d38ab00",
   "metadata": {},
   "outputs": [
    {
     "data": {
      "text/plain": [
       "[0, 1, 2, 3, 4, 5, 6, 7, 8, 9]"
      ]
     },
     "execution_count": 56,
     "metadata": {},
     "output_type": "execute_result"
    }
   ],
   "source": [
    "list(range(10))"
   ]
  },
  {
   "cell_type": "code",
   "execution_count": 58,
   "id": "9a394c8e",
   "metadata": {},
   "outputs": [
    {
     "data": {
      "text/plain": [
       "[2, 4, 6, 8]"
      ]
     },
     "execution_count": 58,
     "metadata": {},
     "output_type": "execute_result"
    }
   ],
   "source": [
    "list(range(2,10,2))"
   ]
  },
  {
   "cell_type": "code",
   "execution_count": 59,
   "id": "aeea1cc9",
   "metadata": {},
   "outputs": [],
   "source": [
    "a={1:'sh',2:'ru',3:'sh'}"
   ]
  },
  {
   "cell_type": "code",
   "execution_count": 60,
   "id": "86867ac0",
   "metadata": {},
   "outputs": [
    {
     "data": {
      "text/plain": [
       "{1: 'sh', 2: 'ru', 3: 'sh'}"
      ]
     },
     "execution_count": 60,
     "metadata": {},
     "output_type": "execute_result"
    }
   ],
   "source": [
    "a"
   ]
  },
  {
   "cell_type": "markdown",
   "id": "acdd71f6",
   "metadata": {},
   "source": [
    "convert number into binary format"
   ]
  },
  {
   "cell_type": "code",
   "execution_count": 62,
   "id": "0b380127",
   "metadata": {},
   "outputs": [
    {
     "data": {
      "text/plain": [
       "'0b11001'"
      ]
     },
     "execution_count": 62,
     "metadata": {},
     "output_type": "execute_result"
    }
   ],
   "source": [
    "bin(25) #in output b in binary"
   ]
  },
  {
   "cell_type": "markdown",
   "id": "677ceccd",
   "metadata": {},
   "source": [
    "binary to decimal"
   ]
  },
  {
   "cell_type": "code",
   "execution_count": 64,
   "id": "c95ac738",
   "metadata": {},
   "outputs": [
    {
     "data": {
      "text/plain": [
       "25"
      ]
     },
     "execution_count": 64,
     "metadata": {},
     "output_type": "execute_result"
    }
   ],
   "source": [
    "0b11001"
   ]
  },
  {
   "cell_type": "markdown",
   "id": "8b492dac",
   "metadata": {},
   "source": [
    "decimal to octal"
   ]
  },
  {
   "cell_type": "code",
   "execution_count": 65,
   "id": "a7706f1e",
   "metadata": {},
   "outputs": [
    {
     "data": {
      "text/plain": [
       "'0o31'"
      ]
     },
     "execution_count": 65,
     "metadata": {},
     "output_type": "execute_result"
    }
   ],
   "source": [
    "oct(25)"
   ]
  },
  {
   "cell_type": "markdown",
   "id": "de08b487",
   "metadata": {},
   "source": [
    "decimal to hex"
   ]
  },
  {
   "cell_type": "code",
   "execution_count": 66,
   "id": "35360a6d",
   "metadata": {},
   "outputs": [
    {
     "data": {
      "text/plain": [
       "'0x19'"
      ]
     },
     "execution_count": 66,
     "metadata": {},
     "output_type": "execute_result"
    }
   ],
   "source": [
    "hex(25)"
   ]
  },
  {
   "cell_type": "markdown",
   "id": "687383c4",
   "metadata": {},
   "source": [
    "Swap to two numbers"
   ]
  },
  {
   "cell_type": "code",
   "execution_count": 81,
   "id": "96ab5407",
   "metadata": {},
   "outputs": [],
   "source": [
    "a=5\n",
    "b=6\n",
    "#temp=a\n",
    "#a=b\n",
    "#b=temp"
   ]
  },
  {
   "cell_type": "code",
   "execution_count": 82,
   "id": "0286824c",
   "metadata": {},
   "outputs": [],
   "source": [
    "a,b=b,a"
   ]
  },
  {
   "cell_type": "code",
   "execution_count": 83,
   "id": "5d3f89f6",
   "metadata": {},
   "outputs": [
    {
     "name": "stdout",
     "output_type": "stream",
     "text": [
      "6\n",
      "5\n"
     ]
    }
   ],
   "source": [
    "print(a)\n",
    "print(b)"
   ]
  },
  {
   "cell_type": "code",
   "execution_count": 84,
   "id": "3910a077",
   "metadata": {},
   "outputs": [],
   "source": [
    "a=a^b\n",
    "b=a^b\n",
    "a=a^b"
   ]
  },
  {
   "cell_type": "code",
   "execution_count": 85,
   "id": "afdb91f4",
   "metadata": {},
   "outputs": [
    {
     "name": "stdout",
     "output_type": "stream",
     "text": [
      "5\n",
      "6\n"
     ]
    }
   ],
   "source": [
    "print(a)\n",
    "print(b)"
   ]
  },
  {
   "cell_type": "code",
   "execution_count": 86,
   "id": "492e16c0",
   "metadata": {},
   "outputs": [],
   "source": [
    "#bitwise operator"
   ]
  },
  {
   "cell_type": "code",
   "execution_count": 87,
   "id": "9da9de4b",
   "metadata": {},
   "outputs": [
    {
     "data": {
      "text/plain": [
       "-13"
      ]
     },
     "execution_count": 87,
     "metadata": {},
     "output_type": "execute_result"
    }
   ],
   "source": [
    "~12"
   ]
  },
  {
   "cell_type": "code",
   "execution_count": null,
   "id": "1c248f0b",
   "metadata": {},
   "outputs": [],
   "source": []
  }
 ],
 "metadata": {
  "kernelspec": {
   "display_name": "Python 3 (ipykernel)",
   "language": "python",
   "name": "python3"
  },
  "language_info": {
   "codemirror_mode": {
    "name": "ipython",
    "version": 3
   },
   "file_extension": ".py",
   "mimetype": "text/x-python",
   "name": "python",
   "nbconvert_exporter": "python",
   "pygments_lexer": "ipython3",
   "version": "3.9.7"
  }
 },
 "nbformat": 4,
 "nbformat_minor": 5
}
