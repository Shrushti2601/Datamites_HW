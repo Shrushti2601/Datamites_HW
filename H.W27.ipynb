{
 "cells": [
  {
   "cell_type": "markdown",
   "id": "925eef10",
   "metadata": {},
   "source": [
    "# python character examples "
   ]
  },
  {
   "cell_type": "markdown",
   "id": "7c9edef3",
   "metadata": {},
   "source": [
    "1 [ ]"
   ]
  },
  {
   "cell_type": "code",
   "execution_count": 1,
   "id": "e96c7fd7",
   "metadata": {},
   "outputs": [
    {
     "name": "stdout",
     "output_type": "stream",
     "text": [
      "Matches: ['e', 'u', 'i', 'o', 'o', 'u', 'o', 'e', 'e', 'a', 'o']\n"
     ]
    }
   ],
   "source": [
    "import re\n",
    "\n",
    "text = \"The quick brown fox jumps over the lazy dog\"\n",
    "\n",
    "# Match any vowels (a, e, i, o, u)\n",
    "matches = re.findall(r\"[aeiou]\", text)\n",
    "print(\"Matches:\", matches)\n"
   ]
  },
  {
   "cell_type": "markdown",
   "id": "d94b916b",
   "metadata": {},
   "source": [
    "2. \\"
   ]
  },
  {
   "cell_type": "code",
   "execution_count": null,
   "id": "707c1fc3",
   "metadata": {},
   "outputs": [],
   "source": [
    "import re\n",
    "\n",
    "text = \"The quick brown fox jumps over the lazy dog\"\n",
    "\n",
    "# Match a literal dot character\n",
    "matches = re.findall(r\"\\.\", text)\n",
    "print(\"Matches:\", matches)\n",
    "\n",
    "# Match a literal backslash character\n",
    "matches = re.findall(r\"\\\\\", text)\n",
    "print(\"Matches:\", matches)\n"
   ]
  },
  {
   "cell_type": "markdown",
   "id": "81390680",
   "metadata": {},
   "source": [
    "3 ."
   ]
  },
  {
   "cell_type": "code",
   "execution_count": 2,
   "id": "100b53bf",
   "metadata": {},
   "outputs": [
    {
     "name": "stdout",
     "output_type": "stream",
     "text": [
      "Matches: ['n fox']\n",
      "Matches: ['he', 've', 'he']\n"
     ]
    }
   ],
   "source": [
    "import re\n",
    "\n",
    "text = \"The quick brown fox jumps over the lazy dog\"\n",
    "\n",
    "# Match any three characters followed by \"ox\"\n",
    "matches = re.findall(r\"...ox\", text)\n",
    "print(\"Matches:\", matches)\n",
    "\n",
    "# Match any single character followed by \"e\"\n",
    "matches = re.findall(r\".e\", text)\n",
    "print(\"Matches:\", matches)\n"
   ]
  },
  {
   "cell_type": "markdown",
   "id": "44ab5cca",
   "metadata": {},
   "source": [
    "4. ^"
   ]
  },
  {
   "cell_type": "code",
   "execution_count": 3,
   "id": "da20ab9f",
   "metadata": {},
   "outputs": [
    {
     "name": "stdout",
     "output_type": "stream",
     "text": [
      "Matches: ['The']\n",
      "Matches: []\n"
     ]
    }
   ],
   "source": [
    "import re\n",
    "\n",
    "text = \"The quick brown fox jumps over the lazy dog\"\n",
    "\n",
    "# Match words starting with \"T\"\n",
    "matches = re.findall(r\"^T\\w+\", text)\n",
    "print(\"Matches:\", matches)\n",
    "\n",
    "# Match words starting with lowercase letters\n",
    "matches = re.findall(r\"^[a-z]\\w+\", text)\n",
    "print(\"Matches:\", matches)\n"
   ]
  },
  {
   "cell_type": "markdown",
   "id": "2efbd383",
   "metadata": {},
   "source": [
    "5 $"
   ]
  },
  {
   "cell_type": "code",
   "execution_count": 4,
   "id": "4ad83df0",
   "metadata": {},
   "outputs": [
    {
     "name": "stdout",
     "output_type": "stream",
     "text": [
      "Matches: []\n",
      "Matches: []\n"
     ]
    }
   ],
   "source": [
    "import re\n",
    "\n",
    "text = \"The quick brown fox jumps over the lazy dog\"\n",
    "\n",
    "# Match words ending with \"dog\"\n",
    "matches = re.findall(r\"\\w+dog$\", text)\n",
    "print(\"Matches:\", matches)\n",
    "\n",
    "# Match words ending with a period\n",
    "matches = re.findall(r\"\\w+\\.$\", text)\n",
    "print(\"Matches:\", matches)\n"
   ]
  },
  {
   "cell_type": "markdown",
   "id": "a47f032e",
   "metadata": {},
   "source": [
    "6 *"
   ]
  },
  {
   "cell_type": "code",
   "execution_count": 5,
   "id": "b548bd84",
   "metadata": {},
   "outputs": [
    {
     "name": "stdout",
     "output_type": "stream",
     "text": [
      "Matches: ['own', 'ox', 'over', 'og']\n",
      "Matches: ['own']\n"
     ]
    }
   ],
   "source": [
    "import re\n",
    "\n",
    "text = \"The quick brown fox jumps over the lazy dog\"\n",
    "\n",
    "# Match words containing \"o\" followed by zero or more characters\n",
    "matches = re.findall(r\"o\\w*\", text)\n",
    "print(\"Matches:\", matches)\n",
    "\n",
    "# Match words containing \"ow\" followed by zero or more characters\n",
    "matches = re.findall(r\"ow\\w*\", text)\n",
    "print(\"Matches:\", matches)\n"
   ]
  },
  {
   "cell_type": "markdown",
   "id": "d1d06d15",
   "metadata": {},
   "source": [
    "7 +"
   ]
  },
  {
   "cell_type": "code",
   "execution_count": 6,
   "id": "b9ef641d",
   "metadata": {},
   "outputs": [
    {
     "name": "stdout",
     "output_type": "stream",
     "text": [
      "Matches: ['own', 'ox', 'over', 'og']\n",
      "Matches: ['own']\n"
     ]
    }
   ],
   "source": [
    "import re\n",
    "\n",
    "text = \"The quick brown fox jumps over the lazy dog\"\n",
    "\n",
    "# Match words containing \"o\" followed by one or more characters\n",
    "matches = re.findall(r\"o\\w+\", text)\n",
    "print(\"Matches:\", matches)\n",
    "\n",
    "# Match words containing \"ow\" followed by one or more characters\n",
    "matches = re.findall(r\"ow\\w+\", text)\n",
    "print(\"Matches:\", matches)\n"
   ]
  },
  {
   "cell_type": "markdown",
   "id": "2f22867f",
   "metadata": {},
   "source": [
    "8. ?"
   ]
  },
  {
   "cell_type": "code",
   "execution_count": 7,
   "id": "d35641ed",
   "metadata": {},
   "outputs": [
    {
     "name": "stdout",
     "output_type": "stream",
     "text": [
      "Matches: ['x']\n",
      "Matches: ['ox']\n"
     ]
    }
   ],
   "source": [
    "import re\n",
    "\n",
    "text = \"The quick brown fox jumps over the lazy dog\"\n",
    "\n",
    "# Match words containing \"x\" followed by zero or one occurrence of \"e\"\n",
    "matches = re.findall(r\"xe?\", text)\n",
    "print(\"Matches:\", matches)\n",
    "\n",
    "# Match words containing \"ox\" followed by zero or one occurrence of \"e\"\n",
    "matches = re.findall(r\"oxe?\", text)\n",
    "print(\"Matches:\", matches)\n"
   ]
  },
  {
   "cell_type": "markdown",
   "id": "0e395335",
   "metadata": {},
   "source": [
    "9. { }"
   ]
  },
  {
   "cell_type": "code",
   "execution_count": 8,
   "id": "a6320c83",
   "metadata": {},
   "outputs": [
    {
     "name": "stdout",
     "output_type": "stream",
     "text": [
      "Matches: ['wn fox']\n",
      "Matches: ['The', 'ove', 'the']\n"
     ]
    }
   ],
   "source": [
    "import re\n",
    "\n",
    "text = \"The quick brown fox jumps over the lazy dog\"\n",
    "\n",
    "# Match words containing exactly three characters followed by \"ox\"\n",
    "matches = re.findall(r\"...\\wox\", text)\n",
    "print(\"Matches:\", matches)\n",
    "\n",
    "# Match words containing exactly two characters followed by \"e\"\n",
    "matches = re.findall(r\"..e\", text)\n",
    "print(\"Matches:\", matches)\n"
   ]
  },
  {
   "cell_type": "markdown",
   "id": "502cbe07",
   "metadata": {},
   "source": [
    "10 |"
   ]
  },
  {
   "cell_type": "code",
   "execution_count": 10,
   "id": "5ac8a1ec",
   "metadata": {},
   "outputs": [
    {
     "name": "stdout",
     "output_type": "stream",
     "text": [
      "Matches: ['brown', 'jumps']\n",
      "Matches: ['lazy', 'dog']\n"
     ]
    }
   ],
   "source": [
    "import re\n",
    "\n",
    "text = \"The quick brown fox jumps over the lazy dog\"\n",
    "\n",
    "# Match words containing \"brown\" or \"jumps\"\n",
    "matches = re.findall(r\"brown|jumps\", text)\n",
    "print(\"Matches:\", matches)\n",
    "\n",
    "# Match words containing \"lazy\" or \"dog\"\n",
    "matches = re.findall(r\"lazy|dog\", text)\n",
    "print(\"Matches:\", matches)\n"
   ]
  },
  {
   "cell_type": "markdown",
   "id": "a20f0e3f",
   "metadata": {},
   "source": [
    "11 ( )"
   ]
  },
  {
   "cell_type": "code",
   "execution_count": 11,
   "id": "d71aedee",
   "metadata": {},
   "outputs": [
    {
     "name": "stdout",
     "output_type": "stream",
     "text": [
      "Matches: [('quick brown', 'fox'), ('the lazy', 'dog')]\n"
     ]
    }
   ],
   "source": [
    "import re\n",
    "\n",
    "text = \"The quick brown fox jumps over the lazy dog\"\n",
    "\n",
    "# Match words containing \"fox\" or \"dog\" preceded by \"quick brown\" or \"the lazy\"\n",
    "matches = re.findall(r\"(quick brown|the lazy) (fox|dog)\", text)\n",
    "print(\"Matches:\", matches)\n"
   ]
  },
  {
   "cell_type": "code",
   "execution_count": null,
   "id": "3bddbfc2",
   "metadata": {},
   "outputs": [],
   "source": []
  }
 ],
 "metadata": {
  "kernelspec": {
   "display_name": "Python 3 (ipykernel)",
   "language": "python",
   "name": "python3"
  },
  "language_info": {
   "codemirror_mode": {
    "name": "ipython",
    "version": 3
   },
   "file_extension": ".py",
   "mimetype": "text/x-python",
   "name": "python",
   "nbconvert_exporter": "python",
   "pygments_lexer": "ipython3",
   "version": "3.9.7"
  }
 },
 "nbformat": 4,
 "nbformat_minor": 5
}
