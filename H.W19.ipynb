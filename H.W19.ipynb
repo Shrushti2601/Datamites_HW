{
 "cells": [
  {
   "cell_type": "markdown",
   "id": "f9a0dae4",
   "metadata": {},
   "source": [
    "Example 1: Write a program to check whether a number is divisible by 7 or not."
   ]
  },
  {
   "cell_type": "code",
   "execution_count": 5,
   "id": "5e0fa218",
   "metadata": {},
   "outputs": [],
   "source": [
    "def  check_divi(num):\n",
    "    if num%7==0:\n",
    "        return (num,\"  is divisible by 7\")\n",
    "    else:\n",
    "        return (num,\" is not divisible by 7\")"
   ]
  },
  {
   "cell_type": "code",
   "execution_count": 6,
   "id": "6bfc67e1",
   "metadata": {},
   "outputs": [
    {
     "name": "stdout",
     "output_type": "stream",
     "text": [
      "enter number77\n"
     ]
    },
    {
     "data": {
      "text/plain": [
       "(77, ' is divisible by 7')"
      ]
     },
     "execution_count": 6,
     "metadata": {},
     "output_type": "execute_result"
    }
   ],
   "source": [
    "num=int(input(\"enter number\"))\n",
    "check_divi(num)"
   ]
  },
  {
   "cell_type": "code",
   "execution_count": null,
   "id": "3498d172",
   "metadata": {},
   "outputs": [],
   "source": [
    "# example 2 . Write a program to calculate the #electricity bill (accept number of unit from #user) according to the following criteria :\n",
    "#            Unit                                                     Price  \n",
    "#First 100 units                                               no charge\n",
    "#Next 100 units                                              Rs 5 per unit\n",
    "#After 200 units                                             Rs 10 per unit\n",
    "#(For example if input unit is 350 than total bill amount is Rs2000)"
   ]
  },
  {
   "cell_type": "code",
   "execution_count": 7,
   "id": "649de08d",
   "metadata": {},
   "outputs": [
    {
     "name": "stdout",
     "output_type": "stream",
     "text": [
      "Enter number of electric unit344\n",
      "Amount to pay : 1940\n"
     ]
    }
   ],
   "source": [
    "amt=0\n",
    "nu=int(input(\"Enter number of electric unit\"))\n",
    "if nu<=100:\n",
    "     amt=0\n",
    "if nu>100 and nu<=200:\n",
    "     amt=(nu-100)*5\n",
    "if nu>200:\n",
    "     amt=500+(nu-200)*10\n",
    "print(\"Amount to pay :\",amt)"
   ]
  },
  {
   "cell_type": "markdown",
   "id": "777fb5cf",
   "metadata": {},
   "source": [
    "example 3 Write a program to display the last digit of a number.\n",
    "(hint : any number % 10 will return the last digit)"
   ]
  },
  {
   "cell_type": "code",
   "execution_count": 9,
   "id": "4d3193a0",
   "metadata": {},
   "outputs": [
    {
     "name": "stdout",
     "output_type": "stream",
     "text": [
      "enter number144\n",
      "last digit of number is  4\n"
     ]
    }
   ],
   "source": [
    "num=int(input(\"enter number\"))\n",
    "print(\"last digit of number is \",num%10)"
   ]
  },
  {
   "cell_type": "markdown",
   "id": "226dfedc",
   "metadata": {},
   "source": [
    "example 4. Write a program to check whether an years is leap year or not."
   ]
  },
  {
   "cell_type": "code",
   "execution_count": 12,
   "id": "84a47820",
   "metadata": {},
   "outputs": [
    {
     "name": "stdout",
     "output_type": "stream",
     "text": [
      "enter year2008\n",
      "leap year\n"
     ]
    }
   ],
   "source": [
    "year=int(input(\"enter year\"))\n",
    "if year %100==0 and year%400==0:\n",
    "    print(\"it is leap year\")\n",
    "elif year%4==0:\n",
    "    print(\"leap year\")\n",
    "else:\n",
    "    print(\"not leap year\")\n"
   ]
  },
  {
   "cell_type": "markdown",
   "id": "66daab7a",
   "metadata": {},
   "source": [
    "example 5: Write a program to accept a number from 1 to 7 and display the name of the day like 1 for Sunday , 2 for Monday and so on."
   ]
  },
  {
   "cell_type": "code",
   "execution_count": 20,
   "id": "364e3eb8",
   "metadata": {},
   "outputs": [
    {
     "name": "stdout",
     "output_type": "stream",
     "text": [
      "enter num b/w 1 to 71\n",
      "sunday\n"
     ]
    }
   ],
   "source": [
    "num =int(input(\"enter num b/w 1 to 7\"))\n",
    "if num==1:\n",
    "    print('sunday')\n",
    "elif num==2:\n",
    "    print('monday')\n",
    "elif num==3:\n",
    "    print('tuesday')\n",
    "elif num==4:\n",
    "    print('wednesday')\n",
    "elif num==5:\n",
    "    print('thursday')\n",
    "elif num==6:\n",
    "    print('friday')\n",
    "elif num==7:\n",
    "    print('saturday')\n",
    "else:\n",
    "    print(\"enter correct num\")"
   ]
  },
  {
   "cell_type": "markdown",
   "id": "479171d7",
   "metadata": {},
   "source": [
    "example 6. Write a program to check whether a number entered is three digit number or not."
   ]
  },
  {
   "cell_type": "code",
   "execution_count": 22,
   "id": "ee8a80a1",
   "metadata": {},
   "outputs": [
    {
     "name": "stdout",
     "output_type": "stream",
     "text": [
      "enter number222\n",
      "it is 3 digit number\n"
     ]
    }
   ],
   "source": [
    "num=(input(\"enter number\"))\n",
    "l=len(num)\n",
    "if l==3:\n",
    "    print(\"it is 3 digit number\")\n",
    "else:\n",
    "    print(\"not 3 digit number\")"
   ]
  },
  {
   "cell_type": "markdown",
   "id": "190cb0e3",
   "metadata": {},
   "source": [
    "exxample 7. Write a program to check whether a number (accepted from user) is positive or negative.."
   ]
  },
  {
   "cell_type": "code",
   "execution_count": 24,
   "id": "a1d6e695",
   "metadata": {},
   "outputs": [
    {
     "name": "stdout",
     "output_type": "stream",
     "text": [
      "enter number-12\n",
      "number is negative\n"
     ]
    }
   ],
   "source": [
    "num=int(input(\"enter number\"))\n",
    "if num>0:\n",
    "    print(\"positive number\")\n",
    "elif num==0:\n",
    "    print(\"number is zero\")\n",
    "else:\n",
    "    print(\"number is negative\")"
   ]
  },
  {
   "cell_type": "markdown",
   "id": "d37d9e0a",
   "metadata": {},
   "source": [
    "example 8. Write a program to whether a number (accepted from user) is divisible by 2 and 3 both."
   ]
  },
  {
   "cell_type": "code",
   "execution_count": 26,
   "id": "8e32cb76",
   "metadata": {},
   "outputs": [
    {
     "name": "stdout",
     "output_type": "stream",
     "text": [
      "enter number36\n",
      "number is divisible by 2 & 3 \n"
     ]
    }
   ],
   "source": [
    "num=int(input(\"enter number\"))\n",
    "if num%2==0 and num%3==0:\n",
    "    print(\"number is divisible by 2 & 3 \")\n",
    "else:\n",
    "    print(\"number is not divisible by 2 & 3\")"
   ]
  },
  {
   "cell_type": "markdown",
   "id": "76b3f52c",
   "metadata": {},
   "source": [
    "example 9: Write a Python program to calculate a dog's age in dog's years. Go to the editor\n",
    "Note: For the first two years, a dog year is equal to 10.5 human years. After that, each dog year equals 4 human years.\n",
    "Expected Output:\n",
    "\n",
    "Input a dog's age in human years: 15                                    \n",
    "The dog's age in dog's years is 73"
   ]
  },
  {
   "cell_type": "code",
   "execution_count": 27,
   "id": "550bd5cb",
   "metadata": {},
   "outputs": [
    {
     "name": "stdout",
     "output_type": "stream",
     "text": [
      "Input a dog's age in human years: 33\n",
      "The dog's age in dog's years is 145\n"
     ]
    }
   ],
   "source": [
    "h_age = int(input(\"Input a dog's age in human years: \"))\n",
    "\n",
    "if h_age < 0:\n",
    "    print(\"Age must be positive number.\")\n",
    "    exit()\n",
    "elif h_age <= 2:\n",
    "    d_age = h_age * 10.5\n",
    "else:\n",
    "    d_age = 21 + (h_age - 2)*4\n",
    "\n",
    "print(\"The dog's age in dog's years is\", d_age)"
   ]
  },
  {
   "cell_type": "markdown",
   "id": "32c9130d",
   "metadata": {},
   "source": [
    "example 10: perfect number"
   ]
  },
  {
   "cell_type": "code",
   "execution_count": 29,
   "id": "010552e1",
   "metadata": {},
   "outputs": [],
   "source": [
    "def perfect(n):\n",
    "    sum=0\n",
    "    for i in range(n,1):\n",
    "        if n%i == 0:\n",
    "            sum=sum+i\n",
    "    if sum==n:\n",
    "        return True\n",
    "    else:\n",
    "        return False"
   ]
  },
  {
   "cell_type": "code",
   "execution_count": 31,
   "id": "6d0bfb39",
   "metadata": {},
   "outputs": [
    {
     "data": {
      "text/plain": [
       "False"
      ]
     },
     "execution_count": 31,
     "metadata": {},
     "output_type": "execute_result"
    }
   ],
   "source": [
    "perfect(4)"
   ]
  },
  {
   "cell_type": "code",
   "execution_count": null,
   "id": "484cdd5b",
   "metadata": {},
   "outputs": [],
   "source": []
  }
 ],
 "metadata": {
  "kernelspec": {
   "display_name": "Python 3 (ipykernel)",
   "language": "python",
   "name": "python3"
  },
  "language_info": {
   "codemirror_mode": {
    "name": "ipython",
    "version": 3
   },
   "file_extension": ".py",
   "mimetype": "text/x-python",
   "name": "python",
   "nbconvert_exporter": "python",
   "pygments_lexer": "ipython3",
   "version": "3.9.7"
  }
 },
 "nbformat": 4,
 "nbformat_minor": 5
}
