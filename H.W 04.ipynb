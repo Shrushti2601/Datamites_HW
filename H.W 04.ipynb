{
 "cells": [
  {
   "cell_type": "code",
   "execution_count": 1,
   "id": "081fc8c7",
   "metadata": {},
   "outputs": [
    {
     "name": "stdout",
     "output_type": "stream",
     "text": [
      "value of Net_profit is 300000\n",
      "value of cost investment is1500000\n",
      "Return on Investment 20.0\n"
     ]
    }
   ],
   "source": [
    "#Return on Investment \n",
    "Net_profit=int(input(\"value of Net_profit is \"))\n",
    "Cost_of_investment=int(input(\"value of cost investment is\"))\n",
    "ROI=(Net_profit/Cost_of_investment)*100\n",
    "print(\"Return on Investment\",ROI)"
   ]
  },
  {
   "cell_type": "code",
   "execution_count": 2,
   "id": "d96f818f",
   "metadata": {},
   "outputs": [
    {
     "name": "stdout",
     "output_type": "stream",
     "text": [
      "value of Net_Income is 260000000\n",
      "value of Average_Outstanding_Shares is 30000000\n",
      "Earnings Per Share  8.666666666666666\n"
     ]
    }
   ],
   "source": [
    "#Earnings Per Share \n",
    "Net_Income=int(input(\"value of Net_Income is \"))\n",
    "Average_Outstanding_Shares=int(input(\"value of Average_Outstanding_Shares is \"))\n",
    "EPS=Net_Income/Average_Outstanding_Shares\n",
    "print(\"Earnings Per Share \",EPS)\n"
   ]
  },
  {
   "cell_type": "code",
   "execution_count": 3,
   "id": "e161ee73",
   "metadata": {},
   "outputs": [
    {
     "name": "stdout",
     "output_type": "stream",
     "text": [
      "value of Market_Price_per_Share is 200000000\n",
      "value of Net_Income is 3000000\n",
      "value of Average_Outstanding_Shares is 15000000\n",
      "Price-Earnings Ratio 1000000000.0\n"
     ]
    }
   ],
   "source": [
    "#Price-Earnings Ratio\n",
    "Market_Price_per_Share=int(input(\"value of Market_Price_per_Share is \"))\n",
    "Net_Income=int(input(\"value of Net_Income is \"))\n",
    "Average_Outstanding_Shares=int(input(\"value of Average_Outstanding_Shares is \"))\n",
    "EPS=Net_Income/Average_Outstanding_Shares\n",
    "PER=Market_Price_per_Share/EPS\n",
    "print(\"Price-Earnings Ratio\",PER)\n",
    " "
   ]
  },
  {
   "cell_type": "code",
   "execution_count": 5,
   "id": "42457d5d",
   "metadata": {},
   "outputs": [
    {
     "name": "stdout",
     "output_type": "stream",
     "text": [
      "value of Dividend_per_Share is 20000000\n",
      "value of Market_Price_per_Share is 10000\n",
      "Dividend Yield 200000.0\n"
     ]
    }
   ],
   "source": [
    "#Dividend Yield=Dividend_per_Share / Market_Price_per_Share ×100\n",
    "Dividend_per_Share=int(input(\"value of Dividend_per_Share is \"))\n",
    "Market_Price_per_Share=int(input(\"value of Market_Price_per_Share is \"))\n",
    "DY=(Dividend_per_Share / Market_Price_per_Share)*100\n",
    "print(\"Dividend Yield\",DY)\n"
   ]
  },
  {
   "cell_type": "code",
   "execution_count": 6,
   "id": "68d8adf8",
   "metadata": {},
   "outputs": [
    {
     "name": "stdout",
     "output_type": "stream",
     "text": [
      "enter value of cost_price2000\n",
      "ente value of selling_price3000\n",
      "Profit_Percentage is  50.0\n"
     ]
    }
   ],
   "source": [
    "#profit\n",
    "cost_price = int(input(\"enter value of cost_price\"))\n",
    "selling_price = int(input(\"ente value of selling_price\"))\n",
    "Profit_Percentage=((selling_price-cost_price)/cost_price)*100\n",
    "print(\"Profit_Percentage is \",Profit_Percentage)"
   ]
  },
  {
   "cell_type": "code",
   "execution_count": 7,
   "id": "bb8f4575",
   "metadata": {},
   "outputs": [
    {
     "name": "stdout",
     "output_type": "stream",
     "text": [
      "enter value of cost_price2000\n",
      "ente value of selling_price1000\n",
      "Loss_Percentage is  50.0\n"
     ]
    }
   ],
   "source": [
    "#loss\n",
    "cost_price = int(input(\"enter value of cost_price\"))\n",
    "selling_price = int(input(\"ente value of selling_price\"))\n",
    "Loss_Percentage=((cost_price-selling_price)/cost_price)*100\n",
    "print(\"Loss_Percentage is \",Loss_Percentage)"
   ]
  },
  {
   "cell_type": "code",
   "execution_count": 8,
   "id": "6b377fb4",
   "metadata": {},
   "outputs": [
    {
     "name": "stdout",
     "output_type": "stream",
     "text": [
      "enter value of revenue200000\n",
      "enter value of Cost_of_Goods_Sold 100\n",
      "Gross_Margin_Percentage is 99.95\n"
     ]
    }
   ],
   "source": [
    "#Gross_Margin_Percentage\n",
    "Revenue=int(input(\"enter value of revenue\"))\n",
    "Cost_of_Goods_Sold=int(input(\"enter value of Cost_of_Goods_Sold \"))\n",
    "Gross_Margin_Percentage=((Revenue-Cost_of_Goods_Sold)/Revenue)*100\n",
    "print(\"Gross_Margin_Percentage is\",Gross_Margin_Percentage)"
   ]
  },
  {
   "cell_type": "code",
   "execution_count": 11,
   "id": "ed59bd6a",
   "metadata": {},
   "outputs": [
    {
     "name": "stdout",
     "output_type": "stream",
     "text": [
      "enter value of Operating_Income200\n",
      "enter value of revenue10000\n",
      "Operating_Margin_Percentage is  2.0\n"
     ]
    }
   ],
   "source": [
    "#Operating_Margin_Percentage\n",
    "Operating_Income=int(input(\"enter value of Operating_Income\"))\n",
    "Revenue=int(input(\"enter value of revenue\"))\n",
    "Operating_Margin_Percentage=(Operating_Income/Revenue)*100\n",
    "print(\"Operating_Margin_Percentage is \",Operating_Margin_Percentage)"
   ]
  },
  {
   "cell_type": "code",
   "execution_count": 13,
   "id": "c8b4026d",
   "metadata": {},
   "outputs": [
    {
     "name": "stdout",
     "output_type": "stream",
     "text": [
      "enter value of Total_Debt50000\n",
      "enter value of Total_Equity2500\n",
      "Debt_to_Equity_Ratio is 20.0\n"
     ]
    }
   ],
   "source": [
    "#Debt_to_Equity_Ratio\n",
    "Total_Debt=int(input(\"enter value of Total_Debt\"))\n",
    "Total_Equity=int(input(\"enter value of Total_Equity\"))\n",
    "Debt_to_Equity_Ratio=Total_Debt/Total_Equity\n",
    "print(\"Debt_to_Equity_Ratio is\",Debt_to_Equity_Ratio)\n"
   ]
  },
  {
   "cell_type": "code",
   "execution_count": 14,
   "id": "763e4143",
   "metadata": {},
   "outputs": [
    {
     "name": "stdout",
     "output_type": "stream",
     "text": [
      "enter value of P 200\n",
      "enter value of R 30\n",
      "enter value of T 12\n",
      "720.0\n"
     ]
    }
   ],
   "source": [
    "#Simple Interest\n",
    "P=int(input(\"enter value of P \"))\n",
    "R=int(input(\"enter value of R \"))\n",
    "T=int(input(\"enter value of T \"))\n",
    "s=(P*R*T)/100\n",
    "print(s)"
   ]
  },
  {
   "cell_type": "code",
   "execution_count": null,
   "id": "969d3742",
   "metadata": {},
   "outputs": [],
   "source": []
  }
 ],
 "metadata": {
  "kernelspec": {
   "display_name": "Python 3 (ipykernel)",
   "language": "python",
   "name": "python3"
  },
  "language_info": {
   "codemirror_mode": {
    "name": "ipython",
    "version": 3
   },
   "file_extension": ".py",
   "mimetype": "text/x-python",
   "name": "python",
   "nbconvert_exporter": "python",
   "pygments_lexer": "ipython3",
   "version": "3.9.7"
  }
 },
 "nbformat": 4,
 "nbformat_minor": 5
}
