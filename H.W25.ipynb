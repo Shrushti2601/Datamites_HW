{
 "cells": [
  {
   "cell_type": "markdown",
   "id": "b67d322a",
   "metadata": {},
   "source": [
    "Python function that returns multiple values"
   ]
  },
  {
   "cell_type": "code",
   "execution_count": 2,
   "id": "e02e2162",
   "metadata": {},
   "outputs": [],
   "source": [
    "def return_mul(a,b):\n",
    "    add=a+b\n",
    "    sub=a-b\n",
    "    mul=a*b\n",
    "    return add,sub,mul"
   ]
  },
  {
   "cell_type": "code",
   "execution_count": 3,
   "id": "fde920a0",
   "metadata": {},
   "outputs": [
    {
     "data": {
      "text/plain": [
       "(8, 2, 15)"
      ]
     },
     "execution_count": 3,
     "metadata": {},
     "output_type": "execute_result"
    }
   ],
   "source": [
    "a=5\n",
    "b=3\n",
    "return_mul(a,b)"
   ]
  },
  {
   "cell_type": "markdown",
   "id": "dce5d7ef",
   "metadata": {},
   "source": [
    "Python function to check if a number is palindrome or not"
   ]
  },
  {
   "cell_type": "code",
   "execution_count": 27,
   "id": "1c7ba36f",
   "metadata": {},
   "outputs": [],
   "source": [
    "def palindrome(num):\n",
    "   \n",
    "    \n",
    "    if num==num[::-1]:\n",
    "        print(\"palindrome\")\n",
    "    else:\n",
    "        print(\"not\")\n",
    "    \n",
    "   "
   ]
  },
  {
   "cell_type": "code",
   "execution_count": 29,
   "id": "4a8ed967",
   "metadata": {},
   "outputs": [
    {
     "name": "stdout",
     "output_type": "stream",
     "text": [
      "palindrome\n"
     ]
    }
   ],
   "source": [
    "num='121'\n",
    "palindrome(num)"
   ]
  },
  {
   "cell_type": "markdown",
   "id": "373e43b1",
   "metadata": {},
   "source": [
    "Python function to find the factorial of a number"
   ]
  },
  {
   "cell_type": "code",
   "execution_count": 37,
   "id": "c1e6f85f",
   "metadata": {},
   "outputs": [],
   "source": [
    "def fact(num):\n",
    "  \n",
    "    sum=1\n",
    "    while num>0:\n",
    "        sum*=num\n",
    "        num-=1\n",
    "    print(sum)\n",
    "        "
   ]
  },
  {
   "cell_type": "code",
   "execution_count": 38,
   "id": "6fc7c966",
   "metadata": {},
   "outputs": [
    {
     "name": "stdout",
     "output_type": "stream",
     "text": [
      "120\n"
     ]
    }
   ],
   "source": [
    "num=5\n",
    "fact(num)"
   ]
  },
  {
   "cell_type": "markdown",
   "id": "6acb6ee2",
   "metadata": {},
   "source": [
    "Write a Python function to find the maximum of three numbers"
   ]
  },
  {
   "cell_type": "code",
   "execution_count": 39,
   "id": "ae7a0b5e",
   "metadata": {},
   "outputs": [],
   "source": [
    "def maximum(a,b,c):\n",
    "    maxi=max(a,b,c)\n",
    "    return maxi"
   ]
  },
  {
   "cell_type": "code",
   "execution_count": 40,
   "id": "3764bf5d",
   "metadata": {},
   "outputs": [
    {
     "data": {
      "text/plain": [
       "3"
      ]
     },
     "execution_count": 40,
     "metadata": {},
     "output_type": "execute_result"
    }
   ],
   "source": [
    "a=1\n",
    "b=2\n",
    "c=3\n",
    "maximum(a,b,c)"
   ]
  },
  {
   "cell_type": "markdown",
   "id": "a65eacc8",
   "metadata": {},
   "source": [
    " Write a Python function to sum all the numbers in a list.\n",
    "Sample List : (8, 2, 3, 0, 7)\n",
    "Expected Output : 20"
   ]
  },
  {
   "cell_type": "code",
   "execution_count": 1,
   "id": "acbf5786",
   "metadata": {},
   "outputs": [],
   "source": [
    "def sum(l):\n",
    "    add=sum(l)\n",
    "    return add"
   ]
  },
  {
   "cell_type": "code",
   "execution_count": 1,
   "id": "26cda8ea",
   "metadata": {},
   "outputs": [
    {
     "data": {
      "text/plain": [
       "20"
      ]
     },
     "execution_count": 1,
     "metadata": {},
     "output_type": "execute_result"
    }
   ],
   "source": [
    "l=[8, 2, 3, 0, 7]\n",
    "sum(l)"
   ]
  },
  {
   "cell_type": "markdown",
   "id": "a7574861",
   "metadata": {},
   "source": [
    "Write a Python function to multiply all the numbers in a list.\n",
    "Sample List : (8, 2, 3, -1, 7)\n",
    "Expected Output : -336"
   ]
  },
  {
   "cell_type": "code",
   "execution_count": 7,
   "id": "c589b8df",
   "metadata": {},
   "outputs": [],
   "source": [
    "def multiply(l):\n",
    "    num=1\n",
    "    for i in l:\n",
    "        num*=i\n",
    "    return num"
   ]
  },
  {
   "cell_type": "code",
   "execution_count": 8,
   "id": "97cd053f",
   "metadata": {},
   "outputs": [
    {
     "data": {
      "text/plain": [
       "-336"
      ]
     },
     "execution_count": 8,
     "metadata": {},
     "output_type": "execute_result"
    }
   ],
   "source": [
    "l=[8, 2, 3, -1, 7]\n",
    "multiply(l)"
   ]
  },
  {
   "cell_type": "markdown",
   "id": "e3311d4f",
   "metadata": {},
   "source": [
    "Write a Python program to reverse a string.\n",
    "Sample String : \"1234abcd\"\n",
    "Expected Output : \"dcba4321\""
   ]
  },
  {
   "cell_type": "code",
   "execution_count": 14,
   "id": "6dfb15b1",
   "metadata": {},
   "outputs": [],
   "source": [
    "def reverse(string):\n",
    "   \n",
    "    num_str=string[::-1]\n",
    "    return num_str"
   ]
  },
  {
   "cell_type": "code",
   "execution_count": 15,
   "id": "4e9d0880",
   "metadata": {},
   "outputs": [
    {
     "name": "stdout",
     "output_type": "stream",
     "text": [
      "enter string123\n"
     ]
    },
    {
     "data": {
      "text/plain": [
       "'321'"
      ]
     },
     "execution_count": 15,
     "metadata": {},
     "output_type": "execute_result"
    }
   ],
   "source": [
    "string=input(\"enter string\")\n",
    "reverse(string)"
   ]
  },
  {
   "cell_type": "markdown",
   "id": "b64a4168",
   "metadata": {},
   "source": [
    " Write a Python function to calculate the factorial of a number (a non-negative integer). The function accepts the number as an argument."
   ]
  },
  {
   "cell_type": "code",
   "execution_count": 16,
   "id": "dbdbb3bb",
   "metadata": {},
   "outputs": [],
   "source": [
    "def fact(num):\n",
    "  \n",
    "    sum=1\n",
    "    while num>0:\n",
    "        sum*=num\n",
    "        num-=1\n",
    "    print(sum)"
   ]
  },
  {
   "cell_type": "code",
   "execution_count": 17,
   "id": "19a70267",
   "metadata": {},
   "outputs": [
    {
     "name": "stdout",
     "output_type": "stream",
     "text": [
      "24\n"
     ]
    }
   ],
   "source": [
    "num=4\n",
    "fact(4)"
   ]
  },
  {
   "cell_type": "markdown",
   "id": "9ba29e63",
   "metadata": {},
   "source": [
    "Write a Python function to check whether a number falls within a given range.\n"
   ]
  },
  {
   "cell_type": "code",
   "execution_count": 18,
   "id": "2d66b89c",
   "metadata": {},
   "outputs": [],
   "source": [
    "def check_range(num):\n",
    "    if num in range(1,10):\n",
    "        print(\"it is range\")\n",
    "    else:\n",
    "        print(\"not in range\")"
   ]
  },
  {
   "cell_type": "code",
   "execution_count": 20,
   "id": "2cd00678",
   "metadata": {},
   "outputs": [
    {
     "name": "stdout",
     "output_type": "stream",
     "text": [
      "not in range\n"
     ]
    }
   ],
   "source": [
    "num=10\n",
    "check_range(num)"
   ]
  },
  {
   "cell_type": "markdown",
   "id": "141540a1",
   "metadata": {},
   "source": [
    " Write a Python function that accepts a string and counts the number of upper and lower case letters.\n",
    "Sample String : 'The quick Brow Fox'\n",
    "Expected Output :\n",
    "No. of Upper case characters : 3\n",
    "No. of Lower case Characters : 12"
   ]
  },
  {
   "cell_type": "code",
   "execution_count": 33,
   "id": "c89f8780",
   "metadata": {},
   "outputs": [],
   "source": [
    "def check(string):\n",
    "    u=0\n",
    "    l=0\n",
    "    for char in string:\n",
    "        if char.isupper():\n",
    "            u+=1\n",
    "        elif char.islower():\n",
    "            l+=1\n",
    "    return u,l"
   ]
  },
  {
   "cell_type": "code",
   "execution_count": 34,
   "id": "06676bc5",
   "metadata": {},
   "outputs": [
    {
     "data": {
      "text/plain": [
       "(3, 12)"
      ]
     },
     "execution_count": 34,
     "metadata": {},
     "output_type": "execute_result"
    }
   ],
   "source": [
    "n='The quick Brow Fox'\n",
    "check(n)"
   ]
  },
  {
   "cell_type": "code",
   "execution_count": null,
   "id": "32c5a2d3",
   "metadata": {},
   "outputs": [],
   "source": []
  }
 ],
 "metadata": {
  "kernelspec": {
   "display_name": "Python 3 (ipykernel)",
   "language": "python",
   "name": "python3"
  },
  "language_info": {
   "codemirror_mode": {
    "name": "ipython",
    "version": 3
   },
   "file_extension": ".py",
   "mimetype": "text/x-python",
   "name": "python",
   "nbconvert_exporter": "python",
   "pygments_lexer": "ipython3",
   "version": "3.9.7"
  }
 },
 "nbformat": 4,
 "nbformat_minor": 5
}
