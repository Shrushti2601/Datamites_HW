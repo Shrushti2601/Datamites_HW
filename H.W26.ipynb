{
 "cells": [
  {
   "cell_type": "markdown",
   "id": "909cb094",
   "metadata": {},
   "source": [
    "Write a Python function that takes a list and returns a new list with distinct elements from the first list.\n",
    "Sample List : [1,2,3,3,3,3,4,5]\n",
    "Unique List : [1, 2, 3, 4, 5]"
   ]
  },
  {
   "cell_type": "code",
   "execution_count": 1,
   "id": "865817b5",
   "metadata": {},
   "outputs": [],
   "source": [
    "def convert(l):\n",
    "    m=set(l)\n",
    "    n=list(m)\n",
    "    return n"
   ]
  },
  {
   "cell_type": "code",
   "execution_count": 2,
   "id": "17a98dd2",
   "metadata": {},
   "outputs": [
    {
     "data": {
      "text/plain": [
       "[1, 2, 3, 4, 5]"
      ]
     },
     "execution_count": 2,
     "metadata": {},
     "output_type": "execute_result"
    }
   ],
   "source": [
    "l=[1,2,3,3,3,3,4,5] \n",
    "convert(l)"
   ]
  },
  {
   "cell_type": "markdown",
   "id": "fbd95af2",
   "metadata": {},
   "source": [
    " Write a Python function that takes a number as a parameter and checks whether the number is prime or not.\n",
    "Note : A prime number (or a prime) is a natural number greater than 1 and that has no positive divisors other than 1 and itself."
   ]
  },
  {
   "cell_type": "code",
   "execution_count": 9,
   "id": "462a61c3",
   "metadata": {},
   "outputs": [],
   "source": [
    "def is_prime(num):\n",
    "    if num>1:\n",
    "        for i in range(num,int(num/2)+1):\n",
    "            if num%i==0:\n",
    "                print(\"not prime\")\n",
    "        else:\n",
    "            print(\"prime\")\n",
    "    else:\n",
    "        print('not prime')        "
   ]
  },
  {
   "cell_type": "code",
   "execution_count": 10,
   "id": "82ba9052",
   "metadata": {},
   "outputs": [
    {
     "name": "stdout",
     "output_type": "stream",
     "text": [
      "prime\n"
     ]
    }
   ],
   "source": [
    "num=2\n",
    "is_prime(num)"
   ]
  },
  {
   "cell_type": "markdown",
   "id": "af9dafc8",
   "metadata": {},
   "source": [
    " Write a Python program to print the even numbers from a given list.\n",
    "Sample List : [1, 2, 3, 4, 5, 6, 7, 8, 9]\n",
    "Expected Result : [2, 4, 6, 8]"
   ]
  },
  {
   "cell_type": "code",
   "execution_count": 33,
   "id": "0707a64f",
   "metadata": {},
   "outputs": [],
   "source": [
    "def is_even(l):\n",
    "    even=[]\n",
    "    for i in l:\n",
    "        if i%2==0:\n",
    "            even.append(i)\n",
    "    print(even)\n",
    "           \n",
    "            \n",
    "            "
   ]
  },
  {
   "cell_type": "code",
   "execution_count": 34,
   "id": "7ecd8ce7",
   "metadata": {},
   "outputs": [
    {
     "name": "stdout",
     "output_type": "stream",
     "text": [
      "[2, 4, 6, 8]\n"
     ]
    }
   ],
   "source": [
    "l=[1, 2, 3, 4, 5, 6, 7, 8, 9]\n",
    "is_even(l)"
   ]
  },
  {
   "cell_type": "markdown",
   "id": "87aac4eb",
   "metadata": {},
   "source": [
    "Write a Python function that checks whether a passed string is a palindrome or not. Note: A palindrome is a word, phrase, or sequence that reads the same backward as forward, e.g., madam or nurses run."
   ]
  },
  {
   "cell_type": "code",
   "execution_count": 35,
   "id": "e79816b7",
   "metadata": {},
   "outputs": [],
   "source": [
    "def palindrome(num):\n",
    "   \n",
    "    \n",
    "    if num==num[::-1]:\n",
    "        print(\"palindrome\")\n",
    "    else:\n",
    "        print(\"not\")\n",
    "    \n",
    "   "
   ]
  },
  {
   "cell_type": "code",
   "execution_count": 36,
   "id": "6ca3a1eb",
   "metadata": {},
   "outputs": [
    {
     "name": "stdout",
     "output_type": "stream",
     "text": [
      "palindrome\n"
     ]
    }
   ],
   "source": [
    "num='121'\n",
    "palindrome(num)"
   ]
  },
  {
   "cell_type": "markdown",
   "id": "ddfb0f26",
   "metadata": {},
   "source": [
    "Write a Python function that prints out the first n rows of Pascal's triangle. Note : Pascal's triangle is an arithmetic and geometric figure first imagined by Blaise Pascal."
   ]
  },
  {
   "cell_type": "code",
   "execution_count": 40,
   "id": "5d4fd764",
   "metadata": {},
   "outputs": [
    {
     "name": "stdout",
     "output_type": "stream",
     "text": [
      "      1 \n",
      "     1 1 \n",
      "    1 2 1 \n",
      "   1 3 3 1 \n",
      "  1 4 6 4 1 \n"
     ]
    }
   ],
   "source": [
    "\n",
    "from math import factorial\n",
    "\n",
    "n = 5\n",
    "for i in range(n):\n",
    "\tfor j in range(n-i+1):\n",
    "\n",
    "\n",
    "\t\tprint(end=\" \")\n",
    "\n",
    "\tfor j in range(i+1):\n",
    "\n",
    "\t\t# nCr = n!/((n-r)!*r!)\n",
    "\t\tprint(factorial(i)//(factorial(j)*factorial(i-j)), end=\" \")\n",
    "\n",
    "\n",
    "\tprint()\n"
   ]
  },
  {
   "cell_type": "markdown",
   "id": "73303d4e",
   "metadata": {},
   "source": [
    "Write a Python function to check whether a string is a pangram or not. Note : Pangrams are words or sentences containing every letter of the alphabet at least once. For example : \"The quick brown fox jumps over the lazy dog\""
   ]
  },
  {
   "cell_type": "code",
   "execution_count": 42,
   "id": "b6227242",
   "metadata": {},
   "outputs": [
    {
     "name": "stdout",
     "output_type": "stream",
     "text": [
      "The given text is a pangram.\n"
     ]
    }
   ],
   "source": [
    "def is_pangram(s):\n",
    "    alphabet = set('abcdefghijklmnopqrstuvwxyz')\n",
    "    return set(s.lower()) >= alphabet\n",
    "\n",
    "\n",
    "text = \"The quick brown fox jumps over the lazy dog\"\n",
    "if is_pangram(text):\n",
    "    print(\"The given text is a pangram.\")\n",
    "else:\n",
    "    print(\"The given text is not a pangram.\")\n"
   ]
  },
  {
   "cell_type": "markdown",
   "id": "2694be9f",
   "metadata": {},
   "source": [
    "Write a Python program that accepts a hyphen-separated sequence of words as input and prints the words in a hyphen-separated sequence after sorting them alphabetically. Sample Items : green-red-yellow-black-white Expected Result : black-green-red-white-yellow"
   ]
  },
  {
   "cell_type": "code",
   "execution_count": 43,
   "id": "7272229d",
   "metadata": {},
   "outputs": [
    {
     "name": "stdout",
     "output_type": "stream",
     "text": [
      "Enter hyphen-separated sequence of words: green-red-yellow-black-white\n",
      "Sorted hyphen-separated sequence: black-green-red-white-yellow\n"
     ]
    }
   ],
   "source": [
    "def sort_hyphen_separated_sequence(sequence):\n",
    "    \n",
    "    words = sequence.split('-')\n",
    "\n",
    "    \n",
    "    sorted_words = sorted(words)\n",
    "\n",
    "    \n",
    "    sorted_sequence = '-'.join(sorted_words)\n",
    "\n",
    "    return sorted_sequence\n",
    "\n",
    "\n",
    "sequence = input(\"Enter hyphen-separated sequence of words: \")\n",
    "\n",
    "\n",
    "sorted_sequence = sort_hyphen_separated_sequence(sequence)\n",
    "print(\"Sorted hyphen-separated sequence:\", sorted_sequence)\n"
   ]
  },
  {
   "cell_type": "markdown",
   "id": "ab697f63",
   "metadata": {},
   "source": [
    "Write a Python function to create and print a list where the values are the squares of numbers between 1 and 30 (both included)."
   ]
  },
  {
   "cell_type": "code",
   "execution_count": 44,
   "id": "5a691e9e",
   "metadata": {},
   "outputs": [
    {
     "name": "stdout",
     "output_type": "stream",
     "text": [
      "List of squares of numbers between 1 and 30:\n",
      "[1, 4, 9, 16, 25, 36, 49, 64, 81, 100, 121, 144, 169, 196, 225, 256, 289, 324, 361, 400, 441, 484, 529, 576, 625, 676, 729, 784, 841, 900]\n"
     ]
    }
   ],
   "source": [
    "def squares_list():\n",
    "  \n",
    "   \n",
    "    squares = [x ** 2 for x in range(1, 31)]\n",
    "\n",
    "\n",
    "    print(\"List of squares of numbers between 1 and 30:\")\n",
    "    print(squares)\n",
    "\n",
    "\n",
    "squares_list()\n"
   ]
  },
  {
   "cell_type": "markdown",
   "id": "0e725209",
   "metadata": {},
   "source": [
    "Write a Python program to create a chain of function decorators (bold, italic, underline etc.)."
   ]
  },
  {
   "cell_type": "markdown",
   "id": "cc07aded",
   "metadata": {},
   "source": [
    "Write a Python program to execute a string containing Python code."
   ]
  },
  {
   "cell_type": "code",
   "execution_count": 47,
   "id": "b0b7e4a2",
   "metadata": {},
   "outputs": [
    {
     "name": "stdout",
     "output_type": "stream",
     "text": [
      "Hello, World\n"
     ]
    }
   ],
   "source": [
    "# String containing Python code\n",
    "python_code = '''\n",
    "def greet(name):\n",
    "    print(\"Hello,\", name)\n",
    "\n",
    "greet(\"World\")\n",
    "'''\n",
    "\n",
    "# Execute the string containing Python code\n",
    "exec(python_code)\n"
   ]
  },
  {
   "cell_type": "code",
   "execution_count": null,
   "id": "3d2e1418",
   "metadata": {},
   "outputs": [],
   "source": []
  }
 ],
 "metadata": {
  "kernelspec": {
   "display_name": "Python 3 (ipykernel)",
   "language": "python",
   "name": "python3"
  },
  "language_info": {
   "codemirror_mode": {
    "name": "ipython",
    "version": 3
   },
   "file_extension": ".py",
   "mimetype": "text/x-python",
   "name": "python",
   "nbconvert_exporter": "python",
   "pygments_lexer": "ipython3",
   "version": "3.9.7"
  }
 },
 "nbformat": 4,
 "nbformat_minor": 5
}
