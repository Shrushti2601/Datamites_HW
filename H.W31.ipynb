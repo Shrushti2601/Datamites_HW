{
 "cells": [
  {
   "cell_type": "markdown",
   "id": "c9790da5",
   "metadata": {},
   "source": [
    "# Predefind varible add of two num"
   ]
  },
  {
   "cell_type": "code",
   "execution_count": 1,
   "id": "5d33b2f5",
   "metadata": {},
   "outputs": [
    {
     "data": {
      "text/plain": [
       "40"
      ]
     },
     "execution_count": 1,
     "metadata": {},
     "output_type": "execute_result"
    }
   ],
   "source": [
    "def sum(a,b):\n",
    "    c=a+b\n",
    "    return c\n",
    "a=10\n",
    "b=30\n",
    "sum(a,b)"
   ]
  },
  {
   "cell_type": "code",
   "execution_count": 2,
   "id": "00e2a882",
   "metadata": {},
   "outputs": [
    {
     "name": "stdout",
     "output_type": "stream",
     "text": [
      "enter value of a: 2\n",
      "enter value of b :3\n"
     ]
    },
    {
     "data": {
      "text/plain": [
       "5.0"
      ]
     },
     "execution_count": 2,
     "metadata": {},
     "output_type": "execute_result"
    }
   ],
   "source": [
    "def sum(a,b):\n",
    "    c=a+b\n",
    "    return c\n",
    "a=float(input(\"enter value of a: \"))\n",
    "\n",
    "b=float(input(\"enter value of b :\"))\n",
    "sum(a,b)"
   ]
  },
  {
   "cell_type": "markdown",
   "id": "07895a4e",
   "metadata": {},
   "source": [
    "# print hello world"
   ]
  },
  {
   "cell_type": "code",
   "execution_count": 3,
   "id": "ad0e90d8",
   "metadata": {},
   "outputs": [
    {
     "name": "stdout",
     "output_type": "stream",
     "text": [
      "Hello World!\n"
     ]
    },
    {
     "data": {
      "text/plain": [
       "'Hello World!'"
      ]
     },
     "execution_count": 3,
     "metadata": {},
     "output_type": "execute_result"
    }
   ],
   "source": [
    "def stringss(s):\n",
    "    return s\n",
    "s=input()\n",
    "stringss(s)"
   ]
  },
  {
   "cell_type": "markdown",
   "id": "d15264c9",
   "metadata": {},
   "source": [
    "# Print Square Root"
   ]
  },
  {
   "cell_type": "code",
   "execution_count": 6,
   "id": "0b3837ea",
   "metadata": {},
   "outputs": [
    {
     "name": "stdout",
     "output_type": "stream",
     "text": [
      "enter number :4\n",
      "2.0\n"
     ]
    }
   ],
   "source": [
    "import math\n",
    "b=float(input(\"enter number :\"))\n",
    "a=math.sqrt(b)\n",
    "print(a)"
   ]
  },
  {
   "cell_type": "code",
   "execution_count": 7,
   "id": "d8eeb9b1",
   "metadata": {},
   "outputs": [
    {
     "name": "stdout",
     "output_type": "stream",
     "text": [
      "8.0\n"
     ]
    }
   ],
   "source": [
    "num=64\n",
    "sr=num**(0.5)\n",
    "print(sr)"
   ]
  },
  {
   "cell_type": "markdown",
   "id": "16af6d58",
   "metadata": {},
   "source": [
    "# Area of Triangle"
   ]
  },
  {
   "cell_type": "code",
   "execution_count": 8,
   "id": "26b8895a",
   "metadata": {},
   "outputs": [
    {
     "name": "stdout",
     "output_type": "stream",
     "text": [
      "enter number :2\n",
      "enter number :4\n",
      "4.0\n"
     ]
    }
   ],
   "source": [
    "a=float(input(\"enter number :\"))\n",
    "b=float(input(\"enter number :\"))\n",
    "area=(1/2)*b*a\n",
    "print(area)"
   ]
  },
  {
   "cell_type": "markdown",
   "id": "784d5ab1",
   "metadata": {},
   "source": [
    "# Swap two varible"
   ]
  },
  {
   "cell_type": "code",
   "execution_count": 10,
   "id": "f629dc3b",
   "metadata": {},
   "outputs": [
    {
     "name": "stdout",
     "output_type": "stream",
     "text": [
      "4\n",
      "3\n"
     ]
    }
   ],
   "source": [
    "a=3\n",
    "b=4\n",
    "temp=a\n",
    "a=b\n",
    "b=temp\n",
    "print(a)\n",
    "print(b)"
   ]
  },
  {
   "cell_type": "code",
   "execution_count": 11,
   "id": "c1f1a923",
   "metadata": {},
   "outputs": [
    {
     "name": "stdout",
     "output_type": "stream",
     "text": [
      "4\n",
      "3\n"
     ]
    }
   ],
   "source": [
    "a=3\n",
    "b=4\n",
    "a,b=b,a\n",
    "print(a)\n",
    "print(b)\n"
   ]
  },
  {
   "cell_type": "code",
   "execution_count": 12,
   "id": "d9638528",
   "metadata": {},
   "outputs": [
    {
     "name": "stdout",
     "output_type": "stream",
     "text": [
      "After swapping:\n",
      "a = 20\n",
      "b = 10\n"
     ]
    }
   ],
   "source": [
    "# Original numbers\n",
    "a = 10\n",
    "b = 20\n",
    "\n",
    "# Swapping using arithmetic operations\n",
    "a = a + b\n",
    "b = a - b\n",
    "a = a - b\n",
    "\n",
    "print(\"After swapping:\")\n",
    "print(\"a =\", a)\n",
    "print(\"b =\", b)\n"
   ]
  },
  {
   "cell_type": "code",
   "execution_count": 13,
   "id": "86a45088",
   "metadata": {},
   "outputs": [
    {
     "name": "stdout",
     "output_type": "stream",
     "text": [
      "After swapping:\n",
      "a = 20\n",
      "b = 10\n"
     ]
    }
   ],
   "source": [
    "# Original numbers\n",
    "a = 10\n",
    "b = 20\n",
    "\n",
    "# Swapping using XOR bitwise operation\n",
    "a = a ^ b\n",
    "b = a ^ b\n",
    "a = a ^ b\n",
    "\n",
    "print(\"After swapping:\")\n",
    "print(\"a =\", a)\n",
    "print(\"b =\", b)\n"
   ]
  },
  {
   "cell_type": "markdown",
   "id": "d7c693a3",
   "metadata": {},
   "source": [
    "# kilometer to miles"
   ]
  },
  {
   "cell_type": "code",
   "execution_count": 19,
   "id": "5041c421",
   "metadata": {},
   "outputs": [
    {
     "name": "stdout",
     "output_type": "stream",
     "text": [
      " enter you value in kilometers :5\n",
      "3.106855 miles\n"
     ]
    }
   ],
   "source": [
    "km=float(input(\" enter you value in kilometers :\"))\n",
    "miles=(0.621371)*km\n",
    "print(miles,\"miles\")"
   ]
  },
  {
   "cell_type": "markdown",
   "id": "39fa3056",
   "metadata": {},
   "source": [
    "# positive,negative,zero"
   ]
  },
  {
   "cell_type": "code",
   "execution_count": 23,
   "id": "ae7f96ad",
   "metadata": {},
   "outputs": [
    {
     "name": "stdout",
     "output_type": "stream",
     "text": [
      "enter number-1.2\n"
     ]
    },
    {
     "data": {
      "text/plain": [
       "'negative'"
      ]
     },
     "execution_count": 23,
     "metadata": {},
     "output_type": "execute_result"
    }
   ],
   "source": [
    "def check_number(a):\n",
    "    if a>0:\n",
    "        return 'positive'\n",
    "    elif a==0:\n",
    "        return 'zero'\n",
    "    else:\n",
    "        return 'negative'\n",
    "a=float(input(\"enter number\"))\n",
    "check_number(a)"
   ]
  },
  {
   "cell_type": "markdown",
   "id": "de54cc16",
   "metadata": {},
   "source": [
    "# even , odd"
   ]
  },
  {
   "cell_type": "code",
   "execution_count": 27,
   "id": "6b012bf6",
   "metadata": {},
   "outputs": [
    {
     "name": "stdout",
     "output_type": "stream",
     "text": [
      "enter number100202\n"
     ]
    },
    {
     "data": {
      "text/plain": [
       "'even'"
      ]
     },
     "execution_count": 27,
     "metadata": {},
     "output_type": "execute_result"
    }
   ],
   "source": [
    "def check_number(a):\n",
    "    if a%2==0:\n",
    "        return 'even'\n",
    "    else:\n",
    "        return 'odd'\n",
    "a=float(input(\"enter number\"))\n",
    "check_number(a)"
   ]
  },
  {
   "cell_type": "markdown",
   "id": "af110440",
   "metadata": {},
   "source": [
    "# leap year"
   ]
  },
  {
   "cell_type": "code",
   "execution_count": 29,
   "id": "aaa86f23",
   "metadata": {},
   "outputs": [
    {
     "name": "stdout",
     "output_type": "stream",
     "text": [
      "enter year: 2000\n",
      "leap\n"
     ]
    }
   ],
   "source": [
    "year=int(input(\"enter year: \"))\n",
    "if (year%400==0)and (year%100==0):\n",
    "    print(\"leap\")\n",
    "elif (year%4==0)and(year%100!=0):\n",
    "    print(\"leap\")\n",
    "else:\n",
    "    print(\"not\")"
   ]
  },
  {
   "cell_type": "markdown",
   "id": "c0f81bcf",
   "metadata": {},
   "source": [
    "# Largest three number"
   ]
  },
  {
   "cell_type": "code",
   "execution_count": 31,
   "id": "9e02d8b5",
   "metadata": {},
   "outputs": [
    {
     "name": "stdout",
     "output_type": "stream",
     "text": [
      "22\n"
     ]
    }
   ],
   "source": [
    "def find_largest(a,b,c):\n",
    "    d=max(a,b,c)\n",
    "    print(d)\n",
    "a=1\n",
    "b=22\n",
    "c=3\n",
    "find_largest(a,b,c)"
   ]
  },
  {
   "cell_type": "code",
   "execution_count": 32,
   "id": "0336110c",
   "metadata": {},
   "outputs": [
    {
     "name": "stdout",
     "output_type": "stream",
     "text": [
      "num2 a is gratest\n"
     ]
    }
   ],
   "source": [
    "num1=12\n",
    "num2=56\n",
    "num3=34\n",
    "\n",
    "if num1>num2 and num1>num3:\n",
    "    print(\"num1 a is gratest\")\n",
    "elif num2>num1 and num2>num3:\n",
    "    print(\"num2 a is gratest\")\n",
    "else:\n",
    "    print(\"num3 is lagest\")\n",
    "    \n"
   ]
  },
  {
   "cell_type": "markdown",
   "id": "4e7593a7",
   "metadata": {},
   "source": [
    "# prime number"
   ]
  },
  {
   "cell_type": "code",
   "execution_count": 49,
   "id": "191e4f64",
   "metadata": {},
   "outputs": [
    {
     "name": "stdout",
     "output_type": "stream",
     "text": [
      "enter number: 37\n",
      "prime\n"
     ]
    }
   ],
   "source": [
    "num=int(input(\"enter number: \"))\n",
    "if num>1:\n",
    "    for i in range(2,num):\n",
    "        if num%i==0:\n",
    "            print(\" not prime\")\n",
    "            break\n",
    "    else:\n",
    "        print(\"prime\")\n",
    "            \n",
    "            \n",
    "       \n",
    "            \n"
   ]
  },
  {
   "cell_type": "markdown",
   "id": "1371a9a6",
   "metadata": {},
   "source": [
    "# gererate random number"
   ]
  },
  {
   "cell_type": "code",
   "execution_count": 70,
   "id": "72c246e2",
   "metadata": {},
   "outputs": [
    {
     "data": {
      "text/plain": [
       "array([2, 1, 3])"
      ]
     },
     "execution_count": 70,
     "metadata": {},
     "output_type": "execute_result"
    }
   ],
   "source": [
    "import numpy as np\n",
    "\n",
    "a=np.random.randint(1,6,3)\n",
    "a\n"
   ]
  },
  {
   "cell_type": "code",
   "execution_count": 71,
   "id": "cd7c1b30",
   "metadata": {},
   "outputs": [
    {
     "data": {
      "text/plain": [
       "numpy.ndarray"
      ]
     },
     "execution_count": 71,
     "metadata": {},
     "output_type": "execute_result"
    }
   ],
   "source": [
    "type(a)"
   ]
  },
  {
   "cell_type": "code",
   "execution_count": null,
   "id": "7fecbd6b",
   "metadata": {},
   "outputs": [],
   "source": []
  }
 ],
 "metadata": {
  "kernelspec": {
   "display_name": "Python 3 (ipykernel)",
   "language": "python",
   "name": "python3"
  },
  "language_info": {
   "codemirror_mode": {
    "name": "ipython",
    "version": 3
   },
   "file_extension": ".py",
   "mimetype": "text/x-python",
   "name": "python",
   "nbconvert_exporter": "python",
   "pygments_lexer": "ipython3",
   "version": "3.9.7"
  }
 },
 "nbformat": 4,
 "nbformat_minor": 5
}
