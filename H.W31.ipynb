{
 "cells": [
  {
   "cell_type": "code",
   "execution_count": 10,
   "id": "801610d1",
   "metadata": {},
   "outputs": [
    {
     "name": "stdout",
     "output_type": "stream",
     "text": [
      "   *   \n",
      "\n",
      "  * *  \n",
      "\n",
      " *   * \n",
      "\n",
      "*******\n",
      "\n"
     ]
    }
   ],
   "source": [
    "n=5\n",
    "for i in range(1,5):\n",
    "    for j in range(1,8):\n",
    "        if i==4 or i+j==5 or j-i==3:\n",
    "            print(\"*\",end='')\n",
    "        else:\n",
    "            print(end=' ')\n",
    "    print()\n",
    "    \n",
    "   \n",
    "    print()"
   ]
  },
  {
   "cell_type": "markdown",
   "id": "d03216a8",
   "metadata": {},
   "source": [
    "Perfect number"
   ]
  },
  {
   "cell_type": "code",
   "execution_count": 32,
   "id": "ea620440",
   "metadata": {},
   "outputs": [
    {
     "name": "stdout",
     "output_type": "stream",
     "text": [
      "enter number158\n",
      "not perfect number \n"
     ]
    }
   ],
   "source": [
    "n=int(input(\"enter number\"))\n",
    "sum=0\n",
    "\n",
    "for i in range(1,n):\n",
    "    if n%i==0:\n",
    "        sum+=i\n",
    "if n==sum:\n",
    "    print(\"perfect number\")\n",
    "else:\n",
    "    print(\"not perfect number \")\n",
    "    \n"
   ]
  },
  {
   "cell_type": "code",
   "execution_count": null,
   "id": "071491b5",
   "metadata": {},
   "outputs": [],
   "source": [
    "1 if string =python\n",
    "p\n",
    "p y\n",
    "p y t \n",
    "p y t h\n",
    "p y t h o\n",
    "p y t h o n"
   ]
  },
  {
   "cell_type": "code",
   "execution_count": 33,
   "id": "aaaff77f",
   "metadata": {},
   "outputs": [
    {
     "name": "stdout",
     "output_type": "stream",
     "text": [
      "enter name: python\n",
      "p \n",
      "p y \n",
      "p y t \n",
      "p y t h \n",
      "p y t h o \n",
      "p y t h o n \n"
     ]
    }
   ],
   "source": [
    "s=input(\"enter name: \")\n",
    "l=len(s)\n",
    "for i in range(l):\n",
    "    for j in range(i+1):\n",
    "        print(s[j],end=' ')\n",
    "    print()"
   ]
  },
  {
   "cell_type": "markdown",
   "id": "6099e156",
   "metadata": {},
   "source": [
    "Swpaing numbers"
   ]
  },
  {
   "cell_type": "code",
   "execution_count": null,
   "id": "4634ee76",
   "metadata": {},
   "outputs": [],
   "source": [
    "1st way"
   ]
  },
  {
   "cell_type": "code",
   "execution_count": 34,
   "id": "84f8e34c",
   "metadata": {},
   "outputs": [
    {
     "name": "stdout",
     "output_type": "stream",
     "text": [
      "10\n",
      "5\n"
     ]
    }
   ],
   "source": [
    "a=5\n",
    "b=10\n",
    "a,b=b,a\n",
    "print(a)\n",
    "print(b)"
   ]
  },
  {
   "cell_type": "markdown",
   "id": "19445002",
   "metadata": {},
   "source": [
    "2nd way"
   ]
  },
  {
   "cell_type": "code",
   "execution_count": 35,
   "id": "c9bdf10a",
   "metadata": {},
   "outputs": [
    {
     "name": "stdout",
     "output_type": "stream",
     "text": [
      "2\n",
      "1\n"
     ]
    }
   ],
   "source": [
    "a=1\n",
    "b=2\n",
    "temp=a\n",
    "a=b\n",
    "b=temp\n",
    "print(a)\n",
    "print(b)"
   ]
  },
  {
   "cell_type": "markdown",
   "id": "1dcc22fa",
   "metadata": {},
   "source": [
    "3rd way"
   ]
  },
  {
   "cell_type": "code",
   "execution_count": 36,
   "id": "5c322fca",
   "metadata": {},
   "outputs": [
    {
     "name": "stdout",
     "output_type": "stream",
     "text": [
      "a = 10\n",
      "b = 5\n"
     ]
    }
   ],
   "source": [
    "a = 5\n",
    "b = 10\n",
    "\n",
    "\n",
    "a = a + b\n",
    "b = a - b\n",
    "a = a - b\n",
    "\n",
    "\n",
    "print(\"a =\", a)\n",
    "print(\"b =\", b)"
   ]
  },
  {
   "cell_type": "code",
   "execution_count": 38,
   "id": "bb8b3251",
   "metadata": {},
   "outputs": [
    {
     "name": "stdout",
     "output_type": "stream",
     "text": [
      "a = 10\n",
      "b = 5\n"
     ]
    }
   ],
   "source": [
    "a = 5\n",
    "b = 10\n",
    "\n",
    "# Swapping without using a temporary variable and arithmetic operations\n",
    "a = a ^ b\n",
    "b = a ^ b\n",
    "a = a ^ b\n",
    "\n",
    "\n",
    "print(\"a =\", a)\n",
    "print(\"b =\", b)"
   ]
  },
  {
   "cell_type": "code",
   "execution_count": null,
   "id": "cd353471",
   "metadata": {},
   "outputs": [],
   "source": [
    "      *\n",
    "    *   *\n",
    "  *       *\n",
    "    *   *\n",
    "      *"
   ]
  },
  {
   "cell_type": "code",
   "execution_count": 48,
   "id": "319fc3d5",
   "metadata": {},
   "outputs": [
    {
     "name": "stdout",
     "output_type": "stream",
     "text": [
      "  *  \n",
      " * * \n",
      "*   *\n",
      " * * \n",
      "  *  \n"
     ]
    }
   ],
   "source": [
    "n=6\n",
    "for i in range(1,n):\n",
    "    for j in range(1,n):\n",
    "        if i+j==4 or j-i==2 or i-j==2 or i==j==4:\n",
    "            print(\"*\",end='')\n",
    "        else:\n",
    "            print(end=' ')\n",
    "    print()"
   ]
  },
  {
   "cell_type": "markdown",
   "id": "86590462",
   "metadata": {},
   "source": [
    "reverse string using loop"
   ]
  },
  {
   "cell_type": "code",
   "execution_count": 50,
   "id": "ab3a7f2b",
   "metadata": {},
   "outputs": [
    {
     "name": "stdout",
     "output_type": "stream",
     "text": [
      "cba\n"
     ]
    }
   ],
   "source": [
    "a='abc'\n",
    "b=str(a)\n",
    "c=b[::-1]\n",
    "print(c)\n"
   ]
  },
  {
   "cell_type": "code",
   "execution_count": 51,
   "id": "26600f3f",
   "metadata": {},
   "outputs": [
    {
     "name": "stdout",
     "output_type": "stream",
     "text": [
      "Reversed string: !dlroW ,olleH\n"
     ]
    }
   ],
   "source": [
    "original_string = \"Hello, World!\"\n",
    "reversed_string = \"\"\n",
    "for char in original_string:\n",
    "    reversed_string = char + reversed_string\n",
    "print(\"Reversed string:\", reversed_string)\n"
   ]
  },
  {
   "cell_type": "code",
   "execution_count": 63,
   "id": "f34e7fd6",
   "metadata": {},
   "outputs": [],
   "source": [
    "def reverse(s):\n",
    "    reversed_string = \"\"\n",
    "    for char in original_string:\n",
    "        reversed_string = char + reversed_string\n",
    "    print(\"Reversed string:\", reversed_string)"
   ]
  },
  {
   "cell_type": "code",
   "execution_count": 64,
   "id": "4b0d969b",
   "metadata": {},
   "outputs": [
    {
     "name": "stdout",
     "output_type": "stream",
     "text": [
      "Reversed string: !dlroW ,olleH\n"
     ]
    }
   ],
   "source": [
    "s='shrushti'\n",
    "reverse(s)"
   ]
  },
  {
   "cell_type": "code",
   "execution_count": null,
   "id": "ea2c476c",
   "metadata": {},
   "outputs": [],
   "source": [
    "1  2   3 4 5\n",
    "16 17 18 18 6\n",
    "15 24 25 20 7\n",
    "14 23 22 21 8\n",
    "13 12 11 10 9"
   ]
  },
  {
   "cell_type": "code",
   "execution_count": null,
   "id": "413a1bf6",
   "metadata": {},
   "outputs": [],
   "source": []
  }
 ],
 "metadata": {
  "kernelspec": {
   "display_name": "Python 3 (ipykernel)",
   "language": "python",
   "name": "python3"
  },
  "language_info": {
   "codemirror_mode": {
    "name": "ipython",
    "version": 3
   },
   "file_extension": ".py",
   "mimetype": "text/x-python",
   "name": "python",
   "nbconvert_exporter": "python",
   "pygments_lexer": "ipython3",
   "version": "3.9.7"
  }
 },
 "nbformat": 4,
 "nbformat_minor": 5
}
