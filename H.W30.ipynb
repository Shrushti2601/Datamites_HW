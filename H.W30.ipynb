{
 "cells": [
  {
   "cell_type": "code",
   "execution_count": null,
   "id": "2af1c065",
   "metadata": {},
   "outputs": [],
   "source": [
    "1 if string =python\n",
    "p\n",
    "p y\n",
    "p y t \n",
    "p y t h\n",
    "p y t h o\n",
    "p y t h o n"
   ]
  },
  {
   "cell_type": "code",
   "execution_count": 5,
   "id": "d8c14449",
   "metadata": {},
   "outputs": [
    {
     "name": "stdout",
     "output_type": "stream",
     "text": [
      "enter name: shrushti\n",
      "s \n",
      "s h \n",
      "s h r \n",
      "s h r u \n",
      "s h r u s \n",
      "s h r u s h \n",
      "s h r u s h t \n",
      "s h r u s h t i \n"
     ]
    }
   ],
   "source": [
    "s=input(\"enter name: \")\n",
    "l=len(s)\n",
    "for i in range(l):\n",
    "    for j in range(i+1):\n",
    "        print(s[j],end=' ')\n",
    "    print()"
   ]
  },
  {
   "cell_type": "code",
   "execution_count": null,
   "id": "98be82bd",
   "metadata": {},
   "outputs": [],
   "source": []
  }
 ],
 "metadata": {
  "kernelspec": {
   "display_name": "Python 3 (ipykernel)",
   "language": "python",
   "name": "python3"
  },
  "language_info": {
   "codemirror_mode": {
    "name": "ipython",
    "version": 3
   },
   "file_extension": ".py",
   "mimetype": "text/x-python",
   "name": "python",
   "nbconvert_exporter": "python",
   "pygments_lexer": "ipython3",
   "version": "3.9.7"
  }
 },
 "nbformat": 4,
 "nbformat_minor": 5
}
