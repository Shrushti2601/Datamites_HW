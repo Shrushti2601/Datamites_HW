{
 "cells": [
  {
   "cell_type": "markdown",
   "id": "2bff3ae6",
   "metadata": {},
   "source": [
    "example 1.Write a function to check if a number is prime or not"
   ]
  },
  {
   "cell_type": "code",
   "execution_count": 1,
   "id": "82a62fa1",
   "metadata": {},
   "outputs": [],
   "source": [
    "def check_prime(n):\n",
    "    if n==1:\n",
    "        return False\n",
    "    elif n==2:\n",
    "        return True\n",
    "    else:\n",
    "        for x in range(2,n):\n",
    "            if n%x==0:\n",
    "                return False\n",
    "        return True\n",
    "    \n",
    "    "
   ]
  },
  {
   "cell_type": "code",
   "execution_count": 2,
   "id": "6a3e282b",
   "metadata": {},
   "outputs": [
    {
     "data": {
      "text/plain": [
       "False"
      ]
     },
     "execution_count": 2,
     "metadata": {},
     "output_type": "execute_result"
    }
   ],
   "source": [
    "check_prime(9)"
   ]
  },
  {
   "cell_type": "markdown",
   "id": "ca01da05",
   "metadata": {},
   "source": [
    "example 2 .Given a list of numbers, return True if first and last number of a list is same"
   ]
  },
  {
   "cell_type": "code",
   "execution_count": 3,
   "id": "ed2954e1",
   "metadata": {},
   "outputs": [],
   "source": [
    "def same_no(list):\n",
    "    first_num=list[0]\n",
    "    last_num=list[-1]\n",
    "    if first_num==last_num:\n",
    "        return True\n",
    "    else:\n",
    "        return False\n",
    "    \n",
    "     "
   ]
  },
  {
   "cell_type": "code",
   "execution_count": 4,
   "id": "3fdb2db6",
   "metadata": {},
   "outputs": [
    {
     "data": {
      "text/plain": [
       "True"
      ]
     },
     "execution_count": 4,
     "metadata": {},
     "output_type": "execute_result"
    }
   ],
   "source": [
    "list=[1,2,3,4,1]\n",
    "same_no(list)"
   ]
  },
  {
   "cell_type": "markdown",
   "id": "16fcd9f0",
   "metadata": {},
   "source": [
    "example 3. Write a program to check if each word in a string begins with a capital letter?\n"
   ]
  },
  {
   "cell_type": "code",
   "execution_count": 5,
   "id": "d5561e4a",
   "metadata": {},
   "outputs": [],
   "source": [
    "def is_capital(string):\n",
    "    if string.istitle():\n",
    "        return True\n",
    "    else:\n",
    "        return False"
   ]
  },
  {
   "cell_type": "code",
   "execution_count": 7,
   "id": "81245163",
   "metadata": {},
   "outputs": [
    {
     "data": {
      "text/plain": [
       "False"
      ]
     },
     "execution_count": 7,
     "metadata": {},
     "output_type": "execute_result"
    }
   ],
   "source": [
    "string='shrushti'\n",
    "is_capital(string)"
   ]
  },
  {
   "cell_type": "markdown",
   "id": "b9190517",
   "metadata": {},
   "source": [
    "example 4. Write a program to Check if a string contains a specific substring"
   ]
  },
  {
   "cell_type": "code",
   "execution_count": 12,
   "id": "bf4ff801",
   "metadata": {},
   "outputs": [],
   "source": [
    "def is_substring(s):\n",
    "    a=input(\"enter name which you want to check if it is present in string \")\n",
    "    if a in s:\n",
    "        return True\n",
    "    else:\n",
    "        return False"
   ]
  },
  {
   "cell_type": "code",
   "execution_count": 14,
   "id": "9c67b4ad",
   "metadata": {},
   "outputs": [
    {
     "name": "stdout",
     "output_type": "stream",
     "text": [
      "enter name which you want to check if it is present in string shrushti\n"
     ]
    },
    {
     "data": {
      "text/plain": [
       "True"
      ]
     },
     "execution_count": 14,
     "metadata": {},
     "output_type": "execute_result"
    }
   ],
   "source": [
    "s=\"shrushti is born and brought up in nanded\"\n",
    "is_substring(s)"
   ]
  },
  {
   "cell_type": "markdown",
   "id": "6fed5780",
   "metadata": {},
   "source": [
    "example 5. Capitalize the first character of a string"
   ]
  },
  {
   "cell_type": "code",
   "execution_count": 15,
   "id": "2a13c4b0",
   "metadata": {},
   "outputs": [
    {
     "data": {
      "text/plain": [
       "'Florida dolphins'"
      ]
     },
     "execution_count": 15,
     "metadata": {},
     "output_type": "execute_result"
    }
   ],
   "source": [
    "'florida dolphins'.capitalize()"
   ]
  },
  {
   "cell_type": "markdown",
   "id": "6bdccf7f",
   "metadata": {},
   "source": [
    "example 6 Reverse the string “hello world”"
   ]
  },
  {
   "cell_type": "code",
   "execution_count": 19,
   "id": "ab59e391",
   "metadata": {},
   "outputs": [
    {
     "data": {
      "text/plain": [
       "'dlrow olleh'"
      ]
     },
     "execution_count": 19,
     "metadata": {},
     "output_type": "execute_result"
    }
   ],
   "source": [
    "''.join(reversed(\"hello world\"))"
   ]
  },
  {
   "cell_type": "markdown",
   "id": "c31f7f89",
   "metadata": {},
   "source": [
    "example 7.Remove vowels from a string"
   ]
  },
  {
   "cell_type": "code",
   "execution_count": 20,
   "id": "44110089",
   "metadata": {},
   "outputs": [
    {
     "data": {
      "text/plain": [
       "'Hll 1 Wrld 2'"
      ]
     },
     "execution_count": 20,
     "metadata": {},
     "output_type": "execute_result"
    }
   ],
   "source": [
    "string = 'Hello 1 World 2'\n",
    "vowels = ('a','e','i','o','u')\n",
    "''.join([c for c in string if c not in vowels])\n"
   ]
  },
  {
   "cell_type": "markdown",
   "id": "39c0bca6",
   "metadata": {},
   "source": [
    "example 8  Iterate through a string Using for Loop."
   ]
  },
  {
   "cell_type": "code",
   "execution_count": 22,
   "id": "afade5cc",
   "metadata": {},
   "outputs": [
    {
     "name": "stdout",
     "output_type": "stream",
     "text": [
      "['M', 'a', 'h', 'a', 'j', 'a', 'n']\n"
     ]
    }
   ],
   "source": [
    "h_letters = []\n",
    "\n",
    "for letter in 'Mahajan':\n",
    "    h_letters.append(letter)\n",
    "\n",
    "print(h_letters)"
   ]
  },
  {
   "cell_type": "markdown",
   "id": "75976d38",
   "metadata": {},
   "source": [
    "example 9. Iterate through a string Using List Comprehension"
   ]
  },
  {
   "cell_type": "code",
   "execution_count": 23,
   "id": "e435e52b",
   "metadata": {},
   "outputs": [
    {
     "name": "stdout",
     "output_type": "stream",
     "text": [
      "['s', 'h', 'r', 'u', 's', 'h', 't', 'i']\n"
     ]
    }
   ],
   "source": [
    "h_letters = [ letter for letter in 'shrushti' ]\n",
    "print( h_letters)"
   ]
  },
  {
   "cell_type": "markdown",
   "id": "9844da07",
   "metadata": {},
   "source": [
    "example 10 Transpose of Matrix using Nested Loops"
   ]
  },
  {
   "cell_type": "code",
   "execution_count": 24,
   "id": "ad2d89ab",
   "metadata": {},
   "outputs": [
    {
     "name": "stdout",
     "output_type": "stream",
     "text": [
      "[[1, 4], [2, 5], [3, 6], [4, 8]]\n"
     ]
    }
   ],
   "source": [
    "transposed = []\n",
    "matrix = [[1, 2, 3, 4], [4, 5, 6, 8]]\n",
    "\n",
    "for i in range(len(matrix[0])):\n",
    "    transposed_row = []\n",
    "\n",
    "    for row in matrix:\n",
    "        transposed_row.append(row[i])\n",
    "    transposed.append(transposed_row)\n",
    "\n",
    "print(transposed)"
   ]
  },
  {
   "cell_type": "code",
   "execution_count": null,
   "id": "1ded626e",
   "metadata": {},
   "outputs": [],
   "source": []
  }
 ],
 "metadata": {
  "kernelspec": {
   "display_name": "Python 3 (ipykernel)",
   "language": "python",
   "name": "python3"
  },
  "language_info": {
   "codemirror_mode": {
    "name": "ipython",
    "version": 3
   },
   "file_extension": ".py",
   "mimetype": "text/x-python",
   "name": "python",
   "nbconvert_exporter": "python",
   "pygments_lexer": "ipython3",
   "version": "3.9.7"
  }
 },
 "nbformat": 4,
 "nbformat_minor": 5
}
