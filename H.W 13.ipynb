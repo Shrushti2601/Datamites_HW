{
 "cells": [
  {
   "cell_type": "markdown",
   "id": "46c134ed",
   "metadata": {},
   "source": [
    "# Example 1"
   ]
  },
  {
   "cell_type": "markdown",
   "id": "cfec0056",
   "metadata": {},
   "source": [
    "# tuple can't get update but if we convert tuple into list it can get converted\n"
   ]
  },
  {
   "cell_type": "code",
   "execution_count": 5,
   "id": "e160834e",
   "metadata": {},
   "outputs": [],
   "source": [
    "x=(\"shru\",1,2)"
   ]
  },
  {
   "cell_type": "code",
   "execution_count": 6,
   "id": "7d1b408c",
   "metadata": {},
   "outputs": [
    {
     "data": {
      "text/plain": [
       "('shru', 1, 2)"
      ]
     },
     "execution_count": 6,
     "metadata": {},
     "output_type": "execute_result"
    }
   ],
   "source": [
    "x"
   ]
  },
  {
   "cell_type": "code",
   "execution_count": 7,
   "id": "16d91d9f",
   "metadata": {},
   "outputs": [],
   "source": [
    "y=list(x)"
   ]
  },
  {
   "cell_type": "code",
   "execution_count": 8,
   "id": "c8d58608",
   "metadata": {},
   "outputs": [],
   "source": [
    "y[1]='fav'"
   ]
  },
  {
   "cell_type": "code",
   "execution_count": 9,
   "id": "dec1a2b4",
   "metadata": {},
   "outputs": [],
   "source": [
    "x=tuple(y)"
   ]
  },
  {
   "cell_type": "code",
   "execution_count": 10,
   "id": "a4c8ca26",
   "metadata": {},
   "outputs": [
    {
     "data": {
      "text/plain": [
       "('shru', 'fav', 2)"
      ]
     },
     "execution_count": 10,
     "metadata": {},
     "output_type": "execute_result"
    }
   ],
   "source": [
    "x"
   ]
  },
  {
   "cell_type": "markdown",
   "id": "05fd3cbb",
   "metadata": {},
   "source": [
    "# example 2"
   ]
  },
  {
   "cell_type": "markdown",
   "id": "2c9f6ea7",
   "metadata": {},
   "source": [
    "# Add tuple to a tuple"
   ]
  },
  {
   "cell_type": "code",
   "execution_count": 19,
   "id": "8a384bf8",
   "metadata": {},
   "outputs": [],
   "source": [
    "p=(1,2,3)\n",
    "q=(4,)\n"
   ]
  },
  {
   "cell_type": "code",
   "execution_count": 20,
   "id": "616ecd6b",
   "metadata": {},
   "outputs": [],
   "source": [
    "p += q\n"
   ]
  },
  {
   "cell_type": "code",
   "execution_count": 21,
   "id": "1e70d761",
   "metadata": {},
   "outputs": [
    {
     "name": "stdout",
     "output_type": "stream",
     "text": [
      "(1, 2, 3, 4)\n"
     ]
    }
   ],
   "source": [
    "print(p)"
   ]
  },
  {
   "cell_type": "markdown",
   "id": "771fda89",
   "metadata": {},
   "source": [
    "# example 3"
   ]
  },
  {
   "cell_type": "markdown",
   "id": "4646045e",
   "metadata": {},
   "source": [
    "# Remove Items"
   ]
  },
  {
   "cell_type": "code",
   "execution_count": 22,
   "id": "19e97d4e",
   "metadata": {},
   "outputs": [],
   "source": [
    "thistuple = (\"apple\", \"banana\", \"cherry\")\n",
    "y = list(thistuple)\n",
    "y.remove(\"apple\")\n",
    "thistuple = tuple(y)"
   ]
  },
  {
   "cell_type": "code",
   "execution_count": 23,
   "id": "ef59e80c",
   "metadata": {},
   "outputs": [
    {
     "data": {
      "text/plain": [
       "('banana', 'cherry')"
      ]
     },
     "execution_count": 23,
     "metadata": {},
     "output_type": "execute_result"
    }
   ],
   "source": [
    "thistuple"
   ]
  },
  {
   "cell_type": "markdown",
   "id": "95af62e7",
   "metadata": {},
   "source": [
    "# example 4"
   ]
  },
  {
   "cell_type": "code",
   "execution_count": 24,
   "id": "d83e1b05",
   "metadata": {},
   "outputs": [
    {
     "name": "stdout",
     "output_type": "stream",
     "text": [
      "apple\n",
      "banana\n",
      "cherry\n"
     ]
    }
   ],
   "source": [
    "thistuple = (\"apple\", \"banana\", \"cherry\")\n",
    "for i in range(len(thistuple)):\n",
    "  print(thistuple[i])"
   ]
  },
  {
   "cell_type": "code",
   "execution_count": 25,
   "id": "da81cd56",
   "metadata": {},
   "outputs": [
    {
     "name": "stdout",
     "output_type": "stream",
     "text": [
      "apple\n",
      "banana\n",
      "cherry\n"
     ]
    }
   ],
   "source": [
    "thistuple = (\"apple\", \"banana\", \"cherry\")\n",
    "for x in thistuple:\n",
    "  print(x)"
   ]
  },
  {
   "cell_type": "markdown",
   "id": "86e7ba96",
   "metadata": {},
   "source": [
    "# example 5 while loop"
   ]
  },
  {
   "cell_type": "code",
   "execution_count": 26,
   "id": "c0b812db",
   "metadata": {},
   "outputs": [
    {
     "name": "stdout",
     "output_type": "stream",
     "text": [
      "apple\n",
      "banana\n",
      "cherry\n"
     ]
    }
   ],
   "source": [
    "thistuple = (\"apple\", \"banana\", \"cherry\")\n",
    "i = 0\n",
    "while i < len(thistuple):\n",
    "  print(thistuple[i])\n",
    "  i = i + 1"
   ]
  },
  {
   "cell_type": "markdown",
   "id": "6212f514",
   "metadata": {},
   "source": [
    "# example 6 case 3 pass something return something"
   ]
  },
  {
   "cell_type": "code",
   "execution_count": 35,
   "id": "66f997d2",
   "metadata": {},
   "outputs": [],
   "source": [
    "def is_prime(num):\n",
    "    if num <= 1:\n",
    "        return \"Not prime\"\n",
    "    for i in range(2, int(num**0.5) + 1):\n",
    "        if num % i == 0:\n",
    "            return \"Not prime\"\n",
    "    return \"Prime\""
   ]
  },
  {
   "cell_type": "code",
   "execution_count": 36,
   "id": "c22287ae",
   "metadata": {},
   "outputs": [
    {
     "data": {
      "text/plain": [
       "'Not prime'"
      ]
     },
     "execution_count": 36,
     "metadata": {},
     "output_type": "execute_result"
    }
   ],
   "source": [
    "is_prime(95)"
   ]
  },
  {
   "cell_type": "code",
   "execution_count": 37,
   "id": "99862b0f",
   "metadata": {},
   "outputs": [
    {
     "data": {
      "text/plain": [
       "'Prime'"
      ]
     },
     "execution_count": 37,
     "metadata": {},
     "output_type": "execute_result"
    }
   ],
   "source": [
    "is_prime(5)"
   ]
  },
  {
   "cell_type": "markdown",
   "id": "fb831e05",
   "metadata": {},
   "source": [
    "# example 7"
   ]
  },
  {
   "cell_type": "code",
   "execution_count": 38,
   "id": "294f8a10",
   "metadata": {},
   "outputs": [],
   "source": [
    "def is_even(n):\n",
    "    if n%2==0:\n",
    "        return 'even'\n",
    "    else:\n",
    "        return 'odd'\n",
    "        "
   ]
  },
  {
   "cell_type": "code",
   "execution_count": 39,
   "id": "8cd54775",
   "metadata": {},
   "outputs": [
    {
     "data": {
      "text/plain": [
       "'odd'"
      ]
     },
     "execution_count": 39,
     "metadata": {},
     "output_type": "execute_result"
    }
   ],
   "source": [
    "is_even(5)"
   ]
  },
  {
   "cell_type": "code",
   "execution_count": 40,
   "id": "d5ae4e8e",
   "metadata": {},
   "outputs": [
    {
     "data": {
      "text/plain": [
       "'even'"
      ]
     },
     "execution_count": 40,
     "metadata": {},
     "output_type": "execute_result"
    }
   ],
   "source": [
    "is_even(1006)"
   ]
  },
  {
   "cell_type": "markdown",
   "id": "dccc5ff1",
   "metadata": {},
   "source": [
    "# example 8 "
   ]
  },
  {
   "cell_type": "code",
   "execution_count": 44,
   "id": "273742ba",
   "metadata": {},
   "outputs": [],
   "source": [
    "def fact(num):\n",
    "    if num==0:\n",
    "        return 1\n",
    "    else:\n",
    "        return num*fact(num-1)"
   ]
  },
  {
   "cell_type": "code",
   "execution_count": 45,
   "id": "def952ed",
   "metadata": {},
   "outputs": [
    {
     "data": {
      "text/plain": [
       "120"
      ]
     },
     "execution_count": 45,
     "metadata": {},
     "output_type": "execute_result"
    }
   ],
   "source": [
    "fact(5)"
   ]
  },
  {
   "cell_type": "markdown",
   "id": "d7877e4a",
   "metadata": {},
   "source": [
    "# example 9"
   ]
  },
  {
   "cell_type": "code",
   "execution_count": 46,
   "id": "43c94601",
   "metadata": {},
   "outputs": [],
   "source": [
    "def reverse(a):\n",
    "    return a[::-1]"
   ]
  },
  {
   "cell_type": "code",
   "execution_count": 48,
   "id": "e7d60b4f",
   "metadata": {},
   "outputs": [
    {
     "data": {
      "text/plain": [
       "[4, 3, 2, 1]"
      ]
     },
     "execution_count": 48,
     "metadata": {},
     "output_type": "execute_result"
    }
   ],
   "source": [
    "a=[1,2,3,4]\n",
    "reverse(a)"
   ]
  },
  {
   "cell_type": "code",
   "execution_count": 2,
   "id": "ce2bfc53",
   "metadata": {},
   "outputs": [],
   "source": [
    "def max(a,b,c):\n",
    "    return max(a,b,c)"
   ]
  },
  {
   "cell_type": "code",
   "execution_count": 1,
   "id": "7aa8f8e0",
   "metadata": {},
   "outputs": [
    {
     "data": {
      "text/plain": [
       "3"
      ]
     },
     "execution_count": 1,
     "metadata": {},
     "output_type": "execute_result"
    }
   ],
   "source": [
    "max(1,2,3)"
   ]
  },
  {
   "cell_type": "markdown",
   "id": "933e5aca",
   "metadata": {},
   "source": [
    "# example 10"
   ]
  },
  {
   "cell_type": "code",
   "execution_count": 2,
   "id": "7f54ffdf",
   "metadata": {},
   "outputs": [],
   "source": [
    "def min(a,b,c):\n",
    "    return min(a,b,c)"
   ]
  },
  {
   "cell_type": "code",
   "execution_count": 1,
   "id": "fce8e2da",
   "metadata": {},
   "outputs": [
    {
     "data": {
      "text/plain": [
       "1"
      ]
     },
     "execution_count": 1,
     "metadata": {},
     "output_type": "execute_result"
    }
   ],
   "source": [
    "min(1,2,3)"
   ]
  },
  {
   "cell_type": "code",
   "execution_count": null,
   "id": "3330ba6c",
   "metadata": {},
   "outputs": [],
   "source": []
  }
 ],
 "metadata": {
  "kernelspec": {
   "display_name": "Python 3 (ipykernel)",
   "language": "python",
   "name": "python3"
  },
  "language_info": {
   "codemirror_mode": {
    "name": "ipython",
    "version": 3
   },
   "file_extension": ".py",
   "mimetype": "text/x-python",
   "name": "python",
   "nbconvert_exporter": "python",
   "pygments_lexer": "ipython3",
   "version": "3.9.7"
  }
 },
 "nbformat": 4,
 "nbformat_minor": 5
}
