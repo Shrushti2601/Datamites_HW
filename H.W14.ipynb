{
 "cells": [
  {
   "cell_type": "markdown",
   "id": "71ae5ba4",
   "metadata": {},
   "source": [
    "# Lambda function"
   ]
  },
  {
   "cell_type": "markdown",
   "id": "e73c9612",
   "metadata": {},
   "source": [
    "example 1 : palindrome"
   ]
  },
  {
   "cell_type": "code",
   "execution_count": 1,
   "id": "80401ae1",
   "metadata": {},
   "outputs": [],
   "source": [
    "is_palindrome =lambda x: x==x[::-1]"
   ]
  },
  {
   "cell_type": "code",
   "execution_count": 2,
   "id": "c3658b1a",
   "metadata": {},
   "outputs": [
    {
     "name": "stdout",
     "output_type": "stream",
     "text": [
      "True\n"
     ]
    }
   ],
   "source": [
    "print(is_palindrome(\"pop\"))"
   ]
  },
  {
   "cell_type": "code",
   "execution_count": 5,
   "id": "6dddeed2",
   "metadata": {},
   "outputs": [
    {
     "name": "stdout",
     "output_type": "stream",
     "text": [
      "False\n"
     ]
    }
   ],
   "source": [
    "print(is_palindrome('123'))"
   ]
  },
  {
   "cell_type": "markdown",
   "id": "48f8d1a9",
   "metadata": {},
   "source": [
    "example 2 :positive number"
   ]
  },
  {
   "cell_type": "code",
   "execution_count": 6,
   "id": "0152b28e",
   "metadata": {},
   "outputs": [],
   "source": [
    "is_positive=lambda x: x>0"
   ]
  },
  {
   "cell_type": "code",
   "execution_count": 7,
   "id": "e961fe3e",
   "metadata": {},
   "outputs": [
    {
     "name": "stdout",
     "output_type": "stream",
     "text": [
      "enter number5\n"
     ]
    },
    {
     "data": {
      "text/plain": [
       "True"
      ]
     },
     "execution_count": 7,
     "metadata": {},
     "output_type": "execute_result"
    }
   ],
   "source": [
    "a=int(input(\"enter number\"))\n",
    "is_positive(a)"
   ]
  },
  {
   "cell_type": "markdown",
   "id": "dfa1d5b7",
   "metadata": {},
   "source": [
    "# Filter function"
   ]
  },
  {
   "cell_type": "markdown",
   "id": "99282353",
   "metadata": {},
   "source": [
    "example 3:even"
   ]
  },
  {
   "cell_type": "code",
   "execution_count": 8,
   "id": "ce8b5d6d",
   "metadata": {},
   "outputs": [],
   "source": [
    "s=[1,2,3,4,5,6]"
   ]
  },
  {
   "cell_type": "code",
   "execution_count": 10,
   "id": "d3cc371b",
   "metadata": {},
   "outputs": [
    {
     "name": "stdout",
     "output_type": "stream",
     "text": [
      "[2, 4, 6]\n"
     ]
    }
   ],
   "source": [
    "even_num=list(filter(lambda x: x%2==0,s))\n",
    "print(even_num)"
   ]
  },
  {
   "cell_type": "markdown",
   "id": "d136c83f",
   "metadata": {},
   "source": [
    "example 4:odd"
   ]
  },
  {
   "cell_type": "code",
   "execution_count": 11,
   "id": "1122760c",
   "metadata": {},
   "outputs": [
    {
     "name": "stdout",
     "output_type": "stream",
     "text": [
      "[1, 3, 5]\n"
     ]
    }
   ],
   "source": [
    "odd_num=list(filter(lambda x:x%2 !=0,s))\n",
    "print(odd_num)"
   ]
  },
  {
   "cell_type": "markdown",
   "id": "3f6e9403",
   "metadata": {},
   "source": [
    "example 5 : start with a"
   ]
  },
  {
   "cell_type": "code",
   "execution_count": 14,
   "id": "13edfd32",
   "metadata": {},
   "outputs": [
    {
     "name": "stdout",
     "output_type": "stream",
     "text": [
      "['anand', 'arya', 'abhi', 'aditya']\n"
     ]
    }
   ],
   "source": [
    "name=['anand','shrushti','arya','abhi','aditya']\n",
    "start=list(filter(lambda x: x.startswith('a'),name))\n",
    "print(start)"
   ]
  },
  {
   "cell_type": "markdown",
   "id": "5720282c",
   "metadata": {},
   "source": [
    "# Map Function"
   ]
  },
  {
   "cell_type": "markdown",
   "id": "09dfce14",
   "metadata": {},
   "source": [
    "example 6: square"
   ]
  },
  {
   "cell_type": "code",
   "execution_count": 16,
   "id": "c47cd77f",
   "metadata": {},
   "outputs": [
    {
     "name": "stdout",
     "output_type": "stream",
     "text": [
      "[1, 4, 9, 16]\n"
     ]
    }
   ],
   "source": [
    "s=[1,2,3,4]\n",
    "square=list(map(lambda x:x**2,s))\n",
    "print(square)"
   ]
  },
  {
   "cell_type": "markdown",
   "id": "0dfedca5",
   "metadata": {},
   "source": [
    "example 7: uppercase"
   ]
  },
  {
   "cell_type": "code",
   "execution_count": 17,
   "id": "e01a69a2",
   "metadata": {},
   "outputs": [
    {
     "name": "stdout",
     "output_type": "stream",
     "text": [
      "['HI', 'THERE', 'I', 'AM', 'SHRUSHTI']\n"
     ]
    }
   ],
   "source": [
    "s=['hi','there','i','am','shrushti']\n",
    "upper=list(map(lambda x:x.upper(),s))\n",
    "print(upper)"
   ]
  },
  {
   "cell_type": "code",
   "execution_count": 18,
   "id": "67c66f39",
   "metadata": {},
   "outputs": [
    {
     "name": "stdout",
     "output_type": "stream",
     "text": [
      "[8, 5, 4, 13, 5]\n"
     ]
    }
   ],
   "source": [
    "p=['shrushti','rohan','arya','shaileshkumar','jyoti']\n",
    "length=list(map(lambda x:len(x),p))\n",
    "print(length)"
   ]
  },
  {
   "cell_type": "markdown",
   "id": "94fdf3ed",
   "metadata": {},
   "source": [
    "# Reduce Function"
   ]
  },
  {
   "cell_type": "markdown",
   "id": "ba97331f",
   "metadata": {},
   "source": [
    "example 8:concating string"
   ]
  },
  {
   "cell_type": "code",
   "execution_count": 21,
   "id": "e61bf826",
   "metadata": {},
   "outputs": [
    {
     "name": "stdout",
     "output_type": "stream",
     "text": [
      "hello my self sutti\n"
     ]
    }
   ],
   "source": [
    "from functools import reduce\n",
    "s=[\"hello\",\"my\",\"self\",\"sutti\"]\n",
    "concate=reduce(lambda x,y:x+\" \"+y,s)\n",
    "print(concate)"
   ]
  },
  {
   "cell_type": "markdown",
   "id": "d6b6ecb6",
   "metadata": {},
   "source": [
    "example 9: finding longest word"
   ]
  },
  {
   "cell_type": "code",
   "execution_count": 22,
   "id": "66ab96ab",
   "metadata": {},
   "outputs": [
    {
     "name": "stdout",
     "output_type": "stream",
     "text": [
      "shrushti\n"
     ]
    }
   ],
   "source": [
    "from functools import reduce\n",
    "words = ['shrushti', 'mahajan', 'anand', 'abhi']\n",
    "longest_word = reduce(lambda x, y: x if len(x) > len(y) else y, words)\n",
    "print(longest_word) \n"
   ]
  },
  {
   "cell_type": "markdown",
   "id": "220195db",
   "metadata": {},
   "source": [
    "example 10: max number"
   ]
  },
  {
   "cell_type": "code",
   "execution_count": 30,
   "id": "43e89ba5",
   "metadata": {},
   "outputs": [
    {
     "name": "stdout",
     "output_type": "stream",
     "text": [
      "35\n"
     ]
    }
   ],
   "source": [
    "from functools import reduce\n",
    "s=[1,2,3,35]\n",
    "maximum=reduce(max,s)\n",
    "print(maximum)"
   ]
  },
  {
   "cell_type": "code",
   "execution_count": null,
   "id": "1f2dabad",
   "metadata": {},
   "outputs": [],
   "source": []
  }
 ],
 "metadata": {
  "kernelspec": {
   "display_name": "Python 3 (ipykernel)",
   "language": "python",
   "name": "python3"
  },
  "language_info": {
   "codemirror_mode": {
    "name": "ipython",
    "version": 3
   },
   "file_extension": ".py",
   "mimetype": "text/x-python",
   "name": "python",
   "nbconvert_exporter": "python",
   "pygments_lexer": "ipython3",
   "version": "3.9.7"
  }
 },
 "nbformat": 4,
 "nbformat_minor": 5
}
