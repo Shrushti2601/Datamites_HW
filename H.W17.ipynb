{
 "cells": [
  {
   "cell_type": "markdown",
   "id": "583cdf9e",
   "metadata": {},
   "source": [
    "example 1.Given a string, display only those characters which are present at an even index number."
   ]
  },
  {
   "cell_type": "code",
   "execution_count": 9,
   "id": "72764919",
   "metadata": {},
   "outputs": [
    {
     "name": "stdout",
     "output_type": "stream",
     "text": [
      "index[ 0 ] s\n",
      "index[ 2 ] r\n",
      "index[ 4 ] s\n",
      "index[ 6 ] t\n"
     ]
    }
   ],
   "source": [
    "def even_index(a):\n",
    "    for i in range(0,len(a),2):\n",
    "        print(\"index[\",i,\"]\",a[i])\n",
    "a=\"shrushti\"\n",
    "even_index(a)"
   ]
  },
  {
   "cell_type": "markdown",
   "id": "b8556c40",
   "metadata": {},
   "source": [
    "example 2.Return the count of sub-string “Shubhangi” appears in the given string"
   ]
  },
  {
   "cell_type": "code",
   "execution_count": 12,
   "id": "a4c045f4",
   "metadata": {},
   "outputs": [
    {
     "name": "stdout",
     "output_type": "stream",
     "text": [
      "2\n"
     ]
    }
   ],
   "source": [
    "a='shrushti is good girl, she is kind hearted person and she is a programmer'\n",
    "print(a.count(\"she\"))"
   ]
  },
  {
   "cell_type": "markdown",
   "id": "93f99c53",
   "metadata": {},
   "source": [
    "example 3.Write a program (function!) that takes a list and returns a new list that contains all the elements of the first list minus all the duplicates."
   ]
  },
  {
   "cell_type": "code",
   "execution_count": 17,
   "id": "5bb346f1",
   "metadata": {},
   "outputs": [
    {
     "name": "stdout",
     "output_type": "stream",
     "text": [
      "{1, 2, 3}\n"
     ]
    }
   ],
   "source": [
    "l=[1,1,2,3,3]\n",
    "p=set(l)\n",
    "print(p)"
   ]
  },
  {
   "cell_type": "markdown",
   "id": "5edc669d",
   "metadata": {},
   "source": [
    "example 4 .Write a program (function!) that takes a list and returns a new list that contains all the elements of the first list minus all the duplicates."
   ]
  },
  {
   "cell_type": "code",
   "execution_count": 24,
   "id": "54a0c09b",
   "metadata": {},
   "outputs": [],
   "source": [
    "def remove_duplicate(x):\n",
    "    return list(set(x))"
   ]
  },
  {
   "cell_type": "code",
   "execution_count": 25,
   "id": "55feeae2",
   "metadata": {},
   "outputs": [
    {
     "data": {
      "text/plain": [
       "[1, 2, 3, 4]"
      ]
     },
     "execution_count": 25,
     "metadata": {},
     "output_type": "execute_result"
    }
   ],
   "source": [
    "remove_duplicate([1,1,2,2,3,4])"
   ]
  },
  {
   "cell_type": "markdown",
   "id": "afc6b7de",
   "metadata": {},
   "source": [
    "example 5.Print multiplication table of 12 using recursion"
   ]
  },
  {
   "cell_type": "code",
   "execution_count": 29,
   "id": "ea38058a",
   "metadata": {},
   "outputs": [],
   "source": [
    "def print_table(n,i):\n",
    "    print(n*i)\n",
    "    i+=1\n",
    "    if i<=10:\n",
    "        print_table(n,i)"
   ]
  },
  {
   "cell_type": "code",
   "execution_count": 30,
   "id": "5234f0c2",
   "metadata": {},
   "outputs": [
    {
     "name": "stdout",
     "output_type": "stream",
     "text": [
      "20\n",
      "40\n",
      "60\n",
      "80\n",
      "100\n",
      "120\n",
      "140\n",
      "160\n",
      "180\n",
      "200\n"
     ]
    }
   ],
   "source": [
    "print_table(20,1)"
   ]
  },
  {
   "cell_type": "markdown",
   "id": "c7a9859c",
   "metadata": {},
   "source": [
    "example 6"
   ]
  },
  {
   "cell_type": "code",
   "execution_count": 35,
   "id": "4886697f",
   "metadata": {},
   "outputs": [],
   "source": [
    "def table(n):\n",
    "    for i in range(1,11):\n",
    "        c=n*i\n",
    "        print(c)\n",
    "       "
   ]
  },
  {
   "cell_type": "code",
   "execution_count": 36,
   "id": "0dce8359",
   "metadata": {},
   "outputs": [
    {
     "name": "stdout",
     "output_type": "stream",
     "text": [
      "2\n",
      "4\n",
      "6\n",
      "8\n",
      "10\n",
      "12\n",
      "14\n",
      "16\n",
      "18\n",
      "20\n"
     ]
    }
   ],
   "source": [
    "table(2)"
   ]
  },
  {
   "cell_type": "markdown",
   "id": "285631d0",
   "metadata": {},
   "source": [
    "example 7. Write a function to calculate area and perimeter of a rectangle."
   ]
  },
  {
   "cell_type": "code",
   "execution_count": 39,
   "id": "6f338db5",
   "metadata": {},
   "outputs": [],
   "source": [
    "def calculate_peri(l,b):\n",
    "    c=l*b\n",
    "    d=2*(l+b)\n",
    "    print(\"area is \",c)\n",
    "    print(\"perimeter is\",d)\n",
    "    "
   ]
  },
  {
   "cell_type": "code",
   "execution_count": 40,
   "id": "4128ebf2",
   "metadata": {},
   "outputs": [
    {
     "name": "stdout",
     "output_type": "stream",
     "text": [
      "area is  6\n",
      "perimeter is 10\n"
     ]
    }
   ],
   "source": [
    "calculate_peri(2,3)"
   ]
  },
  {
   "cell_type": "markdown",
   "id": "4c381e2a",
   "metadata": {},
   "source": [
    "example 8.Write a function to calculate power of a number raised to other"
   ]
  },
  {
   "cell_type": "code",
   "execution_count": 41,
   "id": "a8f94672",
   "metadata": {},
   "outputs": [],
   "source": [
    "def power(a):\n",
    "    c=a**a\n",
    "    return c"
   ]
  },
  {
   "cell_type": "code",
   "execution_count": 43,
   "id": "e3d33e4f",
   "metadata": {},
   "outputs": [
    {
     "data": {
      "text/plain": [
       "27"
      ]
     },
     "execution_count": 43,
     "metadata": {},
     "output_type": "execute_result"
    }
   ],
   "source": [
    "power(3)"
   ]
  },
  {
   "cell_type": "markdown",
   "id": "2f86d40b",
   "metadata": {},
   "source": [
    "example 9.Write a function to tell user if he/she is able to vote or not."
   ]
  },
  {
   "cell_type": "code",
   "execution_count": 44,
   "id": "e4b2ed75",
   "metadata": {},
   "outputs": [],
   "source": [
    "def eligible(n):\n",
    "    if n>18:\n",
    "        return (\"he/she can vote\")\n",
    "    else:\n",
    "        return (\"can't vote\")"
   ]
  },
  {
   "cell_type": "code",
   "execution_count": 45,
   "id": "178db160",
   "metadata": {},
   "outputs": [
    {
     "name": "stdout",
     "output_type": "stream",
     "text": [
      "he/she can vote\n"
     ]
    }
   ],
   "source": [
    "eligible(19)"
   ]
  },
  {
   "cell_type": "markdown",
   "id": "ff42bc77",
   "metadata": {},
   "source": [
    "example 10.Write a function to check if a number is even or not."
   ]
  },
  {
   "cell_type": "code",
   "execution_count": 48,
   "id": "56c3cbbd",
   "metadata": {},
   "outputs": [],
   "source": [
    "def is_even(n):\n",
    "    if n%2==0:\n",
    "        return 'even'\n",
    "    else:\n",
    "        return 'odd'"
   ]
  },
  {
   "cell_type": "code",
   "execution_count": 49,
   "id": "82b156f5",
   "metadata": {},
   "outputs": [
    {
     "data": {
      "text/plain": [
       "'even'"
      ]
     },
     "execution_count": 49,
     "metadata": {},
     "output_type": "execute_result"
    }
   ],
   "source": [
    "is_even(996)"
   ]
  },
  {
   "cell_type": "code",
   "execution_count": null,
   "id": "c57a1b51",
   "metadata": {},
   "outputs": [],
   "source": []
  }
 ],
 "metadata": {
  "kernelspec": {
   "display_name": "Python 3 (ipykernel)",
   "language": "python",
   "name": "python3"
  },
  "language_info": {
   "codemirror_mode": {
    "name": "ipython",
    "version": 3
   },
   "file_extension": ".py",
   "mimetype": "text/x-python",
   "name": "python",
   "nbconvert_exporter": "python",
   "pygments_lexer": "ipython3",
   "version": "3.9.7"
  }
 },
 "nbformat": 4,
 "nbformat_minor": 5
}
