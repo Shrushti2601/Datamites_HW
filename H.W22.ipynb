{
 "cells": [
  {
   "cell_type": "markdown",
   "id": "032ab582",
   "metadata": {},
   "source": [
    "1)Write a Python program to get the Python version you are using"
   ]
  },
  {
   "cell_type": "code",
   "execution_count": 1,
   "id": "0e3e7b9d",
   "metadata": {},
   "outputs": [
    {
     "name": "stdout",
     "output_type": "stream",
     "text": [
      "Name: pip\n",
      "Version: 21.2.4\n",
      "Summary: The PyPA recommended tool for installing Python packages.\n",
      "Home-page: https://pip.pypa.io/\n",
      "Author: The pip developers\n",
      "Author-email: distutils-sig@python.org\n",
      "License: MIT\n",
      "Location: c:\\programdata\\anaconda3\\lib\\site-packages\n",
      "Requires: \n",
      "Required-by: \n"
     ]
    }
   ],
   "source": [
    "!pip show pip"
   ]
  },
  {
   "cell_type": "markdown",
   "id": "ca882137",
   "metadata": {},
   "source": [
    "2)Write a Python program to display the current date and time"
   ]
  },
  {
   "cell_type": "code",
   "execution_count": 19,
   "id": "424b48e6",
   "metadata": {},
   "outputs": [],
   "source": [
    "import datetime"
   ]
  },
  {
   "cell_type": "code",
   "execution_count": 22,
   "id": "b3dfa588",
   "metadata": {},
   "outputs": [],
   "source": [
    "show=datetime.datetime.now()"
   ]
  },
  {
   "cell_type": "code",
   "execution_count": 49,
   "id": "eb9519c0",
   "metadata": {},
   "outputs": [
    {
     "name": "stdout",
     "output_type": "stream",
     "text": [
      "2024-03-15 21:24:11.151794\n"
     ]
    }
   ],
   "source": [
    "print(show)"
   ]
  },
  {
   "cell_type": "code",
   "execution_count": 27,
   "id": "fbd33028",
   "metadata": {},
   "outputs": [],
   "source": [
    "day=show.day"
   ]
  },
  {
   "cell_type": "code",
   "execution_count": 28,
   "id": "fb07ee61",
   "metadata": {},
   "outputs": [
    {
     "data": {
      "text/plain": [
       "15"
      ]
     },
     "execution_count": 28,
     "metadata": {},
     "output_type": "execute_result"
    }
   ],
   "source": [
    "day"
   ]
  },
  {
   "cell_type": "code",
   "execution_count": 41,
   "id": "93d92549",
   "metadata": {},
   "outputs": [],
   "source": [
    "import time\n",
    "current_time=time.time()"
   ]
  },
  {
   "cell_type": "code",
   "execution_count": 42,
   "id": "a6cd1147",
   "metadata": {},
   "outputs": [
    {
     "data": {
      "text/plain": [
       "1710518307.884824"
      ]
     },
     "execution_count": 42,
     "metadata": {},
     "output_type": "execute_result"
    }
   ],
   "source": [
    "current_time"
   ]
  },
  {
   "cell_type": "code",
   "execution_count": 47,
   "id": "954dbb68",
   "metadata": {},
   "outputs": [],
   "source": [
    "current_time_readable = time.ctime(current_time)"
   ]
  },
  {
   "cell_type": "code",
   "execution_count": 45,
   "id": "c0fb10be",
   "metadata": {},
   "outputs": [
    {
     "data": {
      "text/plain": [
       "'Fri Mar 15 21:28:27 2024'"
      ]
     },
     "execution_count": 45,
     "metadata": {},
     "output_type": "execute_result"
    }
   ],
   "source": [
    "current_time_readable"
   ]
  },
  {
   "cell_type": "markdown",
   "id": "fdc4e863",
   "metadata": {},
   "source": [
    "3) Write a Python program which accepts the radius of a circle from the user and compute the area."
   ]
  },
  {
   "cell_type": "markdown",
   "id": "04f1eee1",
   "metadata": {},
   "source": [
    "1st way"
   ]
  },
  {
   "cell_type": "code",
   "execution_count": 50,
   "id": "86779c22",
   "metadata": {},
   "outputs": [],
   "source": [
    "import math\n",
    "def calculate_area(r):\n",
    "    area=math.pi*r**2\n",
    "    return area\n",
    "    "
   ]
  },
  {
   "cell_type": "code",
   "execution_count": 53,
   "id": "67b925f4",
   "metadata": {},
   "outputs": [
    {
     "name": "stdout",
     "output_type": "stream",
     "text": [
      "enter radius2\n"
     ]
    },
    {
     "data": {
      "text/plain": [
       "12.566370614359172"
      ]
     },
     "execution_count": 53,
     "metadata": {},
     "output_type": "execute_result"
    }
   ],
   "source": [
    "r=int(input(\"enter radius\"))\n",
    "calculate_area(r)"
   ]
  },
  {
   "cell_type": "markdown",
   "id": "55742ee7",
   "metadata": {},
   "source": [
    "2nd way"
   ]
  },
  {
   "cell_type": "code",
   "execution_count": 54,
   "id": "3971860f",
   "metadata": {},
   "outputs": [],
   "source": [
    "caluclate_area_circle= lambda radius: math.pi*r**2"
   ]
  },
  {
   "cell_type": "code",
   "execution_count": 56,
   "id": "a185ca08",
   "metadata": {},
   "outputs": [
    {
     "name": "stdout",
     "output_type": "stream",
     "text": [
      "value of radius2\n"
     ]
    }
   ],
   "source": [
    "r=int(input(\"value of radius\"))"
   ]
  },
  {
   "cell_type": "code",
   "execution_count": 58,
   "id": "db0acd00",
   "metadata": {},
   "outputs": [
    {
     "data": {
      "text/plain": [
       "12.566370614359172"
      ]
     },
     "execution_count": 58,
     "metadata": {},
     "output_type": "execute_result"
    }
   ],
   "source": [
    "caluclate_area_circle(r)"
   ]
  },
  {
   "cell_type": "markdown",
   "id": "dfe5ce11",
   "metadata": {},
   "source": [
    "4)Solve the expression. 5.2 + True + bool(-5) - 4 + 42//5 +bool(0) + False + int(5.9) + float('1')"
   ]
  },
  {
   "cell_type": "code",
   "execution_count": 62,
   "id": "1d833332",
   "metadata": {},
   "outputs": [],
   "source": [
    "exp=5.2+True+bool(-5)-4+(42//5)+bool(0)+False+int(5.9)+float('1')"
   ]
  },
  {
   "cell_type": "code",
   "execution_count": 63,
   "id": "e2ce8de0",
   "metadata": {},
   "outputs": [
    {
     "data": {
      "text/plain": [
       "17.2"
      ]
     },
     "execution_count": 63,
     "metadata": {},
     "output_type": "execute_result"
    }
   ],
   "source": [
    "exp"
   ]
  },
  {
   "cell_type": "markdown",
   "id": "21c59f23",
   "metadata": {},
   "source": [
    "5)Write code to test whether the given number lies between 1 and 10"
   ]
  },
  {
   "cell_type": "code",
   "execution_count": 66,
   "id": "565e3e17",
   "metadata": {},
   "outputs": [
    {
     "name": "stdout",
     "output_type": "stream",
     "text": [
      "enter the number33\n",
      "out of range\n"
     ]
    }
   ],
   "source": [
    "num=int(input(\"enter the number\"))\n",
    "if num>0 and num<11:\n",
    "    print(\"num lies between 1 to 10\")\n",
    "else:\n",
    "    print(\"out of range\")"
   ]
  },
  {
   "cell_type": "markdown",
   "id": "b775a43c",
   "metadata": {},
   "source": [
    "6)sum the numbers from 1 to 20 using for loop"
   ]
  },
  {
   "cell_type": "code",
   "execution_count": 70,
   "id": "c4ac6c1a",
   "metadata": {},
   "outputs": [
    {
     "name": "stdout",
     "output_type": "stream",
     "text": [
      "210\n"
     ]
    }
   ],
   "source": [
    " sum=0\n",
    "for i in range(1,21):\n",
    "   \n",
    "    sum+=i\n",
    "print(sum)"
   ]
  },
  {
   "cell_type": "markdown",
   "id": "9bb663bd",
   "metadata": {},
   "source": [
    "7)Display the numbers in reverse from 100 to 1"
   ]
  },
  {
   "cell_type": "code",
   "execution_count": 75,
   "id": "7c92fe77",
   "metadata": {},
   "outputs": [
    {
     "name": "stdout",
     "output_type": "stream",
     "text": [
      "100\n",
      "99\n",
      "98\n",
      "97\n",
      "96\n",
      "95\n",
      "94\n",
      "93\n",
      "92\n",
      "91\n",
      "90\n",
      "89\n",
      "88\n",
      "87\n",
      "86\n",
      "85\n",
      "84\n",
      "83\n",
      "82\n",
      "81\n",
      "80\n",
      "79\n",
      "78\n",
      "77\n",
      "76\n",
      "75\n",
      "74\n",
      "73\n",
      "72\n",
      "71\n",
      "70\n",
      "69\n",
      "68\n",
      "67\n",
      "66\n",
      "65\n",
      "64\n",
      "63\n",
      "62\n",
      "61\n",
      "60\n",
      "59\n",
      "58\n",
      "57\n",
      "56\n",
      "55\n",
      "54\n",
      "53\n",
      "52\n",
      "51\n",
      "50\n",
      "49\n",
      "48\n",
      "47\n",
      "46\n",
      "45\n",
      "44\n",
      "43\n",
      "42\n",
      "41\n",
      "40\n",
      "39\n",
      "38\n",
      "37\n",
      "36\n",
      "35\n",
      "34\n",
      "33\n",
      "32\n",
      "31\n",
      "30\n",
      "29\n",
      "28\n",
      "27\n",
      "26\n",
      "25\n",
      "24\n",
      "23\n",
      "22\n",
      "21\n",
      "20\n",
      "19\n",
      "18\n",
      "17\n",
      "16\n",
      "15\n",
      "14\n",
      "13\n",
      "12\n",
      "11\n",
      "10\n",
      "9\n",
      "8\n",
      "7\n",
      "6\n",
      "5\n",
      "4\n",
      "3\n",
      "2\n",
      "1\n"
     ]
    }
   ],
   "source": [
    "i=101\n",
    "while i>1:\n",
    "    \n",
    "    i-=1\n",
    "    print(i)"
   ]
  },
  {
   "cell_type": "markdown",
   "id": "56c3e41b",
   "metadata": {},
   "source": [
    "8)Display multiples of 2 from 10 to 50 using range"
   ]
  },
  {
   "cell_type": "code",
   "execution_count": 79,
   "id": "944808ed",
   "metadata": {},
   "outputs": [
    {
     "name": "stdout",
     "output_type": "stream",
     "text": [
      "10\n",
      "12\n",
      "14\n",
      "16\n",
      "18\n",
      "20\n",
      "22\n",
      "24\n",
      "26\n",
      "28\n",
      "30\n",
      "32\n",
      "34\n",
      "36\n",
      "38\n",
      "40\n",
      "42\n",
      "44\n",
      "46\n",
      "48\n",
      "50\n"
     ]
    }
   ],
   "source": [
    "for i in range(10,51):\n",
    "    if i%2==0:\n",
    "        print(i)"
   ]
  },
  {
   "cell_type": "markdown",
   "id": "c404efc6",
   "metadata": {},
   "source": [
    "9)From the below nested dictionary, pick the word \"Bangalore\". \n",
    "d = {'1':'One','2':[1,{'Two':['Ch','Cbe','Salem',{'Place':[5,6,7,'Bangalore']}]}]}"
   ]
  },
  {
   "cell_type": "code",
   "execution_count": 90,
   "id": "083f1799",
   "metadata": {},
   "outputs": [],
   "source": [
    "d = {1:'One',2:[1,{'Two':['Ch','Cbe','Salem',{'Place':[5,6,7,'Bangalore']}]}]}"
   ]
  },
  {
   "cell_type": "code",
   "execution_count": 94,
   "id": "c3d8ec44",
   "metadata": {},
   "outputs": [
    {
     "data": {
      "text/plain": [
       "'Bangalore'"
      ]
     },
     "execution_count": 94,
     "metadata": {},
     "output_type": "execute_result"
    }
   ],
   "source": [
    "d[2][1]['Two'][3]['Place'][3]"
   ]
  },
  {
   "cell_type": "markdown",
   "id": "ed463859",
   "metadata": {},
   "source": [
    "10)Use functions to return square of numbers from 2 to 5"
   ]
  },
  {
   "cell_type": "code",
   "execution_count": 103,
   "id": "19d2f241",
   "metadata": {},
   "outputs": [],
   "source": [
    "def print_square():\n",
    "    for i in range(2,6):\n",
    "        square= lambda r:i**2\n",
    "        \n",
    "    \n",
    "   \n",
    "\n",
    "   "
   ]
  },
  {
   "cell_type": "code",
   "execution_count": 104,
   "id": "793683f7",
   "metadata": {},
   "outputs": [],
   "source": [
    "print_square()"
   ]
  },
  {
   "cell_type": "code",
   "execution_count": null,
   "id": "22589dd1",
   "metadata": {},
   "outputs": [],
   "source": []
  }
 ],
 "metadata": {
  "kernelspec": {
   "display_name": "Python 3 (ipykernel)",
   "language": "python",
   "name": "python3"
  },
  "language_info": {
   "codemirror_mode": {
    "name": "ipython",
    "version": 3
   },
   "file_extension": ".py",
   "mimetype": "text/x-python",
   "name": "python",
   "nbconvert_exporter": "python",
   "pygments_lexer": "ipython3",
   "version": "3.9.7"
  }
 },
 "nbformat": 4,
 "nbformat_minor": 5
}
