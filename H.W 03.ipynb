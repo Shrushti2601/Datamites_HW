{
 "cells": [
  {
   "cell_type": "code",
   "execution_count": 1,
   "id": "b2b11d00",
   "metadata": {},
   "outputs": [
    {
     "name": "stdout",
     "output_type": "stream",
     "text": [
      "value of m is 2\n",
      "value of v is 2\n",
      "Kinetic energy 4.0\n"
     ]
    }
   ],
   "source": [
    "#Kinetic energy:(1/2)*(m*(v**2))\n",
    "m=int(input(\"value of m is \"))\n",
    "v=int(input(\"value of v is \"))\n",
    "k=(1/2)*(m*(v**2))\n",
    "print(\"Kinetic energy\",k)"
   ]
  },
  {
   "cell_type": "code",
   "execution_count": 5,
   "id": "39ce39b9",
   "metadata": {},
   "outputs": [
    {
     "name": "stdout",
     "output_type": "stream",
     "text": [
      "value of m is 2\n",
      "value of g is 10\n",
      "value of h is 10\n",
      "Gravitational energy 200\n"
     ]
    }
   ],
   "source": [
    "#Potential energy : PE=MGH\n",
    "m=int(input(\"value of m is \"))\n",
    "g=int(input(\"value of g is \"))\n",
    "h=int(input(\"value of h is \"))\n",
    "PE=m*g*h\n",
    "print(\"Gravitational energy\",PE)\n"
   ]
  },
  {
   "cell_type": "code",
   "execution_count": 6,
   "id": "7b2d91cc",
   "metadata": {},
   "outputs": [
    {
     "name": "stdout",
     "output_type": "stream",
     "text": [
      "value of b is 45\n",
      "value of h is 5\n",
      "Area of a parallelogram is : 225\n"
     ]
    }
   ],
   "source": [
    "#Area of a parallelogram A=bh\n",
    "b=int(input(\"value of b is \"))\n",
    "h=int(input(\"value of h is \"))\n",
    "A=b*h\n",
    "print(\"Area of a parallelogram is :\",A)"
   ]
  },
  {
   "cell_type": "code",
   "execution_count": 15,
   "id": "1bc8b04f",
   "metadata": {},
   "outputs": [
    {
     "name": "stdout",
     "output_type": "stream",
     "text": [
      "value of a is 2\n",
      "value of b is 3\n",
      "(a+b)^2 is 25\n"
     ]
    }
   ],
   "source": [
    "#(a+b)2=a2+b2+2ab\n",
    "a=int(input(\"value of a is \"))\n",
    "b=int(input(\"value of b is \"))\n",
    "z=(a**2)+(b**2)+(2*a*b)\n",
    "\n",
    "print(\"(a+b)^2 is\",z)"
   ]
  },
  {
   "cell_type": "code",
   "execution_count": 16,
   "id": "9c66dfbc",
   "metadata": {},
   "outputs": [
    {
     "name": "stdout",
     "output_type": "stream",
     "text": [
      "enter the radius:2\n",
      "50.24\n"
     ]
    }
   ],
   "source": [
    "r=int(input(\"enter the radius:\"))\n",
    "area_of_sphere= 4*3.14*r**2\n",
    "print(area_of_sphere)"
   ]
  },
  {
   "cell_type": "code",
   "execution_count": 17,
   "id": "089733ec",
   "metadata": {},
   "outputs": [
    {
     "name": "stdout",
     "output_type": "stream",
     "text": [
      "enter the length:2\n",
      "enter the width:3\n",
      "enter the height:4\n",
      "52\n"
     ]
    }
   ],
   "source": [
    "l=int(input(\"enter the length:\"))\n",
    "w=int(input(\"enter the width:\"))\n",
    "h=int(input(\"enter the height:\"))\n",
    "\n",
    "area_of_cuiboid= 2*l*w + 2*l*h + 2*h*w\n",
    "print(area_of_cuiboid)"
   ]
  },
  {
   "cell_type": "code",
   "execution_count": 19,
   "id": "e56f7f38",
   "metadata": {},
   "outputs": [
    {
     "name": "stdout",
     "output_type": "stream",
     "text": [
      "a is  smaller.\n"
     ]
    }
   ],
   "source": [
    "a=45\n",
    "b=55\n",
    "if b<a:\n",
    "    print(\"a is greater.\")\n",
    "else:\n",
    "    print(\"a is  smaller.\")\n",
    "    \n"
   ]
  },
  {
   "cell_type": "code",
   "execution_count": 22,
   "id": "fa319d26",
   "metadata": {},
   "outputs": [
    {
     "name": "stdout",
     "output_type": "stream",
     "text": [
      "enter value in  kilometer:100000\n",
      "value of kilometers is: 62137.1 miles\n"
     ]
    }
   ],
   "source": [
    "kilometer=int(input(\"enter value in  kilometer:\"))\n",
    "\n",
    "conv_fac=0.621371\n",
    "\n",
    "miles=kilometer*conv_fac\n",
    "print(\"value of kilometers is:\",miles,\"miles\")"
   ]
  },
  {
   "cell_type": "code",
   "execution_count": 23,
   "id": "bb377cec",
   "metadata": {},
   "outputs": [
    {
     "name": "stdout",
     "output_type": "stream",
     "text": [
      "value of f is 20\n",
      "value of d is 30\n",
      "work done 600\n"
     ]
    }
   ],
   "source": [
    "#Work Done W=f*d\n",
    "\n",
    "f=int(input(\"value of f is \"))\n",
    "\n",
    "d=int(input(\"value of d is \"))\n",
    "w=f*d\n",
    "print(\"work done\",w)"
   ]
  },
  {
   "cell_type": "code",
   "execution_count": 26,
   "id": "2a5ff850",
   "metadata": {},
   "outputs": [
    {
     "name": "stdout",
     "output_type": "stream",
     "text": [
      "value of l is 36\n",
      "Simple Pendulum Period is 12.56\n"
     ]
    }
   ],
   "source": [
    "#Simple Pendulum Period 2*3.14(0.5*(l/9))\n",
    "\n",
    "l=int(input(\"value of l is \"))\n",
    "s= (2*3.14)*(0.5*(l/9))\n",
    "\n",
    "print(\"Simple Pendulum Period is\",s)"
   ]
  },
  {
   "cell_type": "code",
   "execution_count": null,
   "id": "2c90bf46",
   "metadata": {},
   "outputs": [],
   "source": []
  },
  {
   "cell_type": "code",
   "execution_count": null,
   "id": "462487cf",
   "metadata": {},
   "outputs": [],
   "source": []
  }
 ],
 "metadata": {
  "kernelspec": {
   "display_name": "Python 3 (ipykernel)",
   "language": "python",
   "name": "python3"
  },
  "language_info": {
   "codemirror_mode": {
    "name": "ipython",
    "version": 3
   },
   "file_extension": ".py",
   "mimetype": "text/x-python",
   "name": "python",
   "nbconvert_exporter": "python",
   "pygments_lexer": "ipython3",
   "version": "3.9.7"
  }
 },
 "nbformat": 4,
 "nbformat_minor": 5
}
