{
 "cells": [
  {
   "cell_type": "code",
   "execution_count": 1,
   "id": "76800ae0",
   "metadata": {},
   "outputs": [],
   "source": [
    "import requests\n",
    "from bs4 import BeautifulSoup\n",
    "import pandas as pd\n",
    "\n",
    "# Initialize list to store movie data\n",
    "movies = []\n",
    "\n",
    "# Base URL\n",
    "base_url = \"https://www.imdb.com/list/ls050782187/\"\n",
    "\n",
    "# Send a GET request to the IMDb page\n",
    "response = requests.get(base_url)\n",
    "\n",
    "# Check if the request was successful (status code 200)\n",
    "if response.status_code == 200:\n",
    "    # Parse the HTML content\n",
    "    soup = BeautifulSoup(response.content, 'html.parser')\n",
    "\n",
    "    # Find all movie items on the page\n",
    "    movie_data = soup.find_all('div', class_='lister-item-content')\n",
    "    \n",
    "    # Extract movie data from each item\n",
    "    for i in movie_data:\n",
    "        title = i.h3.a.text\n",
    "        year = i.h3.find('span', class_='lister-item-year').text.strip('()')\n",
    "        genre = i.find('span', class_='genre').text.strip()\n",
    "        runtime = i.find('span', class_='runtime').text.strip()\n",
    "        rating = i.find('span', class_='ipl-rating-star__rating').text.strip()\n",
    "        description = i.find('p', class_='').text.strip()\n",
    "        director = i.find_all('p')[2].find('a').text.strip()\n",
    "        gross_tag = i.find('span', attrs={'name': 'nv'})\n",
    "        gross = gross_tag['data-value'] if gross_tag else None\n",
    "\n",
    "        movies.append([title, year, genre, runtime, rating, description, director, gross])\n",
    "\n",
    "    # Check if we have enough movies\n",
    "   "
   ]
  },
  {
   "cell_type": "code",
   "execution_count": 20,
   "id": "6b2ae4ca",
   "metadata": {},
   "outputs": [],
   "source": [
    " while len(movies) < 500:\n",
    "        next_page_link = soup.find('a', class_='flat-button lister-page-next next-page')\n",
    "        next_page_url = \"https://www.imdb.com/list/ls050782187/?sort=list_order,asc&st_dt=&mode=detail&page=2\" + next_page_link\n",
    "        \n",
    "        # Send a GET request to the next page\n",
    "        response = requests.get(next_page_url)\n",
    "        \n",
    "        # Check if the request was successful (status code 200)\n",
    "        if response.status_code == 200:\n",
    "            # Parse the HTML content\n",
    "            soup = BeautifulSoup(response.content, 'html.parser')\n",
    "    \n",
    "            # Find all movie items on the page\n",
    "            movie_data = soup.find_all('div', class_='lister-item-content')\n",
    "            \n",
    "            # Extract movie data from each item\n",
    "            for i in movie_data:\n",
    "                title = i.h3.a.text\n",
    "                year = i.h3.find('span', class_='lister-item-year').text.strip('()')\n",
    "                genre = i.find('span', class_='genre').text.strip()\n",
    "                runtime = i.find('span', class_='runtime').text.strip()\n",
    "                rating = i.find('span', class_='ipl-rating-star__rating').text.strip()\n",
    "                description = i.find('p', class_='').text.strip()\n",
    "                director = i.find_all('p')[2].find('a').text.strip()\n",
    "                gross_tag = i.find('span', attrs={'name': 'nv'})\n",
    "                gross = gross_tag['data-value'] if gross_tag else None\n",
    "\n",
    "                movies.append([title, year, genre, runtime, rating, description, director, gross])\n",
    "        else:\n",
    "            print(f\"Failed to retrieve data from next page: {next_page_url}\")\n",
    "            break\n",
    "\n",
    "    # Create DataFrame\n",
    "\n",
    "\n",
    "      \n"
   ]
  },
  {
   "cell_type": "code",
   "execution_count": 21,
   "id": "53d3a10a",
   "metadata": {},
   "outputs": [
    {
     "name": "stdout",
     "output_type": "stream",
     "text": [
      "                                              Title      Year                       Genre  Runtime Rating                                                                                                                                                                                              Description              Director    Gross\n",
      "0                                     The Godfather      1972                Crime, Drama  175 min    9.2                                                                                      The aging patriarch of an organized crime dynasty transfers control of his clandestine empire to his reluctant son.  Francis Ford Coppola  1999207\n",
      "1                          The Silence of the Lambs      1991      Crime, Drama, Thriller  118 min    8.6                                      A young F.B.I. cadet must receive the help of an incarcerated and manipulative cannibal killer to help catch another serial killer, a madman who skins his victims.        Jonathan Demme  1538684\n",
      "2    Star Wars: Episode V - The Empire Strikes Back      1980  Action, Adventure, Fantasy  124 min    8.7           After the Rebels are overpowered by the Empire, Luke Skywalker begins his Jedi training with Yoda, while his friends are pursued across the galaxy by Darth Vader and bounty hunter Boba Fett.        Irvin Kershner  1372150\n",
      "3                          The Shawshank Redemption      1994                       Drama  142 min    9.3                                                              Over the course of several years, two convicts form a friendship, seeking consolation and, eventually, redemption through basic compassion.        Frank Darabont  2870230\n",
      "4                                       The Shining      1980               Drama, Horror  146 min    8.4             A family heads to an isolated hotel for the winter where a sinister presence influences the father into violence, while his psychic son sees horrific forebodings from both past and future.       Stanley Kubrick  1099843\n",
      "..                                              ...       ...                         ...      ...    ...                                                                                                                                                                                                      ...                   ...      ...\n",
      "495                                           Drive  I) (2011               Action, Drama  100 min    7.8                             A mysterious Hollywood action film stuntman gets in trouble with gangsters when he tries to help his neighbor's husband rob a pawn shop while serving as his getaway driver.  Nicolas Winding Refn   700495\n",
      "496                                 American Psycho      2000        Crime, Drama, Horror  102 min    7.6  A wealthy New York City investment banking executive, Patrick Bateman, hides his alternate psychopathic ego from his co-workers and friends as he delves deeper into his violent, hedonistic fantasies.           Mary Harron   708105\n",
      "497        Pirates of the Caribbean: At World's End      2007  Action, Adventure, Fantasy  169 min    7.1    Captain Barbossa, Will Turner and Elizabeth Swann must sail off the edge of the map, navigate treachery and betrayal, find Jack Sparrow, and make their final alliances for one last decisive battle.        Gore Verbinski   689756\n",
      "498                                       Pour elle      2008      Crime, Drama, Thriller   96 min    7.1                                                                         With no legal means left to him, a high school teacher devises a daring plan to rescue his wrongfully imprisoned wife from jail.           Fred Cavayé     9744\n",
      "499                                    A Single Man      2009       Crime, Drama, Romance   99 min    7.5                                                                    An English professor, one year after the sudden death of his boyfriend, is unable to cope with his typical days in 1960s Los Angeles.              Tom Ford   117443\n",
      "\n",
      "[500 rows x 8 columns]\n"
     ]
    }
   ],
   "source": [
    "df = pd.DataFrame(movies, columns=['Title', 'Year', 'Genre', 'Runtime', 'Rating', 'Description', 'Director', 'Gross'])\n",
    "\n",
    "pd.set_option('display.max_colwidth', None)  # Display full content of columns\n",
    "pd.set_option('display.expand_frame_repr', False)  # Don't wrap lines in the display\n",
    "pd.set_option('display.width', None)\n",
    "    # Print DataFrame\n",
    "print(df)"
   ]
  },
  {
   "cell_type": "code",
   "execution_count": null,
   "id": "68566e49",
   "metadata": {},
   "outputs": [],
   "source": []
  }
 ],
 "metadata": {
  "kernelspec": {
   "display_name": "Python 3 (ipykernel)",
   "language": "python",
   "name": "python3"
  },
  "language_info": {
   "codemirror_mode": {
    "name": "ipython",
    "version": 3
   },
   "file_extension": ".py",
   "mimetype": "text/x-python",
   "name": "python",
   "nbconvert_exporter": "python",
   "pygments_lexer": "ipython3",
   "version": "3.9.7"
  }
 },
 "nbformat": 4,
 "nbformat_minor": 5
}
