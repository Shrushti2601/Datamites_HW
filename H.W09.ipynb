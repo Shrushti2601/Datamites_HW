{
 "cells": [
  {
   "cell_type": "code",
   "execution_count": 1,
   "id": "ec25134d",
   "metadata": {},
   "outputs": [
    {
     "name": "stdout",
     "output_type": "stream",
     "text": [
      "enter age19\n",
      "he/she can vote\n"
     ]
    }
   ],
   "source": [
    "age=int(input(\"enter age\"))\n",
    "if age>18:\n",
    "    print(\"he/she can vote\")\n",
    "else:\n",
    "    print(\"can't vote\")"
   ]
  },
  {
   "cell_type": "code",
   "execution_count": 2,
   "id": "c00b1939",
   "metadata": {},
   "outputs": [
    {
     "name": "stdout",
     "output_type": "stream",
     "text": [
      "* \n",
      "* * \n",
      "* * * \n",
      "* * * * \n"
     ]
    }
   ],
   "source": [
    "n=4\n",
    "for i in range(n):\n",
    "    for j in range(i+1):\n",
    "        print(\"*\",end=\" \")\n",
    "    print()"
   ]
  },
  {
   "cell_type": "code",
   "execution_count": 4,
   "id": "4779d488",
   "metadata": {},
   "outputs": [
    {
     "name": "stdout",
     "output_type": "stream",
     "text": [
      "* * * * \n",
      "* * * \n",
      "* * \n",
      "* \n"
     ]
    }
   ],
   "source": [
    "n=4\n",
    "for i in range(n):\n",
    "    for j in range(i,n):\n",
    "        print(\"*\",end=\" \")\n",
    "    print()"
   ]
  },
  {
   "cell_type": "code",
   "execution_count": 5,
   "id": "fb2f9e0e",
   "metadata": {},
   "outputs": [
    {
     "name": "stdout",
     "output_type": "stream",
     "text": [
      "        * \n",
      "      * * \n",
      "    * * * \n",
      "  * * * * \n"
     ]
    }
   ],
   "source": [
    "n=4\n",
    "for i in range(n):\n",
    "    for j in range(i,n):\n",
    "        print(' ',end=' ')\n",
    "    for j in range(i+1):\n",
    "        print(\"*\",end=' ')\n",
    "    print()"
   ]
  },
  {
   "cell_type": "code",
   "execution_count": 6,
   "id": "e0a42cd2",
   "metadata": {},
   "outputs": [
    {
     "name": "stdout",
     "output_type": "stream",
     "text": [
      "  * * * * * \n",
      "    * * * * \n",
      "      * * * \n",
      "        * * \n",
      "          * \n"
     ]
    }
   ],
   "source": [
    "n=5\n",
    "for i in range(n):\n",
    "    for j in range(i+1):\n",
    "        print(' ',end=' ')\n",
    "    for j in range(i,n):\n",
    "        print(\"*\",end=' ')\n",
    "    print()"
   ]
  },
  {
   "cell_type": "code",
   "execution_count": 10,
   "id": "dc041dc8",
   "metadata": {},
   "outputs": [
    {
     "name": "stdout",
     "output_type": "stream",
     "text": [
      "enter score76\n",
      "B grade\n"
     ]
    }
   ],
   "source": [
    "#If a student scores above 90, assign grade A\n",
    "#If a student scores above 75, assign grade B\n",
    "#If a student scores above 65, assign grade C\n",
    "\n",
    "score=int(input(\"enter score\"))\n",
    "\n",
    "if score>90:\n",
    "    print(\"A grade\")\n",
    "elif score>75 and score<90:\n",
    "    print(\"B grade\")\n",
    "elif score>65 and score<75:\n",
    "    print(\"C grade\")\n",
    "else:\n",
    "    print(\"boundary pass\")"
   ]
  },
  {
   "cell_type": "code",
   "execution_count": 12,
   "id": "27c3d93a",
   "metadata": {},
   "outputs": [
    {
     "name": "stdout",
     "output_type": "stream",
     "text": [
      "enter the number-3\n",
      "negative number\n"
     ]
    }
   ],
   "source": [
    "num=int(input(\"enter the number\"))\n",
    "if num>=0:\n",
    "    print(\"positive number\")\n",
    "else:\n",
    "    print(\"negative number\")"
   ]
  },
  {
   "cell_type": "code",
   "execution_count": 13,
   "id": "41324715",
   "metadata": {},
   "outputs": [
    {
     "name": "stdout",
     "output_type": "stream",
     "text": [
      "enter number5\n",
      "enter number6\n",
      "b is greater\n"
     ]
    }
   ],
   "source": [
    "#greater number\n",
    "a=int(input(\"enter number\"))\n",
    "b=int(input(\"enter number\"))\n",
    "if a>b:\n",
    "    print(\"a is greater\")\n",
    "elif a==b:\n",
    "    print(\"both are equal\")\n",
    "else:\n",
    "    print(\"b is greater\")"
   ]
  },
  {
   "cell_type": "code",
   "execution_count": 16,
   "id": "3fe6a84b",
   "metadata": {},
   "outputs": [
    {
     "name": "stdout",
     "output_type": "stream",
     "text": [
      "enter number1000\n",
      "enter number200\n",
      "enter number1100\n",
      "At least one of the conditions is True\n"
     ]
    }
   ],
   "source": [
    "a =int(input(\"enter number\"))\n",
    "b = int(input(\"enter number\"))\n",
    "c = int(input(\"enter number\"))\n",
    "if a > b or a > c:\n",
    "  print(\"At least one of the conditions is True\")"
   ]
  },
  {
   "cell_type": "code",
   "execution_count": 18,
   "id": "a558f551",
   "metadata": {},
   "outputs": [
    {
     "name": "stdout",
     "output_type": "stream",
     "text": [
      "enter number100\n",
      "enter number200\n",
      "a is NOT greater than b\n"
     ]
    }
   ],
   "source": [
    "a = int(input(\"enter number\"))\n",
    "b =int(input(\"enter number\"))\n",
    "if not a > b:\n",
    "  print(\"a is NOT greater than b\")"
   ]
  },
  {
   "cell_type": "code",
   "execution_count": null,
   "id": "57aa10e5",
   "metadata": {},
   "outputs": [],
   "source": []
  }
 ],
 "metadata": {
  "kernelspec": {
   "display_name": "Python 3 (ipykernel)",
   "language": "python",
   "name": "python3"
  },
  "language_info": {
   "codemirror_mode": {
    "name": "ipython",
    "version": 3
   },
   "file_extension": ".py",
   "mimetype": "text/x-python",
   "name": "python",
   "nbconvert_exporter": "python",
   "pygments_lexer": "ipython3",
   "version": "3.9.7"
  }
 },
 "nbformat": 4,
 "nbformat_minor": 5
}
