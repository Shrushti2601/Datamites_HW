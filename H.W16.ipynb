{
 "cells": [
  {
   "cell_type": "markdown",
   "id": "9b90ff7e",
   "metadata": {},
   "source": [
    "example 1. Python Program to find sum of array"
   ]
  },
  {
   "cell_type": "code",
   "execution_count": 6,
   "id": "40b8c823",
   "metadata": {},
   "outputs": [],
   "source": [
    "def sum_num(a):\n",
    "    sum=0\n",
    "    for i in a:\n",
    "        sum+=i\n",
    "    return sum"
   ]
  },
  {
   "cell_type": "code",
   "execution_count": 7,
   "id": "5fa6b947",
   "metadata": {},
   "outputs": [
    {
     "data": {
      "text/plain": [
       "6"
      ]
     },
     "execution_count": 7,
     "metadata": {},
     "output_type": "execute_result"
    }
   ],
   "source": [
    "sum_num([1,2,3])"
   ]
  },
  {
   "cell_type": "markdown",
   "id": "ae928693",
   "metadata": {},
   "source": [
    "example 2.Write a program to create, concatenate and print a string and\n",
    " accessing sub-string from a given string"
   ]
  },
  {
   "cell_type": "code",
   "execution_count": 9,
   "id": "351d033d",
   "metadata": {},
   "outputs": [
    {
     "name": "stdout",
     "output_type": "stream",
     "text": [
      "enter the string a shrushti\n",
      "enter string b mahajan\n",
      " first string is  shrushti\n",
      "second string is  mahajan\n",
      "concatenate string shrushti mahajan\n",
      "shrus\n",
      "maha\n"
     ]
    }
   ],
   "source": [
    "a=input(\"enter the string a \")\n",
    "b=input(\"enter string b \")\n",
    "print(\" first string is \",a)\n",
    "print(\"second string is \",b)\n",
    "print(\"concatenate string\", a+\" \"+b)\n",
    "print(a[0:5])\n",
    "print(b[0:4])"
   ]
  },
  {
   "cell_type": "markdown",
   "id": "b36c6577",
   "metadata": {},
   "source": [
    "example 3 Create and explain the working of  tuple."
   ]
  },
  {
   "cell_type": "code",
   "execution_count": 10,
   "id": "90c44282",
   "metadata": {},
   "outputs": [],
   "source": [
    "# tuple is immutable it means we can't update or remove elements"
   ]
  },
  {
   "cell_type": "code",
   "execution_count": 11,
   "id": "eba10f6d",
   "metadata": {},
   "outputs": [],
   "source": [
    "s1=(1,2,3,4)"
   ]
  },
  {
   "cell_type": "code",
   "execution_count": 13,
   "id": "927afdf0",
   "metadata": {},
   "outputs": [
    {
     "data": {
      "text/plain": [
       "(1, 2, 3, 4)"
      ]
     },
     "execution_count": 13,
     "metadata": {},
     "output_type": "execute_result"
    }
   ],
   "source": [
    "s1"
   ]
  },
  {
   "cell_type": "code",
   "execution_count": 14,
   "id": "d3e95330",
   "metadata": {},
   "outputs": [
    {
     "data": {
      "text/plain": [
       "(1, 2, 3)"
      ]
     },
     "execution_count": 14,
     "metadata": {},
     "output_type": "execute_result"
    }
   ],
   "source": [
    "s1[0:3]"
   ]
  },
  {
   "cell_type": "markdown",
   "id": "b15e868a",
   "metadata": {},
   "source": [
    "example 4: Write a python program to find largest of three numbers."
   ]
  },
  {
   "cell_type": "code",
   "execution_count": 21,
   "id": "016054a5",
   "metadata": {},
   "outputs": [],
   "source": [
    "def largest(a,b,c):\n",
    "    return max(a,b,c)\n",
    "    "
   ]
  },
  {
   "cell_type": "code",
   "execution_count": 22,
   "id": "9fe4e004",
   "metadata": {},
   "outputs": [
    {
     "data": {
      "text/plain": [
       "3"
      ]
     },
     "execution_count": 22,
     "metadata": {},
     "output_type": "execute_result"
    }
   ],
   "source": [
    "largest(1,2,3)"
   ]
  },
  {
   "cell_type": "markdown",
   "id": "d87ae16a",
   "metadata": {},
   "source": [
    "example 5: another way of finding max number"
   ]
  },
  {
   "cell_type": "code",
   "execution_count": 23,
   "id": "0e03e8f2",
   "metadata": {},
   "outputs": [
    {
     "name": "stdout",
     "output_type": "stream",
     "text": [
      "10\n"
     ]
    }
   ],
   "source": [
    "largest = lambda a, b, c: a if (a > b and a > c) else (b if (b > c) else c)\n",
    "result = largest(10, 5, 8)\n",
    "print(result)  "
   ]
  },
  {
   "cell_type": "markdown",
   "id": "ebaa22bd",
   "metadata": {},
   "source": [
    "example 6:15.Write a Python program to convert temperatures to and from Celsius,\n",
    " Fahrenheit. [ Formula: c = (f-32)(5/9)]"
   ]
  },
  {
   "cell_type": "code",
   "execution_count": 27,
   "id": "27940226",
   "metadata": {},
   "outputs": [
    {
     "name": "stdout",
     "output_type": "stream",
     "text": [
      "enter temp90\n",
      "in which you want to convertc\n",
      "temp is f is  194.0\n"
     ]
    }
   ],
   "source": [
    "temp=float(input(\"enter temp\"))\n",
    "choose=input(\"in which you want to convert\")\n",
    "if choose =='c'or choose=='C':\n",
    "    new_temp=(9/5)*temp +32\n",
    "    print(\"temp is f is \",new_temp)\n",
    "elif choose=='f' or choose=='F':\n",
    "    new_temp1=(5/9)*(temp-32)\n",
    "    print(\"temp in celsius is \",new_temp1)\n",
    "else:\n",
    "    print(\"wrong information\")\n"
   ]
  },
  {
   "cell_type": "code",
   "execution_count": null,
   "id": "5b96c5c1",
   "metadata": {},
   "outputs": [],
   "source": [
    "# example 7: \n",
    "* \n",
    "* * \n",
    "* * * \n",
    "* * * * \n",
    "* * * * * \n",
    "* * * * * * \n",
    "* * * * * * * \n",
    "* * * * * * \n",
    "* * * * * \n",
    "* * * * \n",
    "* * * \n",
    "* * \n",
    "* \n",
    "construct this \n",
    "#value of i starts from 0"
   ]
  },
  {
   "cell_type": "code",
   "execution_count": 29,
   "id": "d93177d4",
   "metadata": {},
   "outputs": [
    {
     "name": "stdout",
     "output_type": "stream",
     "text": [
      "*  \n",
      "* *  \n",
      "* * *  \n",
      "* * * *  \n",
      "* * * * *  \n",
      "* * * * * *  \n",
      "* * * * * * *  \n",
      "* * * * * *  \n",
      "* * * * *  \n",
      "* * * *  \n",
      "* * *  \n",
      "* *  \n",
      "*  \n"
     ]
    }
   ],
   "source": [
    "n=6\n",
    "for i in range(n):\n",
    "    for j in range(i+1):\n",
    "        print(\"*\",end=\" \")\n",
    "    print(\" \")\n",
    "m=7\n",
    "for i in range(m):\n",
    "    for j in range(7-i):\n",
    "        print(\"*\",end=\" \")\n",
    "    print(\" \")"
   ]
  },
  {
   "cell_type": "code",
   "execution_count": null,
   "id": "69463002",
   "metadata": {},
   "outputs": [],
   "source": [
    "example 8: create diamond shape \n",
    "          * \n",
    "        * * * \n",
    "      * * * * * \n",
    "    * * * * * * * \n",
    "  * * * * * * * * * \n",
    "    * * * * * * * \n",
    "      * * * * * \n",
    "        * * * \n",
    "          *"
   ]
  },
  {
   "cell_type": "code",
   "execution_count": 68,
   "id": "3db49f1e",
   "metadata": {},
   "outputs": [
    {
     "name": "stdout",
     "output_type": "stream",
     "text": [
      "          * \n",
      "        * * * \n",
      "      * * * * * \n",
      "    * * * * * * * \n",
      "  * * * * * * * * * \n",
      "    * * * * * * * \n",
      "      * * * * * \n",
      "        * * * \n",
      "          * \n"
     ]
    }
   ],
   "source": [
    "n=5\n",
    "for i in range(n):\n",
    "    for j in range(i,n):\n",
    "        print(\" \",end=' ')\n",
    "   \n",
    "    for j in range(i+1):\n",
    "        print(\"*\",end=' ')\n",
    "    \n",
    "\n",
    "    for j in range(i):\n",
    "        print(\"*\",end=' ')\n",
    "    print()\n",
    "m=4\n",
    "for i in range(m):\n",
    "    for j in range(i+2):\n",
    "        print(\" \",end=' ')\n",
    "    for j in range(i,m):\n",
    "        print(\"*\",end=' ')\n",
    "    for j in range (3-i):\n",
    "        print(\"*\", end=' ')\n",
    "    print()\n",
    "\n",
    " \n",
    "    \n",
    "    \n",
    "    \n",
    "  \n",
    "    \n",
    "        "
   ]
  },
  {
   "cell_type": "markdown",
   "id": "29939115",
   "metadata": {},
   "source": [
    "example 9.Write a program that accepts the lengths of three sides of a triangle\n",
    "as inputs. The program output should indicate whether or not the triangle\n",
    "is a right triangle (Recall from the Pythagorean Theorem that in a right\n",
    "triangle, the square of one side equals the sum of the squares of the\n",
    "other two sides)."
   ]
  },
  {
   "cell_type": "code",
   "execution_count": 70,
   "id": "5b9eb471",
   "metadata": {},
   "outputs": [
    {
     "name": "stdout",
     "output_type": "stream",
     "text": [
      "enter the length 4\n",
      "enter the base 3\n",
      "enter the hypo 5\n",
      "it is right angle\n"
     ]
    }
   ],
   "source": [
    "l=int(input(\"enter the length \"))\n",
    "b=int(input(\"enter the base \"))\n",
    "h=int(input(\"enter the hypo \"))\n",
    "if h**2== (l**2)+(b**2):\n",
    "    print(\"it is right angle\")\n",
    "else:\n",
    "    print(\"not right angle\")"
   ]
  },
  {
   "cell_type": "markdown",
   "id": "94c8372d",
   "metadata": {},
   "source": [
    "example 10: Given a range of the first 10 numbers, Iterate from the start number to the end number, and In each iteration print the sum of the current number and previous number"
   ]
  },
  {
   "cell_type": "code",
   "execution_count": 74,
   "id": "011981b2",
   "metadata": {},
   "outputs": [],
   "source": [
    "def sum_num(num):\n",
    "    sum=0\n",
    "    for i in range(num):\n",
    "        sum+=i\n",
    "        print(i,sum)\n",
    "    print(\"total sum of number is \",sum)"
   ]
  },
  {
   "cell_type": "code",
   "execution_count": 77,
   "id": "7a5d1c03",
   "metadata": {},
   "outputs": [
    {
     "name": "stdout",
     "output_type": "stream",
     "text": [
      "0 0\n",
      "1 1\n",
      "2 3\n",
      "3 6\n",
      "4 10\n",
      "5 15\n",
      "6 21\n",
      "7 28\n",
      "8 36\n",
      "9 45\n",
      "10 55\n",
      "total sum of number is  55\n"
     ]
    }
   ],
   "source": [
    "sum_num(11)"
   ]
  },
  {
   "cell_type": "code",
   "execution_count": null,
   "id": "91a27aa9",
   "metadata": {},
   "outputs": [],
   "source": []
  }
 ],
 "metadata": {
  "kernelspec": {
   "display_name": "Python 3 (ipykernel)",
   "language": "python",
   "name": "python3"
  },
  "language_info": {
   "codemirror_mode": {
    "name": "ipython",
    "version": 3
   },
   "file_extension": ".py",
   "mimetype": "text/x-python",
   "name": "python",
   "nbconvert_exporter": "python",
   "pygments_lexer": "ipython3",
   "version": "3.9.7"
  }
 },
 "nbformat": 4,
 "nbformat_minor": 5
}
