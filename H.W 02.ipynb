{
 "cells": [
  {
   "cell_type": "code",
   "execution_count": 2,
   "id": "9e714617",
   "metadata": {},
   "outputs": [
    {
     "name": "stdout",
     "output_type": "stream",
     "text": [
      "value of l is 2\n",
      "value of b is 3\n",
      "Area of rectangle is  6\n"
     ]
    }
   ],
   "source": [
    "#Area of a rectangle : Area=length×width\n",
    "l=int(input(\"value of l is \"))\n",
    "b=int(input(\"value of b is \"))\n",
    "c= l*b\n",
    "print(\"Area of rectangle is \",c)\n"
   ]
  },
  {
   "cell_type": "code",
   "execution_count": 3,
   "id": "10824304",
   "metadata": {},
   "outputs": [
    {
     "name": "stdout",
     "output_type": "stream",
     "text": [
      "value of l is 2\n",
      "value of w is 3\n",
      "Perimeter of a rectangle 10\n"
     ]
    }
   ],
   "source": [
    "#Perimeter of a rectangle : 2×(length+width)\n",
    "l=int(input(\"value of l is \"))\n",
    "w=int(input(\"value of w is \"))\n",
    "c=2*(l+w)\n",
    "print(\"Perimeter of a rectangle\",c)"
   ]
  },
  {
   "cell_type": "code",
   "execution_count": 4,
   "id": "c60be619",
   "metadata": {},
   "outputs": [
    {
     "name": "stdout",
     "output_type": "stream",
     "text": [
      "value of r is 2\n",
      "12.56\n"
     ]
    }
   ],
   "source": [
    "#Area of a circle : 3.14* (r**2)\n",
    "r=int(input(\"value of r is \"))\n",
    "c= 3.14* (r**2)\n",
    "print(c)"
   ]
  },
  {
   "cell_type": "code",
   "execution_count": 6,
   "id": "8b55a267",
   "metadata": {},
   "outputs": [
    {
     "name": "stdout",
     "output_type": "stream",
     "text": [
      "value of r is 2\n",
      "Circumference of a circle is  12.56\n"
     ]
    }
   ],
   "source": [
    "#Circumference of a circle :2*3.14*radius\n",
    "r=int(input(\"value of r is \"))\n",
    "c=2*3.14*r\n",
    "print(\"Circumference of a circle is \",c)"
   ]
  },
  {
   "cell_type": "code",
   "execution_count": 10,
   "id": "1a8873f7",
   "metadata": {},
   "outputs": [
    {
     "name": "stdout",
     "output_type": "stream",
     "text": [
      "value of r is 2\n",
      "Surface area of a sphere 50.24\n"
     ]
    }
   ],
   "source": [
    "#Surface area of a sphere: 4*3.14*(r**2)\n",
    "r=int(input(\"value of r is \"))\n",
    "c=4*3.14*(r**2)\n",
    "print(\"Surface area of a sphere\",c)"
   ]
  },
  {
   "cell_type": "code",
   "execution_count": 12,
   "id": "ee2e08f6",
   "metadata": {},
   "outputs": [
    {
     "name": "stdout",
     "output_type": "stream",
     "text": [
      "value of f is 180\n",
      "Fahrenheit to Celsius conversion 82.22222222222223\n"
     ]
    }
   ],
   "source": [
    "#Fahrenheit to Celsius conversion:5/9(f-32)\n",
    "f=int(input(\"value of f is \"))\n",
    "c=(5/9)*(f-32)\n",
    "print(\"Fahrenheit to Celsius conversion\",c)"
   ]
  },
  {
   "cell_type": "code",
   "execution_count": 16,
   "id": "0f19118f",
   "metadata": {},
   "outputs": [
    {
     "name": "stdout",
     "output_type": "stream",
     "text": [
      "value of c is 82\n",
      "Celsius to Fahrenheit conversion is 179.6\n"
     ]
    }
   ],
   "source": [
    "#Celsius to Fahrenheit conversion:(9/5)c+32\n",
    "c=int(input(\"value of c is \"))\n",
    "z=(9/5)*c+32\n",
    "print(\"Celsius to Fahrenheit conversion is\",z)"
   ]
  },
  {
   "cell_type": "code",
   "execution_count": 17,
   "id": "e39bb2f7",
   "metadata": {},
   "outputs": [
    {
     "name": "stdout",
     "output_type": "stream",
     "text": [
      "value of a is 1\n",
      "value of b is 2\n",
      "value of c is 3\n",
      "Perimeter of a triangle is  6\n"
     ]
    }
   ],
   "source": [
    "#Perimeter of a triangle: a+b+c\n",
    "a=int(input(\"value of a is \"))\n",
    "b=int(input(\"value of b is \"))\n",
    "c=int(input(\"value of c is \"))\n",
    "z=a+b+c\n",
    "print(\"Perimeter of a triangle is \",z)"
   ]
  },
  {
   "cell_type": "code",
   "execution_count": 18,
   "id": "aa24cd79",
   "metadata": {},
   "outputs": [
    {
     "name": "stdout",
     "output_type": "stream",
     "text": [
      "value of x1 is 2\n",
      "value of x2 is 4\n",
      "value of y1 is 6\n",
      "value of y2 is 16\n",
      "Slope of a line 5.0\n"
     ]
    }
   ],
   "source": [
    "#Slope of a line: y2-y1/x2-x1\n",
    "x1=int(input(\"value of x1 is \"))\n",
    "x2=int(input(\"value of x2 is \"))\n",
    "y1=int(input(\"value of y1 is \"))\n",
    "y2=int(input(\"value of y2 is \"))\n",
    "z=(y2-y1)/(x2-x1)\n",
    "print(\"Slope of a line\",z)"
   ]
  },
  {
   "cell_type": "code",
   "execution_count": 21,
   "id": "f6e1a33e",
   "metadata": {},
   "outputs": [
    {
     "name": "stdout",
     "output_type": "stream",
     "text": [
      "value of m is 4\n",
      "value of a is 3\n",
      "Force is  12\n"
     ]
    }
   ],
   "source": [
    "#Newton's Second Law : F=MA\n",
    "m=int(input(\"value of m is \"))\n",
    "a=int(input(\"value of a is \"))\n",
    "F=m*a\n",
    "print(\"Force is \",F)"
   ]
  },
  {
   "cell_type": "code",
   "execution_count": null,
   "id": "7def1f19",
   "metadata": {},
   "outputs": [],
   "source": []
  }
 ],
 "metadata": {
  "kernelspec": {
   "display_name": "Python 3 (ipykernel)",
   "language": "python",
   "name": "python3"
  },
  "language_info": {
   "codemirror_mode": {
    "name": "ipython",
    "version": 3
   },
   "file_extension": ".py",
   "mimetype": "text/x-python",
   "name": "python",
   "nbconvert_exporter": "python",
   "pygments_lexer": "ipython3",
   "version": "3.9.7"
  }
 },
 "nbformat": 4,
 "nbformat_minor": 5
}
