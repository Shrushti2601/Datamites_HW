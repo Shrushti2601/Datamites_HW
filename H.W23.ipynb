{
 "cells": [
  {
   "cell_type": "markdown",
   "id": "cc3853f3",
   "metadata": {},
   "source": [
    "11)Write a Python program which accepts a sequence of comma-separated numbers from user and generate a list and a \n",
    "tuple with those numbers"
   ]
  },
  {
   "cell_type": "code",
   "execution_count": null,
   "id": "c02b238e",
   "metadata": {},
   "outputs": [],
   "source": []
  },
  {
   "cell_type": "markdown",
   "id": "9d55cb50",
   "metadata": {},
   "source": [
    "12) Write a Python program to display the first and last colors from the following list.\n",
    "color_list = [\"Red\",\"Green\",\"White\" ,\"Black\"]"
   ]
  },
  {
   "cell_type": "code",
   "execution_count": 1,
   "id": "cb6212d1",
   "metadata": {},
   "outputs": [
    {
     "name": "stdout",
     "output_type": "stream",
     "text": [
      "Red\n",
      "Black\n"
     ]
    }
   ],
   "source": [
    "color_list = [\"Red\",\"Green\",\"White\" ,\"Black\"]\n",
    "print(color_list[0])\n",
    "print(color_list [-1])"
   ]
  },
  {
   "cell_type": "markdown",
   "id": "a4e04b32",
   "metadata": {},
   "source": [
    "13)Write a Python program to calculate number of days between two dates.\n",
    "Sample dates : (2014, 7, 2), (2014, 7, 11)"
   ]
  },
  {
   "cell_type": "code",
   "execution_count": null,
   "id": "71d3a1ad",
   "metadata": {},
   "outputs": [],
   "source": []
  },
  {
   "cell_type": "markdown",
   "id": "8b16f4aa",
   "metadata": {},
   "source": [
    "14)Write a Python program to get the difference between a given number and 17,\n",
    "if the number is greater than 17 return double the absolute difference"
   ]
  },
  {
   "cell_type": "code",
   "execution_count": 2,
   "id": "9b957441",
   "metadata": {},
   "outputs": [],
   "source": [
    "def difference_from_seventeen(number):\n",
    "    difference = abs(number - 17)\n",
    "    \n",
    "    if number > 17:\n",
    "        return 2 * difference\n",
    "    else:\n",
    "        return difference\n",
    "\n",
    "\n",
    "  \n"
   ]
  },
  {
   "cell_type": "code",
   "execution_count": 5,
   "id": "d3661452",
   "metadata": {},
   "outputs": [
    {
     "name": "stdout",
     "output_type": "stream",
     "text": [
      "Enter a number: 16\n",
      "Result: 1.0\n"
     ]
    }
   ],
   "source": [
    "number = float(input(\"Enter a number: \"))\n",
    "result = difference_from_seventeen(number)\n",
    "    \n",
    "print(\"Result:\", result)"
   ]
  },
  {
   "cell_type": "markdown",
   "id": "f834dbdf",
   "metadata": {},
   "source": [
    "15)To check whather given element exists in list or not??\n",
    "list=[1,2,3,4,5,6,7,8,9,10]\n",
    "check if 9 and 12 are present in given list or not"
   ]
  },
  {
   "cell_type": "code",
   "execution_count": 6,
   "id": "d2779d10",
   "metadata": {},
   "outputs": [
    {
     "data": {
      "text/plain": [
       "True"
      ]
     },
     "execution_count": 6,
     "metadata": {},
     "output_type": "execute_result"
    }
   ],
   "source": [
    "list=[1,2,3,4,5,6,7,8,9,10]\n",
    "9 in list\n"
   ]
  },
  {
   "cell_type": "code",
   "execution_count": 7,
   "id": "05c9eb6c",
   "metadata": {},
   "outputs": [
    {
     "data": {
      "text/plain": [
       "False"
      ]
     },
     "execution_count": 7,
     "metadata": {},
     "output_type": "execute_result"
    }
   ],
   "source": [
    "12 in list "
   ]
  },
  {
   "cell_type": "markdown",
   "id": "7b2bf5e4",
   "metadata": {},
   "source": [
    "16)Write a function calculation() such that it can accept two variables and calculate the addition and subtraction of it.\n",
    "And also it must return both addition and subtraction in a single return call"
   ]
  },
  {
   "cell_type": "code",
   "execution_count": 8,
   "id": "f2d76d20",
   "metadata": {},
   "outputs": [],
   "source": [
    "def calculation(a,b):\n",
    "    add=a+b\n",
    "    sub=a-b\n",
    "    res=(add,sub)\n",
    "    return res"
   ]
  },
  {
   "cell_type": "code",
   "execution_count": 9,
   "id": "a28889a1",
   "metadata": {},
   "outputs": [
    {
     "data": {
      "text/plain": [
       "(8, 2)"
      ]
     },
     "execution_count": 9,
     "metadata": {},
     "output_type": "execute_result"
    }
   ],
   "source": [
    "calculation(5,3)"
   ]
  },
  {
   "cell_type": "markdown",
   "id": "c4bd208b",
   "metadata": {},
   "source": [
    "17)Create a function showEmployee() in such a way that it should accept employee name, and it’s salary and display both,\n",
    "and if the salary is missing in function call it should show it as 9000"
   ]
  },
  {
   "cell_type": "code",
   "execution_count": 11,
   "id": "9864653b",
   "metadata": {},
   "outputs": [],
   "source": [
    "def Employee():\n",
    "    emp_name=input(\"enter name\")\n",
    "    emp_salary=int(input(\"enter salary\"))\n",
    "    print(emp_name)\n",
    "    print(emp_salary)"
   ]
  },
  {
   "cell_type": "code",
   "execution_count": 12,
   "id": "12fdeace",
   "metadata": {},
   "outputs": [
    {
     "name": "stdout",
     "output_type": "stream",
     "text": [
      "enter nameshrushti\n",
      "enter salary80000\n",
      "shrushti\n",
      "80000\n"
     ]
    }
   ],
   "source": [
    "Employee()"
   ]
  },
  {
   "cell_type": "markdown",
   "id": "d50b10bd",
   "metadata": {},
   "source": [
    "18) Write a recursive function to calculate the sum of numbers from 0 to 10"
   ]
  },
  {
   "cell_type": "code",
   "execution_count": 13,
   "id": "c3696679",
   "metadata": {},
   "outputs": [],
   "source": [
    "def recursive_sum(n):\n",
    "    if n == 0:\n",
    "        return 0\n",
    "    else:\n",
    "        return n + recursive_sum(n - 1)\n",
    "\n"
   ]
  },
  {
   "cell_type": "code",
   "execution_count": 14,
   "id": "96b0d428",
   "metadata": {},
   "outputs": [
    {
     "name": "stdout",
     "output_type": "stream",
     "text": [
      "Sum of numbers from 0 to 10: 55\n"
     ]
    }
   ],
   "source": [
    "\n",
    "\n",
    "result = recursive_sum(10)\n",
    "print(\"Sum of numbers from 0 to 10:\", result)\n",
    "\n"
   ]
  },
  {
   "cell_type": "markdown",
   "id": "e9e91f60",
   "metadata": {},
   "source": [
    "19)Generate a Python list of all the even numbers between 4 to 30"
   ]
  },
  {
   "cell_type": "code",
   "execution_count": 16,
   "id": "93796946",
   "metadata": {},
   "outputs": [],
   "source": [
    "l=[]\n",
    "for i in range(4,31):\n",
    "  \n",
    "    if i%2==0:\n",
    "        l.append(i)\n",
    "        "
   ]
  },
  {
   "cell_type": "code",
   "execution_count": 17,
   "id": "cb2aa5fa",
   "metadata": {},
   "outputs": [
    {
     "name": "stdout",
     "output_type": "stream",
     "text": [
      "[4, 6, 8, 10, 12, 14, 16, 18, 20, 22, 24, 26, 28, 30]\n"
     ]
    }
   ],
   "source": [
    "print(l)"
   ]
  },
  {
   "cell_type": "markdown",
   "id": "47cefd73",
   "metadata": {},
   "source": [
    "20)Return the largest item from the given list"
   ]
  },
  {
   "cell_type": "code",
   "execution_count": 24,
   "id": "6ae89c17",
   "metadata": {},
   "outputs": [],
   "source": [
    "def largest(l):\n",
    "    largest=max(l)\n",
    "    print(largest)"
   ]
  },
  {
   "cell_type": "code",
   "execution_count": 25,
   "id": "b1b323d7",
   "metadata": {},
   "outputs": [
    {
     "name": "stdout",
     "output_type": "stream",
     "text": [
      "4\n"
     ]
    }
   ],
   "source": [
    "l=[1,2,3,4]\n",
    "largest(l)"
   ]
  },
  {
   "cell_type": "code",
   "execution_count": null,
   "id": "c3716386",
   "metadata": {},
   "outputs": [],
   "source": []
  }
 ],
 "metadata": {
  "kernelspec": {
   "display_name": "Python 3 (ipykernel)",
   "language": "python",
   "name": "python3"
  },
  "language_info": {
   "codemirror_mode": {
    "name": "ipython",
    "version": 3
   },
   "file_extension": ".py",
   "mimetype": "text/x-python",
   "name": "python",
   "nbconvert_exporter": "python",
   "pygments_lexer": "ipython3",
   "version": "3.9.7"
  }
 },
 "nbformat": 4,
 "nbformat_minor": 5
}
