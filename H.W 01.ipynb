{
 "cells": [
  {
   "cell_type": "code",
   "execution_count": 17,
   "id": "8d466b36",
   "metadata": {},
   "outputs": [
    {
     "name": "stdout",
     "output_type": "stream",
     "text": [
      "value of a is : 4\n",
      "Perimeter of square is  16\n"
     ]
    }
   ],
   "source": [
    "# perimeter of square\n",
    "a=int(input(\"value of a is : \"))\n",
    "p= 4*a\n",
    "print(\"Perimeter of square is \",p)"
   ]
  },
  {
   "cell_type": "code",
   "execution_count": 18,
   "id": "9ab033b3",
   "metadata": {},
   "outputs": [
    {
     "name": "stdout",
     "output_type": "stream",
     "text": [
      "value of r2\n",
      "Circumference of Circle : 12.56\n"
     ]
    }
   ],
   "source": [
    "#Circumference of Circle\n",
    "r=int(input(\"value of r\"))\n",
    "c=2*3.14*r\n",
    "print(\"Circumference of Circle :\",c)"
   ]
  },
  {
   "cell_type": "code",
   "execution_count": 13,
   "id": "eb06a208",
   "metadata": {},
   "outputs": [
    {
     "name": "stdout",
     "output_type": "stream",
     "text": [
      "enter value of r 2\n",
      "enter value of h 3\n",
      "volume of cone is  12.559999999999999\n"
     ]
    }
   ],
   "source": [
    "#Volume of a Cone = V = ⅓ × πr2h\n",
    "r=int(input(\"enter value of r \"))\n",
    "h=int(input(\"enter value of h \"))\n",
    "v= (1/3 )*3.14*r*r*h\n",
    "print(\"volume of cone is \",(v))"
   ]
  },
  {
   "cell_type": "code",
   "execution_count": 14,
   "id": "abbd1620",
   "metadata": {},
   "outputs": [
    {
     "name": "stdout",
     "output_type": "stream",
     "text": [
      "value of r 3\n",
      "Volume of a Sphere  12.559999999999999\n"
     ]
    }
   ],
   "source": [
    "#Volume of a Sphere = V = 4/3 × πr\n",
    "r=int(input(\"value of r \"))\n",
    "v= (4/3)*3.14*r\n",
    "print(\"Volume of a Sphere \",v)"
   ]
  },
  {
   "cell_type": "code",
   "execution_count": 21,
   "id": "1fa900e1",
   "metadata": {},
   "outputs": [
    {
     "name": "stdout",
     "output_type": "stream",
     "text": [
      "enter value of a 4\n",
      "enter value of b 3\n",
      "5.0\n"
     ]
    }
   ],
   "source": [
    "#Pythagorean Theorem\n",
    "import math\n",
    "a=int(input(\"enter value of a \"))\n",
    "b=int(input(\"enter value of b \"))\n",
    "c= math.sqrt(a**2+b**2)\n",
    "print(c)"
   ]
  },
  {
   "cell_type": "code",
   "execution_count": 22,
   "id": "fa626851",
   "metadata": {},
   "outputs": [
    {
     "name": "stdout",
     "output_type": "stream",
     "text": [
      "enter value of x1 1\n",
      "enter value of x2 2\n",
      "enter value of y1 3\n",
      "enter value of y2 4\n",
      "1.4142135623730951\n"
     ]
    }
   ],
   "source": [
    "#Distance Formula\n",
    "x1=int(input(\"enter value of x1 \"))\n",
    "x2=int(input(\"enter value of x2 \"))\n",
    "y1=int(input(\"enter value of y1 \"))\n",
    "y2=int(input(\"enter value of y2 \"))\n",
    "c=math.sqrt((x2-x1)**2 + (y2-y1)**2)\n",
    "print(c)"
   ]
  },
  {
   "cell_type": "code",
   "execution_count": 24,
   "id": "cc807e22",
   "metadata": {},
   "outputs": [
    {
     "name": "stdout",
     "output_type": "stream",
     "text": [
      "enter value of P 10\n",
      "enter value of R 20\n",
      "enter value of T 2\n",
      "4.0\n"
     ]
    }
   ],
   "source": [
    "#Simple Interest\n",
    "P=int(input(\"enter value of P \"))\n",
    "R=int(input(\"enter value of R \"))\n",
    "T=int(input(\"enter value of T \"))\n",
    "s=(P*R*T)/100\n",
    "print(s)"
   ]
  },
  {
   "cell_type": "code",
   "execution_count": 26,
   "id": "064e5b54",
   "metadata": {},
   "outputs": [
    {
     "name": "stdout",
     "output_type": "stream",
     "text": [
      "enter value of b 2\n",
      "enter value of h 4\n",
      "4.0\n"
     ]
    }
   ],
   "source": [
    "#Area of a Triangle\n",
    "b=int(input(\"enter value of b \"))\n",
    "h=int(input(\"enter value of h \"))\n",
    "a=(1/2)*(b*h)\n",
    "print(a)"
   ]
  },
  {
   "cell_type": "code",
   "execution_count": 28,
   "id": "bb5ae55e",
   "metadata": {},
   "outputs": [
    {
     "name": "stdout",
     "output_type": "stream",
     "text": [
      "enter value of distance 24\n",
      "enter value of speed 2\n",
      "12.0\n"
     ]
    }
   ],
   "source": [
    "#speed\n",
    "distance=int(input(\"enter value of distance \"))\n",
    "time=int(input(\"enter value of speed \"))\n",
    "speed=distance/time\n",
    "print(speed)"
   ]
  },
  {
   "cell_type": "code",
   "execution_count": 30,
   "id": "4de32eee",
   "metadata": {},
   "outputs": [
    {
     "name": "stdout",
     "output_type": "stream",
     "text": [
      "enter value of b1 2\n",
      "enter value of b2 2\n",
      "enter value of h 2\n",
      "4.0\n"
     ]
    }
   ],
   "source": [
    "#Area of a Trapezoid \n",
    "b1=int(input(\"enter value of b1 \"))\n",
    "b2=int(input(\"enter value of b2 \"))\n",
    "h=int(input(\"enter value of h \"))\n",
    "a=(1/2)*(b1+b2)*h\n",
    "print(a)"
   ]
  },
  {
   "cell_type": "code",
   "execution_count": null,
   "id": "9c7f97b9",
   "metadata": {},
   "outputs": [],
   "source": []
  }
 ],
 "metadata": {
  "kernelspec": {
   "display_name": "Python 3 (ipykernel)",
   "language": "python",
   "name": "python3"
  },
  "language_info": {
   "codemirror_mode": {
    "name": "ipython",
    "version": 3
   },
   "file_extension": ".py",
   "mimetype": "text/x-python",
   "name": "python",
   "nbconvert_exporter": "python",
   "pygments_lexer": "ipython3",
   "version": "3.9.7"
  }
 },
 "nbformat": 4,
 "nbformat_minor": 5
}
