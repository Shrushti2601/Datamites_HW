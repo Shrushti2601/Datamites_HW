{
 "cells": [
  {
   "cell_type": "code",
   "execution_count": 1,
   "id": "c1506360",
   "metadata": {},
   "outputs": [
    {
     "name": "stdout",
     "output_type": "stream",
     "text": [
      "orange\n",
      "white\n",
      "yellow\n",
      "sky blue\n",
      "olive\n",
      "bronze\n",
      "magenta\n"
     ]
    }
   ],
   "source": [
    "colors=('orange','white','yellow','sky blue','olive','bronze','magenta')\n",
    "for index in range(len(colors)):\n",
    "    print(colors[index])"
   ]
  },
  {
   "cell_type": "code",
   "execution_count": 2,
   "id": "06d448f9",
   "metadata": {},
   "outputs": [
    {
     "name": "stdout",
     "output_type": "stream",
     "text": [
      "orange\n",
      "white\n",
      "yellow\n",
      "sky blue\n",
      "olive\n",
      "bronze\n",
      "magenta\n"
     ]
    }
   ],
   "source": [
    "i=0\n",
    "while i<len(colors):\n",
    "    print(colors[i])\n",
    "    i+=1"
   ]
  },
  {
   "cell_type": "code",
   "execution_count": 3,
   "id": "1ce31170",
   "metadata": {},
   "outputs": [
    {
     "name": "stdout",
     "output_type": "stream",
     "text": [
      "[10, 20, (30, 40)]\n"
     ]
    }
   ],
   "source": [
    "a=[10,20,(30,40)] # 30&40 are tuple\n",
    "print(a)\n"
   ]
  },
  {
   "cell_type": "code",
   "execution_count": 4,
   "id": "dd0c5b84",
   "metadata": {},
   "outputs": [
    {
     "data": {
      "text/plain": [
       "list"
      ]
     },
     "execution_count": 4,
     "metadata": {},
     "output_type": "execute_result"
    }
   ],
   "source": [
    "type(a)"
   ]
  },
  {
   "cell_type": "code",
   "execution_count": 5,
   "id": "1c20276e",
   "metadata": {},
   "outputs": [
    {
     "data": {
      "text/plain": [
       "2651696425664"
      ]
     },
     "execution_count": 5,
     "metadata": {},
     "output_type": "execute_result"
    }
   ],
   "source": [
    "id(a)"
   ]
  },
  {
   "cell_type": "code",
   "execution_count": 6,
   "id": "a0d8c247",
   "metadata": {},
   "outputs": [
    {
     "name": "stdout",
     "output_type": "stream",
     "text": [
      "\n"
     ]
    }
   ],
   "source": [
    "print()"
   ]
  },
  {
   "cell_type": "code",
   "execution_count": 11,
   "id": "65d05971",
   "metadata": {},
   "outputs": [
    {
     "name": "stdout",
     "output_type": "stream",
     "text": [
      "[10, 20, (30, 40), (50, 60), (50, 60), (50, 60), (50, 60)]\n",
      "<class 'list'>\n",
      "2651696425664\n"
     ]
    }
   ],
   "source": [
    "a.append((50,60)) #adding tuple in list\n",
    "print(a)\n",
    "print(type(a))\n",
    "print(id(a))"
   ]
  },
  {
   "cell_type": "code",
   "execution_count": null,
   "id": "b86c51e4",
   "metadata": {},
   "outputs": [],
   "source": []
  }
 ],
 "metadata": {
  "kernelspec": {
   "display_name": "Python 3 (ipykernel)",
   "language": "python",
   "name": "python3"
  },
  "language_info": {
   "codemirror_mode": {
    "name": "ipython",
    "version": 3
   },
   "file_extension": ".py",
   "mimetype": "text/x-python",
   "name": "python",
   "nbconvert_exporter": "python",
   "pygments_lexer": "ipython3",
   "version": "3.9.7"
  }
 },
 "nbformat": 4,
 "nbformat_minor": 5
}
