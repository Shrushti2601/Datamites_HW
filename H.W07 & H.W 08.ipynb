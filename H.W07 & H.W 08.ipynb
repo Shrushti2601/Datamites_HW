{
 "cells": [
  {
   "cell_type": "markdown",
   "id": "b25a87b0",
   "metadata": {},
   "source": [
    "# list method\n"
   ]
  },
  {
   "cell_type": "code",
   "execution_count": 2,
   "id": "e2c35c52",
   "metadata": {},
   "outputs": [],
   "source": [
    "#1 append\n",
    "name=['shrushti','anand','sejal',['mumma','jyoti'],['papa','shaileshkumar'],'abhinav']"
   ]
  },
  {
   "cell_type": "code",
   "execution_count": 3,
   "id": "287b0d7a",
   "metadata": {},
   "outputs": [
    {
     "data": {
      "text/plain": [
       "['shrushti',\n",
       " 'anand',\n",
       " 'sejal',\n",
       " ['mumma', 'jyoti'],\n",
       " ['papa', 'shaileshkumar'],\n",
       " 'abhinav']"
      ]
     },
     "execution_count": 3,
     "metadata": {},
     "output_type": "execute_result"
    }
   ],
   "source": [
    "name"
   ]
  },
  {
   "cell_type": "code",
   "execution_count": 4,
   "id": "bb3106f3",
   "metadata": {},
   "outputs": [],
   "source": [
    "name.append('friends')"
   ]
  },
  {
   "cell_type": "code",
   "execution_count": 5,
   "id": "4c0f773e",
   "metadata": {},
   "outputs": [
    {
     "data": {
      "text/plain": [
       "['shrushti',\n",
       " 'anand',\n",
       " 'sejal',\n",
       " ['mumma', 'jyoti'],\n",
       " ['papa', 'shaileshkumar'],\n",
       " 'abhinav',\n",
       " 'friends']"
      ]
     },
     "execution_count": 5,
     "metadata": {},
     "output_type": "execute_result"
    }
   ],
   "source": [
    "name"
   ]
  },
  {
   "cell_type": "code",
   "execution_count": 6,
   "id": "c4a2d7ce",
   "metadata": {},
   "outputs": [],
   "source": [
    "copy_name=name.copy()"
   ]
  },
  {
   "cell_type": "code",
   "execution_count": 7,
   "id": "c021265e",
   "metadata": {},
   "outputs": [
    {
     "data": {
      "text/plain": [
       "['shrushti',\n",
       " 'anand',\n",
       " 'sejal',\n",
       " ['mumma', 'jyoti'],\n",
       " ['papa', 'shaileshkumar'],\n",
       " 'abhinav',\n",
       " 'friends']"
      ]
     },
     "execution_count": 7,
     "metadata": {},
     "output_type": "execute_result"
    }
   ],
   "source": [
    "copy_name"
   ]
  },
  {
   "cell_type": "code",
   "execution_count": 9,
   "id": "52bb069e",
   "metadata": {},
   "outputs": [],
   "source": [
    "copy_name.remove( ['mumma', 'jyoti'])"
   ]
  },
  {
   "cell_type": "code",
   "execution_count": 10,
   "id": "cd78287f",
   "metadata": {},
   "outputs": [
    {
     "data": {
      "text/plain": [
       "['shrushti', 'anand', 'sejal', ['papa', 'shaileshkumar'], 'abhinav', 'friends']"
      ]
     },
     "execution_count": 10,
     "metadata": {},
     "output_type": "execute_result"
    }
   ],
   "source": [
    "copy_name"
   ]
  },
  {
   "cell_type": "code",
   "execution_count": 11,
   "id": "511d923d",
   "metadata": {},
   "outputs": [
    {
     "data": {
      "text/plain": [
       "['shrushti',\n",
       " 'anand',\n",
       " 'sejal',\n",
       " ['mumma', 'jyoti'],\n",
       " ['papa', 'shaileshkumar'],\n",
       " 'abhinav',\n",
       " 'friends']"
      ]
     },
     "execution_count": 11,
     "metadata": {},
     "output_type": "execute_result"
    }
   ],
   "source": [
    "name"
   ]
  },
  {
   "cell_type": "code",
   "execution_count": 12,
   "id": "828f6bd5",
   "metadata": {},
   "outputs": [],
   "source": [
    "copy_name[3][1]='aai'"
   ]
  },
  {
   "cell_type": "code",
   "execution_count": 13,
   "id": "899c3c65",
   "metadata": {},
   "outputs": [
    {
     "data": {
      "text/plain": [
       "['shrushti', 'anand', 'sejal', ['papa', 'aai'], 'abhinav', 'friends']"
      ]
     },
     "execution_count": 13,
     "metadata": {},
     "output_type": "execute_result"
    }
   ],
   "source": [
    "copy_name"
   ]
  },
  {
   "cell_type": "code",
   "execution_count": 14,
   "id": "66e0261b",
   "metadata": {},
   "outputs": [],
   "source": [
    "copy_name[3][1]='mumma'"
   ]
  },
  {
   "cell_type": "code",
   "execution_count": 15,
   "id": "a999431b",
   "metadata": {},
   "outputs": [
    {
     "data": {
      "text/plain": [
       "['shrushti', 'anand', 'sejal', ['papa', 'mumma'], 'abhinav', 'friends']"
      ]
     },
     "execution_count": 15,
     "metadata": {},
     "output_type": "execute_result"
    }
   ],
   "source": [
    "copy_name"
   ]
  },
  {
   "cell_type": "code",
   "execution_count": 16,
   "id": "a26fc15e",
   "metadata": {},
   "outputs": [
    {
     "data": {
      "text/plain": [
       "['shrushti',\n",
       " 'anand',\n",
       " 'sejal',\n",
       " ['mumma', 'jyoti'],\n",
       " ['papa', 'mumma'],\n",
       " 'abhinav',\n",
       " 'friends']"
      ]
     },
     "execution_count": 16,
     "metadata": {},
     "output_type": "execute_result"
    }
   ],
   "source": [
    "name"
   ]
  },
  {
   "cell_type": "code",
   "execution_count": 18,
   "id": "0100c6ea",
   "metadata": {},
   "outputs": [
    {
     "data": {
      "text/plain": [
       "1"
      ]
     },
     "execution_count": 18,
     "metadata": {},
     "output_type": "execute_result"
    }
   ],
   "source": [
    "name.count('abhinav')"
   ]
  },
  {
   "cell_type": "code",
   "execution_count": 20,
   "id": "0986119d",
   "metadata": {},
   "outputs": [],
   "source": [
    "name.append('abhinav')"
   ]
  },
  {
   "cell_type": "code",
   "execution_count": 21,
   "id": "1e02e5fd",
   "metadata": {},
   "outputs": [
    {
     "data": {
      "text/plain": [
       "['shrushti',\n",
       " 'anand',\n",
       " 'sejal',\n",
       " ['mumma', 'jyoti'],\n",
       " ['papa', 'mumma'],\n",
       " 'abhinav',\n",
       " 'friends',\n",
       " 'abhinav']"
      ]
     },
     "execution_count": 21,
     "metadata": {},
     "output_type": "execute_result"
    }
   ],
   "source": [
    "name"
   ]
  },
  {
   "cell_type": "code",
   "execution_count": 29,
   "id": "cf0fe06a",
   "metadata": {},
   "outputs": [
    {
     "data": {
      "text/plain": [
       "2"
      ]
     },
     "execution_count": 29,
     "metadata": {},
     "output_type": "execute_result"
    }
   ],
   "source": [
    "name.count('abhinav')"
   ]
  },
  {
   "cell_type": "code",
   "execution_count": 30,
   "id": "166b7728",
   "metadata": {},
   "outputs": [],
   "source": [
    "frd=['andya','sutti','arya','sejuu','srujan']"
   ]
  },
  {
   "cell_type": "code",
   "execution_count": 31,
   "id": "c14bdeec",
   "metadata": {},
   "outputs": [],
   "source": [
    "frd.extend(copy_name)"
   ]
  },
  {
   "cell_type": "code",
   "execution_count": 32,
   "id": "4eff0e52",
   "metadata": {},
   "outputs": [
    {
     "data": {
      "text/plain": [
       "['andya',\n",
       " 'sutti',\n",
       " 'arya',\n",
       " 'sejuu',\n",
       " 'srujan',\n",
       " 'shrushti',\n",
       " 'anand',\n",
       " 'sejal',\n",
       " ['papa', 'mumma'],\n",
       " 'abhinav',\n",
       " 'friends']"
      ]
     },
     "execution_count": 32,
     "metadata": {},
     "output_type": "execute_result"
    }
   ],
   "source": [
    "frd"
   ]
  },
  {
   "cell_type": "code",
   "execution_count": 33,
   "id": "db5cfb30",
   "metadata": {},
   "outputs": [
    {
     "data": {
      "text/plain": [
       "'mumma'"
      ]
     },
     "execution_count": 33,
     "metadata": {},
     "output_type": "execute_result"
    }
   ],
   "source": [
    "frd[8][1]  #papa is at [8][0] place & mumma is at [8][1] place"
   ]
  },
  {
   "cell_type": "code",
   "execution_count": 35,
   "id": "e0372aa9",
   "metadata": {},
   "outputs": [
    {
     "data": {
      "text/plain": [
       "0"
      ]
     },
     "execution_count": 35,
     "metadata": {},
     "output_type": "execute_result"
    }
   ],
   "source": [
    "frd.index('andya')"
   ]
  },
  {
   "cell_type": "code",
   "execution_count": 36,
   "id": "7441a0a7",
   "metadata": {},
   "outputs": [],
   "source": [
    "frd.insert(1,'abhinav')"
   ]
  },
  {
   "cell_type": "code",
   "execution_count": 37,
   "id": "a9d2bdf8",
   "metadata": {},
   "outputs": [
    {
     "data": {
      "text/plain": [
       "['andya',\n",
       " 'abhinav',\n",
       " 'sutti',\n",
       " 'arya',\n",
       " 'sejuu',\n",
       " 'srujan',\n",
       " 'shrushti',\n",
       " 'anand',\n",
       " 'sejal',\n",
       " ['papa', 'mumma'],\n",
       " 'abhinav',\n",
       " 'friends']"
      ]
     },
     "execution_count": 37,
     "metadata": {},
     "output_type": "execute_result"
    }
   ],
   "source": [
    "frd"
   ]
  },
  {
   "cell_type": "code",
   "execution_count": 38,
   "id": "4853b966",
   "metadata": {},
   "outputs": [],
   "source": [
    "frd.insert(0,'friends')"
   ]
  },
  {
   "cell_type": "code",
   "execution_count": 39,
   "id": "8a33cd85",
   "metadata": {},
   "outputs": [
    {
     "data": {
      "text/plain": [
       "['friends',\n",
       " 'andya',\n",
       " 'abhinav',\n",
       " 'sutti',\n",
       " 'arya',\n",
       " 'sejuu',\n",
       " 'srujan',\n",
       " 'shrushti',\n",
       " 'anand',\n",
       " 'sejal',\n",
       " ['papa', 'mumma'],\n",
       " 'abhinav',\n",
       " 'friends']"
      ]
     },
     "execution_count": 39,
     "metadata": {},
     "output_type": "execute_result"
    }
   ],
   "source": [
    "frd"
   ]
  },
  {
   "cell_type": "code",
   "execution_count": 40,
   "id": "2b1c6531",
   "metadata": {},
   "outputs": [
    {
     "data": {
      "text/plain": [
       "'friends'"
      ]
     },
     "execution_count": 40,
     "metadata": {},
     "output_type": "execute_result"
    }
   ],
   "source": [
    "frd.pop()"
   ]
  },
  {
   "cell_type": "code",
   "execution_count": 41,
   "id": "8804413e",
   "metadata": {},
   "outputs": [
    {
     "data": {
      "text/plain": [
       "['friends',\n",
       " 'andya',\n",
       " 'abhinav',\n",
       " 'sutti',\n",
       " 'arya',\n",
       " 'sejuu',\n",
       " 'srujan',\n",
       " 'shrushti',\n",
       " 'anand',\n",
       " 'sejal',\n",
       " ['papa', 'mumma'],\n",
       " 'abhinav']"
      ]
     },
     "execution_count": 41,
     "metadata": {},
     "output_type": "execute_result"
    }
   ],
   "source": [
    "frd"
   ]
  },
  {
   "cell_type": "code",
   "execution_count": 42,
   "id": "a597e396",
   "metadata": {},
   "outputs": [
    {
     "data": {
      "text/plain": [
       "2"
      ]
     },
     "execution_count": 42,
     "metadata": {},
     "output_type": "execute_result"
    }
   ],
   "source": [
    "name.count('abhinav')"
   ]
  },
  {
   "cell_type": "code",
   "execution_count": 43,
   "id": "7662c997",
   "metadata": {},
   "outputs": [
    {
     "data": {
      "text/plain": [
       "2"
      ]
     },
     "execution_count": 43,
     "metadata": {},
     "output_type": "execute_result"
    }
   ],
   "source": [
    "frd.index('abhinav')"
   ]
  },
  {
   "cell_type": "code",
   "execution_count": 44,
   "id": "75d7389a",
   "metadata": {},
   "outputs": [],
   "source": [
    "frd.remove('sejal')"
   ]
  },
  {
   "cell_type": "code",
   "execution_count": 45,
   "id": "6e434a6d",
   "metadata": {},
   "outputs": [
    {
     "data": {
      "text/plain": [
       "['friends',\n",
       " 'andya',\n",
       " 'abhinav',\n",
       " 'sutti',\n",
       " 'arya',\n",
       " 'sejuu',\n",
       " 'srujan',\n",
       " 'shrushti',\n",
       " 'anand',\n",
       " ['papa', 'mumma'],\n",
       " 'abhinav']"
      ]
     },
     "execution_count": 45,
     "metadata": {},
     "output_type": "execute_result"
    }
   ],
   "source": [
    "frd"
   ]
  },
  {
   "cell_type": "code",
   "execution_count": 48,
   "id": "4ba5a74c",
   "metadata": {},
   "outputs": [],
   "source": [
    "del frd[10]"
   ]
  },
  {
   "cell_type": "code",
   "execution_count": 49,
   "id": "dec5a58c",
   "metadata": {},
   "outputs": [
    {
     "data": {
      "text/plain": [
       "['friends',\n",
       " 'andya',\n",
       " 'abhinav',\n",
       " 'sutti',\n",
       " 'arya',\n",
       " 'sejuu',\n",
       " 'srujan',\n",
       " 'shrushti',\n",
       " 'anand',\n",
       " ['papa', 'mumma']]"
      ]
     },
     "execution_count": 49,
     "metadata": {},
     "output_type": "execute_result"
    }
   ],
   "source": [
    "frd"
   ]
  },
  {
   "cell_type": "code",
   "execution_count": 51,
   "id": "21c68782",
   "metadata": {},
   "outputs": [],
   "source": [
    "frd.sort(key=lambda name: len(name))"
   ]
  },
  {
   "cell_type": "code",
   "execution_count": 52,
   "id": "d688ee9e",
   "metadata": {},
   "outputs": [
    {
     "data": {
      "text/plain": [
       "[['papa', 'mumma'],\n",
       " 'arya',\n",
       " 'andya',\n",
       " 'sutti',\n",
       " 'sejuu',\n",
       " 'anand',\n",
       " 'srujan',\n",
       " 'friends',\n",
       " 'abhinav',\n",
       " 'shrushti']"
      ]
     },
     "execution_count": 52,
     "metadata": {},
     "output_type": "execute_result"
    }
   ],
   "source": [
    "frd"
   ]
  },
  {
   "cell_type": "code",
   "execution_count": 53,
   "id": "43b6ddf9",
   "metadata": {},
   "outputs": [
    {
     "data": {
      "text/plain": [
       "10"
      ]
     },
     "execution_count": 53,
     "metadata": {},
     "output_type": "execute_result"
    }
   ],
   "source": [
    "len(frd)"
   ]
  },
  {
   "cell_type": "code",
   "execution_count": 54,
   "id": "a16cdc0e",
   "metadata": {},
   "outputs": [],
   "source": [
    "frd.reverse()"
   ]
  },
  {
   "cell_type": "code",
   "execution_count": 55,
   "id": "24e5aa7a",
   "metadata": {},
   "outputs": [
    {
     "data": {
      "text/plain": [
       "['shrushti',\n",
       " 'abhinav',\n",
       " 'friends',\n",
       " 'srujan',\n",
       " 'anand',\n",
       " 'sejuu',\n",
       " 'sutti',\n",
       " 'andya',\n",
       " 'arya',\n",
       " ['papa', 'mumma']]"
      ]
     },
     "execution_count": 55,
     "metadata": {},
     "output_type": "execute_result"
    }
   ],
   "source": [
    "frd"
   ]
  },
  {
   "cell_type": "code",
   "execution_count": 56,
   "id": "40f78542",
   "metadata": {},
   "outputs": [],
   "source": [
    "#at last clear\n",
    "copy_name.clear()"
   ]
  },
  {
   "cell_type": "code",
   "execution_count": 57,
   "id": "ebffb08c",
   "metadata": {},
   "outputs": [
    {
     "data": {
      "text/plain": [
       "[]"
      ]
     },
     "execution_count": 57,
     "metadata": {},
     "output_type": "execute_result"
    }
   ],
   "source": [
    "copy_name"
   ]
  },
  {
   "cell_type": "code",
   "execution_count": null,
   "id": "e845be55",
   "metadata": {},
   "outputs": [],
   "source": []
  }
 ],
 "metadata": {
  "kernelspec": {
   "display_name": "Python 3 (ipykernel)",
   "language": "python",
   "name": "python3"
  },
  "language_info": {
   "codemirror_mode": {
    "name": "ipython",
    "version": 3
   },
   "file_extension": ".py",
   "mimetype": "text/x-python",
   "name": "python",
   "nbconvert_exporter": "python",
   "pygments_lexer": "ipython3",
   "version": "3.9.7"
  }
 },
 "nbformat": 4,
 "nbformat_minor": 5
}
