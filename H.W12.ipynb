{
 "cells": [
  {
   "cell_type": "code",
   "execution_count": 1,
   "id": "9ab5d22e",
   "metadata": {},
   "outputs": [],
   "source": [
    "#even  & odd (case 2)\n",
    "def check():\n",
    "    num=int(input(\"enter number\"))\n",
    "    if num%2==0:\n",
    "        print(\"even\")\n",
    "    else:\n",
    "        print(\"odd\")\n"
   ]
  },
  {
   "cell_type": "code",
   "execution_count": 2,
   "id": "c3fa1130",
   "metadata": {},
   "outputs": [
    {
     "name": "stdout",
     "output_type": "stream",
     "text": [
      "enter number6\n",
      "even\n"
     ]
    }
   ],
   "source": [
    "check()"
   ]
  },
  {
   "cell_type": "code",
   "execution_count": 5,
   "id": "5ef0fc74",
   "metadata": {},
   "outputs": [],
   "source": [
    "#even  & odd (Case 2)\n",
    "def check(a):\n",
    "   \n",
    "    if a%2==0:\n",
    "        print(\"even\")\n",
    "    else:\n",
    "        print(\"odd\")\n"
   ]
  },
  {
   "cell_type": "code",
   "execution_count": 6,
   "id": "b5e17143",
   "metadata": {},
   "outputs": [
    {
     "name": "stdout",
     "output_type": "stream",
     "text": [
      "enter number 9\n",
      "odd\n"
     ]
    }
   ],
   "source": [
    "a=int(input(\"enter number \"))\n",
    "check(a)"
   ]
  },
  {
   "cell_type": "code",
   "execution_count": 12,
   "id": "d115529d",
   "metadata": {},
   "outputs": [],
   "source": [
    "#case 1\n",
    "def check_num():\n",
    "    num=int(input(\"enter number\"))\n",
    "    if num>0:\n",
    "        print(\"positive\")\n",
    "    elif num==0:\n",
    "        print(\"number is equal to zero\")\n",
    "    else:\n",
    "        print(\"number is negative\")"
   ]
  },
  {
   "cell_type": "code",
   "execution_count": 13,
   "id": "41dac49b",
   "metadata": {},
   "outputs": [
    {
     "name": "stdout",
     "output_type": "stream",
     "text": [
      "enter number-10\n",
      "number is negative\n"
     ]
    }
   ],
   "source": [
    "check_num()"
   ]
  },
  {
   "cell_type": "code",
   "execution_count": 14,
   "id": "0c4f6a34",
   "metadata": {},
   "outputs": [],
   "source": [
    "#case 2\n",
    "def check_num(num):\n",
    "   \n",
    "    if num>0:\n",
    "        print(\"positive\")\n",
    "    elif num==0:\n",
    "        print(\"number is equal to zero\")\n",
    "    else:\n",
    "        print(\"number is negative\")"
   ]
  },
  {
   "cell_type": "code",
   "execution_count": 16,
   "id": "61d1ba49",
   "metadata": {},
   "outputs": [
    {
     "name": "stdout",
     "output_type": "stream",
     "text": [
      "enter number10\n",
      "positive\n"
     ]
    }
   ],
   "source": [
    " num=int(input(\"enter number\"))\n",
    "check_num(num)"
   ]
  },
  {
   "cell_type": "code",
   "execution_count": 21,
   "id": "414851da",
   "metadata": {},
   "outputs": [],
   "source": [
    "def fact(n):\n",
    "    res=1\n",
    "    for i in range(1,n+1):\n",
    "        res*=i\n",
    "    print(res)"
   ]
  },
  {
   "cell_type": "code",
   "execution_count": 22,
   "id": "fa68bc02",
   "metadata": {},
   "outputs": [
    {
     "name": "stdout",
     "output_type": "stream",
     "text": [
      "120\n"
     ]
    }
   ],
   "source": [
    "n=5\n",
    "fact(n)"
   ]
  },
  {
   "cell_type": "code",
   "execution_count": 23,
   "id": "c88b8ec9",
   "metadata": {},
   "outputs": [],
   "source": [
    "def fact():\n",
    "    n=5\n",
    "    res=1\n",
    "    for i in range(1,n+1):\n",
    "        res*=i\n",
    "    print(res)\n",
    "    "
   ]
  },
  {
   "cell_type": "code",
   "execution_count": 24,
   "id": "7ccecb35",
   "metadata": {},
   "outputs": [
    {
     "name": "stdout",
     "output_type": "stream",
     "text": [
      "120\n"
     ]
    }
   ],
   "source": [
    "fact()"
   ]
  },
  {
   "cell_type": "code",
   "execution_count": 25,
   "id": "2b2bc457",
   "metadata": {},
   "outputs": [],
   "source": [
    "def fibonacci(n):\n",
    "    a, b = 0, 1\n",
    "    for _ in range(n):\n",
    "        print(a, end=\" \")\n",
    "        a, b = b, a + b\n",
    "    print() \n",
    "\n"
   ]
  },
  {
   "cell_type": "code",
   "execution_count": 30,
   "id": "59168427",
   "metadata": {},
   "outputs": [
    {
     "name": "stdout",
     "output_type": "stream",
     "text": [
      "The first 10 Fibonacci numbers are: 0 1 1 2 3 5 8 13 21 34 \n"
     ]
    }
   ],
   "source": [
    "fib_terms = 10\n",
    "print(f\"The first {fib_terms} Fibonacci numbers are:\", end=\" \")\n",
    "fibonacci(fib_terms)\n"
   ]
  },
  {
   "cell_type": "code",
   "execution_count": 31,
   "id": "079debd7",
   "metadata": {},
   "outputs": [],
   "source": [
    "def fibonacci():\n",
    "    n=10\n",
    "    a, b = 0, 1\n",
    "    for _ in range(n):\n",
    "        print(a, end=\" \")\n",
    "        a, b = b, a + b\n",
    "    print() "
   ]
  },
  {
   "cell_type": "code",
   "execution_count": 32,
   "id": "55577356",
   "metadata": {},
   "outputs": [
    {
     "name": "stdout",
     "output_type": "stream",
     "text": [
      "The first 10 Fibonacci numbers are: 0 1 1 2 3 5 8 13 21 34 \n"
     ]
    }
   ],
   "source": [
    "\n",
    "print(f\"The first {fib_terms} Fibonacci numbers are:\", end=\" \")\n",
    "fibonacci()"
   ]
  },
  {
   "cell_type": "code",
   "execution_count": 33,
   "id": "429a01bb",
   "metadata": {},
   "outputs": [],
   "source": [
    "def sum(n):\n",
    "    \n",
    "    sum_total = 0\n",
    "    i = 1\n",
    "    while i <= n:\n",
    "        sum_total += i\n",
    "        i += 1\n",
    "    print(f\"The sum of natural numbers up to {n} is: {sum_total}\")\n",
    "\n",
    "\n",
    "\n"
   ]
  },
  {
   "cell_type": "code",
   "execution_count": 35,
   "id": "b3381411",
   "metadata": {},
   "outputs": [
    {
     "name": "stdout",
     "output_type": "stream",
     "text": [
      "The sum of natural numbers up to 5 is: 15\n"
     ]
    }
   ],
   "source": [
    "sum(5)"
   ]
  },
  {
   "cell_type": "code",
   "execution_count": 36,
   "id": "750392d6",
   "metadata": {},
   "outputs": [],
   "source": [
    "def sum():\n",
    "    n=5\n",
    "    \n",
    "    sum_total = 0\n",
    "    i = 1\n",
    "    while i <= n:\n",
    "        sum_total += i\n",
    "        i += 1\n",
    "    print(f\"The sum of natural numbers up to {n} is: {sum_total}\")"
   ]
  },
  {
   "cell_type": "code",
   "execution_count": 37,
   "id": "e5a9e148",
   "metadata": {},
   "outputs": [
    {
     "name": "stdout",
     "output_type": "stream",
     "text": [
      "The sum of natural numbers up to 5 is: 15\n"
     ]
    }
   ],
   "source": [
    "sum()"
   ]
  },
  {
   "cell_type": "code",
   "execution_count": null,
   "id": "4e75da4d",
   "metadata": {},
   "outputs": [],
   "source": []
  }
 ],
 "metadata": {
  "kernelspec": {
   "display_name": "Python 3 (ipykernel)",
   "language": "python",
   "name": "python3"
  },
  "language_info": {
   "codemirror_mode": {
    "name": "ipython",
    "version": 3
   },
   "file_extension": ".py",
   "mimetype": "text/x-python",
   "name": "python",
   "nbconvert_exporter": "python",
   "pygments_lexer": "ipython3",
   "version": "3.9.7"
  }
 },
 "nbformat": 4,
 "nbformat_minor": 5
}
