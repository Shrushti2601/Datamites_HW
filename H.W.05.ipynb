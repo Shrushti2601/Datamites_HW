{
 "cells": [
  {
   "cell_type": "code",
   "execution_count": 1,
   "id": "0fbfd041",
   "metadata": {},
   "outputs": [
    {
     "name": "stdout",
     "output_type": "stream",
     "text": [
      "2\n",
      "4\n",
      "6\n",
      "8\n",
      "10\n",
      "12\n",
      "14\n",
      "16\n",
      "18\n",
      "20\n"
     ]
    }
   ],
   "source": [
    "#write a to print 10 even numbers\n",
    "num=2\n",
    "while(num<=20):\n",
    "    print(num)\n",
    "    num=num+2\n",
    "    \n",
    "\n"
   ]
  },
  {
   "cell_type": "code",
   "execution_count": 11,
   "id": "69f592b0",
   "metadata": {},
   "outputs": [
    {
     "name": "stdout",
     "output_type": "stream",
     "text": [
      "1 \t\t\t\t 1\n",
      "2 \t\t\t\t 4\n",
      "3 \t\t\t\t 9\n",
      "4 \t\t\t\t 16\n",
      "5 \t\t\t\t 25\n"
     ]
    }
   ],
   "source": [
    "num=1\n",
    "while(num<=5):\n",
    "    print(num,\"\\t\\t\\t\\t\",num**2)\n",
    "    num+=1"
   ]
  },
  {
   "cell_type": "code",
   "execution_count": 14,
   "id": "ca35993c",
   "metadata": {},
   "outputs": [
    {
     "name": "stdout",
     "output_type": "stream",
     "text": [
      "10\n",
      "20\n",
      "30\n",
      "40\n",
      "50\n",
      "60\n",
      "70\n",
      "80\n",
      "90\n",
      "100\n",
      "110\n",
      "120\n",
      "130\n",
      "140\n",
      "150\n",
      "160\n",
      "170\n",
      "180\n",
      "190\n",
      "200\n",
      "210\n",
      "220\n",
      "230\n",
      "240\n",
      "250\n",
      "260\n",
      "270\n",
      "280\n",
      "290\n",
      "300\n"
     ]
    }
   ],
   "source": [
    "num=10\n",
    "\n",
    "while(num<=300):\n",
    "    print(num)\n",
    "    num+=10"
   ]
  },
  {
   "cell_type": "code",
   "execution_count": 18,
   "id": "5031a3c1",
   "metadata": {},
   "outputs": [
    {
     "name": "stdout",
     "output_type": "stream",
     "text": [
      "105\n",
      "98\n",
      "91\n",
      "84\n",
      "77\n",
      "70\n",
      "63\n",
      "56\n",
      "49\n",
      "42\n",
      "35\n",
      "28\n",
      "21\n",
      "14\n",
      "7\n"
     ]
    }
   ],
   "source": [
    "num=105\n",
    "while(num>=7):\n",
    "    print(num)\n",
    "    num=num-7"
   ]
  },
  {
   "cell_type": "code",
   "execution_count": 19,
   "id": "33731f85",
   "metadata": {},
   "outputs": [
    {
     "name": "stdout",
     "output_type": "stream",
     "text": [
      "10\n",
      "9\n",
      "8\n",
      "7\n",
      "6\n",
      "5\n",
      "4\n",
      "3\n",
      "2\n",
      "1\n"
     ]
    }
   ],
   "source": [
    "# 1st 10 natural number in reverse oreder\n",
    "num=10\n",
    "while(num>=1):\n",
    "    print(num)\n",
    "    num-=1"
   ]
  },
  {
   "cell_type": "code",
   "execution_count": 23,
   "id": "1aae8f31",
   "metadata": {},
   "outputs": [
    {
     "name": "stdout",
     "output_type": "stream",
     "text": [
      "55\n"
     ]
    }
   ],
   "source": [
    "num=1\n",
    "sum=0\n",
    "while(num<=10):\n",
    "    sum=sum+num\n",
    "    num=num+1\n",
    "print(sum)"
   ]
  },
  {
   "cell_type": "code",
   "execution_count": 26,
   "id": "d37e590d",
   "metadata": {},
   "outputs": [
    {
     "name": "stdout",
     "output_type": "stream",
     "text": [
      "110\n"
     ]
    }
   ],
   "source": [
    "num=2\n",
    "sum=0\n",
    "while(num<=20):\n",
    "    sum=sum+num\n",
    "    num=num+2\n",
    "print(sum)"
   ]
  },
  {
   "cell_type": "code",
   "execution_count": 59,
   "id": "e891fe33",
   "metadata": {},
   "outputs": [
    {
     "name": "stdout",
     "output_type": "stream",
     "text": [
      "Enter a number: 88\n",
      "Not prime\n"
     ]
    }
   ],
   "source": [
    "num = int(input(\"Enter a number: \"))\n",
    "\n",
    "if num <= 1:\n",
    "    print(\"Not prime\")\n",
    "elif num == 2:\n",
    "    print(\"Prime\")\n",
    "else:\n",
    "    i = 2\n",
    "    while i<=num:\n",
    "        if num % i == 0:\n",
    "            print(\"Not prime\")\n",
    "            break\n",
    "        i += 1\n",
    "    else:\n",
    "        print(\"Prime\")\n"
   ]
  },
  {
   "cell_type": "code",
   "execution_count": 62,
   "id": "af75117a",
   "metadata": {},
   "outputs": [
    {
     "name": "stdout",
     "output_type": "stream",
     "text": [
      "enter valule153\n",
      "armstrong\n"
     ]
    }
   ],
   "source": [
    "#Armstrong\n",
    "num=input(\"enter valule\")\n",
    "p=0\n",
    "l=len(num)\n",
    "l1=list(num)\n",
    "i=0\n",
    "while(i<l):\n",
    "    p=p+int(l1[i])**3\n",
    "    i=i+1\n",
    "if int(num)==p:\n",
    "    print(\"armstrong\")\n",
    "else:\n",
    "    print(\"not\")"
   ]
  },
  {
   "cell_type": "code",
   "execution_count": 65,
   "id": "9e68fc64",
   "metadata": {},
   "outputs": [
    {
     "name": "stdout",
     "output_type": "stream",
     "text": [
      "1\n",
      "3\n",
      "5\n",
      "7\n",
      "9\n",
      "11\n",
      "13\n",
      "15\n",
      "17\n",
      "19\n"
     ]
    }
   ],
   "source": [
    "n=1\n",
    "i=1\n",
    "while(n<20):\n",
    "    print(n)\n",
    "    n=n+2"
   ]
  },
  {
   "cell_type": "code",
   "execution_count": 66,
   "id": "3566e328",
   "metadata": {},
   "outputs": [
    {
     "name": "stdout",
     "output_type": "stream",
     "text": [
      "1\n",
      "2\n",
      "3\n",
      "4\n",
      "5\n"
     ]
    }
   ],
   "source": [
    "#print i as long as i is less than 6\n",
    "i=1\n",
    "while i<6:\n",
    "    print(i)\n",
    "    i=i+1"
   ]
  },
  {
   "cell_type": "code",
   "execution_count": null,
   "id": "5d07d059",
   "metadata": {},
   "outputs": [],
   "source": []
  }
 ],
 "metadata": {
  "kernelspec": {
   "display_name": "Python 3 (ipykernel)",
   "language": "python",
   "name": "python3"
  },
  "language_info": {
   "codemirror_mode": {
    "name": "ipython",
    "version": 3
   },
   "file_extension": ".py",
   "mimetype": "text/x-python",
   "name": "python",
   "nbconvert_exporter": "python",
   "pygments_lexer": "ipython3",
   "version": "3.9.7"
  }
 },
 "nbformat": 4,
 "nbformat_minor": 5
}
