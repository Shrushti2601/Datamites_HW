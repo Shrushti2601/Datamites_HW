{
 "cells": [
  {
   "cell_type": "markdown",
   "id": "a5ad5a5d",
   "metadata": {},
   "source": [
    "1. Python function that prints a text"
   ]
  },
  {
   "cell_type": "code",
   "execution_count": 1,
   "id": "d6e239e5",
   "metadata": {},
   "outputs": [],
   "source": [
    "def print_text(x):\n",
    "    \n",
    "    print(x)\n",
    "    "
   ]
  },
  {
   "cell_type": "code",
   "execution_count": 3,
   "id": "5b2c655b",
   "metadata": {},
   "outputs": [
    {
     "name": "stdout",
     "output_type": "stream",
     "text": [
      "enter textshrushti\n",
      "shrushti\n"
     ]
    }
   ],
   "source": [
    "x=input(\"enter text\")\n",
    "print_text(x)\n"
   ]
  },
  {
   "cell_type": "markdown",
   "id": "2b523e31",
   "metadata": {},
   "source": [
    "2 .Python function that accepts two numbers as arguments and returns the sum"
   ]
  },
  {
   "cell_type": "code",
   "execution_count": 4,
   "id": "8f8bc624",
   "metadata": {},
   "outputs": [],
   "source": [
    "def print_sum(a,b):\n",
    "    c=a+b\n",
    "    return c"
   ]
  },
  {
   "cell_type": "code",
   "execution_count": 5,
   "id": "49d31841",
   "metadata": {},
   "outputs": [
    {
     "name": "stdout",
     "output_type": "stream",
     "text": [
      "enter number 1 2\n",
      "enter number 2 3\n"
     ]
    },
    {
     "data": {
      "text/plain": [
       "5"
      ]
     },
     "execution_count": 5,
     "metadata": {},
     "output_type": "execute_result"
    }
   ],
   "source": [
    "a=int(input(\"enter number 1 \"))\n",
    "b= int(input(\"enter number 2 \"))\n",
    "print_sum(a,b)"
   ]
  },
  {
   "cell_type": "markdown",
   "id": "79fae94c",
   "metadata": {},
   "source": [
    "3. Python function that accepts different values as parameters and returns a list"
   ]
  },
  {
   "cell_type": "code",
   "execution_count": 13,
   "id": "3a9b1f6d",
   "metadata": {},
   "outputs": [
    {
     "name": "stdout",
     "output_type": "stream",
     "text": [
      "[1, 'hello', [3, 4, 5], {'a': 6}]\n"
     ]
    }
   ],
   "source": [
    "def create_list(*args):\n",
    "\n",
    "    return list(args)\n",
    "\n",
    "\n",
    "result = create_list(1, 'hello', [3, 4, 5], {'a': 6})\n",
    "print(result)\n"
   ]
  },
  {
   "cell_type": "markdown",
   "id": "0e42b3c3",
   "metadata": {},
   "source": [
    "4. Python function that returns a dictionary"
   ]
  },
  {
   "cell_type": "code",
   "execution_count": 17,
   "id": "4aa0fd1d",
   "metadata": {},
   "outputs": [
    {
     "name": "stdout",
     "output_type": "stream",
     "text": [
      "{'a': 1, 'b': 2, 'c': 3}\n"
     ]
    }
   ],
   "source": [
    "def create_dictionary(res):\n",
    "   \n",
    "    return dict(res)\n",
    "\n",
    "p = [('a', 1), ('b', 2), ('c', 3)]\n",
    "res = create_dictionary(p)\n",
    "print(res) "
   ]
  },
  {
   "cell_type": "markdown",
   "id": "aa22da55",
   "metadata": {},
   "source": [
    "5 Python function that returns a tuple"
   ]
  },
  {
   "cell_type": "code",
   "execution_count": 18,
   "id": "8c4300e2",
   "metadata": {},
   "outputs": [
    {
     "name": "stdout",
     "output_type": "stream",
     "text": [
      "('a', 1, 'b', 2, 'c', 3)\n"
     ]
    }
   ],
   "source": [
    "def create_tuple(res):\n",
    "    \n",
    "   \n",
    "    return tuple(res)\n",
    "\n",
    "p = ['a', 1, 'b', 2, 'c', 3]\n",
    "res = create_tuple(p)\n",
    "print(res) "
   ]
  },
  {
   "cell_type": "markdown",
   "id": "caf2896f",
   "metadata": {},
   "source": [
    " 6 Python function that accepts a list as a parameter"
   ]
  },
  {
   "cell_type": "code",
   "execution_count": 19,
   "id": "4c6cdad0",
   "metadata": {},
   "outputs": [],
   "source": [
    "def print_list(l):\n",
    "    return l"
   ]
  },
  {
   "cell_type": "code",
   "execution_count": 20,
   "id": "f90e0778",
   "metadata": {},
   "outputs": [
    {
     "data": {
      "text/plain": [
       "[1, 1.2, 'shrushti', 'A']"
      ]
     },
     "execution_count": 20,
     "metadata": {},
     "output_type": "execute_result"
    }
   ],
   "source": [
    "l=[1,1.2,'shrushti','A']\n",
    "print_list(l)"
   ]
  },
  {
   "cell_type": "markdown",
   "id": "fa91907a",
   "metadata": {},
   "source": [
    "7. Python function that accepts a dictionary as a parameter"
   ]
  },
  {
   "cell_type": "code",
   "execution_count": 21,
   "id": "2d55888d",
   "metadata": {},
   "outputs": [],
   "source": [
    "def print_dic(d):\n",
    "    return d"
   ]
  },
  {
   "cell_type": "code",
   "execution_count": 22,
   "id": "9018b49c",
   "metadata": {},
   "outputs": [
    {
     "data": {
      "text/plain": [
       "{'a': 1, 'b': 2, 'c': 3}"
      ]
     },
     "execution_count": 22,
     "metadata": {},
     "output_type": "execute_result"
    }
   ],
   "source": [
    "d={'a':1,'b':2,'c':3}\n",
    "print_dic(d)"
   ]
  },
  {
   "cell_type": "markdown",
   "id": "92d38289",
   "metadata": {},
   "source": [
    "8. Python function using positional arguments"
   ]
  },
  {
   "cell_type": "markdown",
   "id": "3853caf5",
   "metadata": {},
   "source": [
    "Positional arguments in Python are the arguments passed to a function in a particular order. When you define a function, you can specify parameters that the function will accept. When you call the function, you pass arguments that correspond to these parameters in the same order. These arguments are called positional arguments because their positions (order) in the function call determine which parameter they are assigned to."
   ]
  },
  {
   "cell_type": "code",
   "execution_count": 29,
   "id": "035b35a1",
   "metadata": {},
   "outputs": [],
   "source": [
    "def postional_arg(name,age):\n",
    "    print(f\"Hello, {name}! You are {age} years old.\")"
   ]
  },
  {
   "cell_type": "code",
   "execution_count": 30,
   "id": "4785ab6f",
   "metadata": {},
   "outputs": [
    {
     "name": "stdout",
     "output_type": "stream",
     "text": [
      "Hello, shrushti! You are 20 years old.\n"
     ]
    }
   ],
   "source": [
    "a='shrushti'\n",
    "b=20\n",
    "postional_arg(a,b)"
   ]
  },
  {
   "cell_type": "markdown",
   "id": "db0f58c3",
   "metadata": {},
   "source": [
    "If you don't use an f-string (i.e., you don't use the f prefix), then the string will be treated as a regular string literal. In that case, any expressions or variables within the string will not be evaluated or substituted."
   ]
  },
  {
   "cell_type": "markdown",
   "id": "97f5434f",
   "metadata": {},
   "source": [
    "9. Python function using keyword arguments"
   ]
  },
  {
   "cell_type": "markdown",
   "id": "80595fda",
   "metadata": {},
   "source": [
    "Keyword arguments in Python are arguments that are passed to a function with a name-value pair syntax. They allow you to specify arguments by their parameter names, rather than relying solely on their positions in the argument list. This provides greater flexibility and readability, especially for functions that have many parameters."
   ]
  },
  {
   "cell_type": "code",
   "execution_count": 31,
   "id": "5dae812a",
   "metadata": {},
   "outputs": [],
   "source": [
    "def print_keyword(name,age):\n",
    "    print(name,age)"
   ]
  },
  {
   "cell_type": "code",
   "execution_count": 32,
   "id": "064fb640",
   "metadata": {},
   "outputs": [
    {
     "name": "stdout",
     "output_type": "stream",
     "text": [
      "shrushti 20\n"
     ]
    }
   ],
   "source": [
    "print_keyword(name='shrushti',age='20')"
   ]
  },
  {
   "cell_type": "markdown",
   "id": "28f0598f",
   "metadata": {},
   "source": [
    "10. Python function using default arguments"
   ]
  },
  {
   "cell_type": "code",
   "execution_count": null,
   "id": "5f57f58e",
   "metadata": {},
   "outputs": [],
   "source": []
  }
 ],
 "metadata": {
  "kernelspec": {
   "display_name": "Python 3 (ipykernel)",
   "language": "python",
   "name": "python3"
  },
  "language_info": {
   "codemirror_mode": {
    "name": "ipython",
    "version": 3
   },
   "file_extension": ".py",
   "mimetype": "text/x-python",
   "name": "python",
   "nbconvert_exporter": "python",
   "pygments_lexer": "ipython3",
   "version": "3.9.7"
  }
 },
 "nbformat": 4,
 "nbformat_minor": 5
}
